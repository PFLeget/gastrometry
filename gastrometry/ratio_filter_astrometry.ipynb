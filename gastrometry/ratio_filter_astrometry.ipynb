{
 "cells": [
  {
   "cell_type": "code",
   "execution_count": 10,
   "metadata": {},
   "outputs": [
    {
     "data": {
      "application/javascript": [
       "IPython.OutputArea.prototype._should_scroll = function(lines){\n",
       "    return false;\n",
       "}\n"
      ],
      "text/plain": [
       "<IPython.core.display.Javascript object>"
      ]
     },
     "metadata": {},
     "output_type": "display_data"
    }
   ],
   "source": [
    "%%javascript\n",
    "IPython.OutputArea.prototype._should_scroll = function(lines){\n",
    "    return false;\n",
    "}"
   ]
  },
  {
   "cell_type": "code",
   "execution_count": 47,
   "metadata": {},
   "outputs": [],
   "source": [
    "import pylab as plt\n",
    "import numpy as np\n",
    "import fitsio\n",
    "import os\n",
    "import glob\n",
    "from gastrometry import biweight_median\n",
    "from sklearn.decomposition import FactorAnalysis\n",
    "import warnings\n",
    "from iminuit import Minuit\n",
    "%matplotlib inline"
   ]
  },
  {
   "cell_type": "code",
   "execution_count": 58,
   "metadata": {},
   "outputs": [
    {
     "data": {
      "text/plain": [
       "array([ 7.94273512,  4.84785355,  9.12025245, ..., 10.36355789,\n",
       "        9.26907294, 13.27005212])"
      ]
     },
     "execution_count": 58,
     "metadata": {},
     "output_type": "execute_result"
    }
   ],
   "source": [
    "gm.wrms.reshape(-1)"
   ]
  },
  {
   "cell_type": "code",
   "execution_count": 68,
   "metadata": {},
   "outputs": [
    {
     "name": "stdout",
     "output_type": "stream",
     "text": [
      "../../hsc_outputs/v3.3/astro_VK/mean_function/all/mean_du_32_all.fits\n",
      "../../hsc_outputs/v3.3/astro_VK/mean_function/all/mean_du_33_all.fits\n",
      "../../hsc_outputs/v3.3/astro_VK/mean_function/all/mean_du_45_all.fits\n",
      "../../hsc_outputs/v3.3/astro_VK/mean_function/all/mean_du_44_all.fits\n",
      "../../hsc_outputs/v3.3/astro_VK/mean_function/all/mean_du_71_all.fits\n",
      "../../hsc_outputs/v3.3/astro_VK/mean_function/all/mean_du_70_all.fits\n"
     ]
    },
    {
     "name": "stderr",
     "output_type": "stream",
     "text": [
      "/Users/leget/software/anaconda3/lib/python3.7/site-packages/ipykernel_launcher.py:26: RuntimeWarning: invalid value encountered in greater\n",
      "/Users/leget/software/anaconda3/lib/python3.7/site-packages/ipykernel_launcher.py:26: RuntimeWarning: invalid value encountered in greater\n",
      "/Users/leget/software/anaconda3/lib/python3.7/site-packages/ipykernel_launcher.py:26: RuntimeWarning: invalid value encountered in greater\n",
      "/Users/leget/software/anaconda3/lib/python3.7/site-packages/ipykernel_launcher.py:26: RuntimeWarning: invalid value encountered in greater\n",
      "/Users/leget/software/anaconda3/lib/python3.7/site-packages/ipykernel_launcher.py:26: RuntimeWarning: invalid value encountered in greater\n",
      "/Users/leget/software/anaconda3/lib/python3.7/site-packages/ipykernel_launcher.py:26: RuntimeWarning: invalid value encountered in greater\n"
     ]
    },
    {
     "name": "stdout",
     "output_type": "stream",
     "text": [
      "../../hsc_outputs/v3.3/astro_VK/mean_function/all/mean_du_38_all.fits\n",
      "../../hsc_outputs/v3.3/astro_VK/mean_function/all/mean_du_39_all.fits\n",
      "../../hsc_outputs/v3.3/astro_VK/mean_function/all/mean_du_94_all.fits\n",
      "../../hsc_outputs/v3.3/astro_VK/mean_function/all/mean_du_95_all.fits\n",
      "../../hsc_outputs/v3.3/astro_VK/mean_function/all/mean_du_25_all.fits\n",
      "../../hsc_outputs/v3.3/astro_VK/mean_function/all/mean_du_102_all.fits\n",
      "../../hsc_outputs/v3.3/astro_VK/mean_function/all/mean_du_103_all.fits\n",
      "../../hsc_outputs/v3.3/astro_VK/mean_function/all/mean_du_24_all.fits\n"
     ]
    },
    {
     "name": "stderr",
     "output_type": "stream",
     "text": [
      "/Users/leget/software/anaconda3/lib/python3.7/site-packages/ipykernel_launcher.py:26: RuntimeWarning: invalid value encountered in greater\n",
      "/Users/leget/software/anaconda3/lib/python3.7/site-packages/ipykernel_launcher.py:26: RuntimeWarning: invalid value encountered in greater\n",
      "/Users/leget/software/anaconda3/lib/python3.7/site-packages/ipykernel_launcher.py:26: RuntimeWarning: invalid value encountered in greater\n",
      "/Users/leget/software/anaconda3/lib/python3.7/site-packages/ipykernel_launcher.py:26: RuntimeWarning: invalid value encountered in greater\n",
      "/Users/leget/software/anaconda3/lib/python3.7/site-packages/ipykernel_launcher.py:26: RuntimeWarning: invalid value encountered in greater\n",
      "/Users/leget/software/anaconda3/lib/python3.7/site-packages/ipykernel_launcher.py:26: RuntimeWarning: invalid value encountered in greater\n",
      "/Users/leget/software/anaconda3/lib/python3.7/site-packages/ipykernel_launcher.py:26: RuntimeWarning: invalid value encountered in greater\n",
      "/Users/leget/software/anaconda3/lib/python3.7/site-packages/ipykernel_launcher.py:26: RuntimeWarning: invalid value encountered in greater\n",
      "/Users/leget/software/anaconda3/lib/python3.7/site-packages/ipykernel_launcher.py:26: RuntimeWarning: invalid value encountered in greater\n",
      "/Users/leget/software/anaconda3/lib/python3.7/site-packages/ipykernel_launcher.py:26: RuntimeWarning: invalid value encountered in greater\n",
      "/Users/leget/software/anaconda3/lib/python3.7/site-packages/ipykernel_launcher.py:26: RuntimeWarning: invalid value encountered in greater\n",
      "/Users/leget/software/anaconda3/lib/python3.7/site-packages/ipykernel_launcher.py:26: RuntimeWarning: invalid value encountered in greater\n",
      "/Users/leget/software/anaconda3/lib/python3.7/site-packages/ipykernel_launcher.py:26: RuntimeWarning: invalid value encountered in greater\n",
      "/Users/leget/software/anaconda3/lib/python3.7/site-packages/ipykernel_launcher.py:26: RuntimeWarning: invalid value encountered in greater\n",
      "/Users/leget/software/anaconda3/lib/python3.7/site-packages/ipykernel_launcher.py:26: RuntimeWarning: invalid value encountered in greater\n"
     ]
    },
    {
     "name": "stdout",
     "output_type": "stream",
     "text": [
      "../../hsc_outputs/v3.3/astro_VK/mean_function/all/mean_du_8_all.fits\n",
      "../../hsc_outputs/v3.3/astro_VK/mean_function/all/mean_du_52_all.fits\n",
      "../../hsc_outputs/v3.3/astro_VK/mean_function/all/mean_du_53_all.fits\n",
      "../../hsc_outputs/v3.3/astro_VK/mean_function/all/mean_du_89_all.fits\n",
      "../../hsc_outputs/v3.3/astro_VK/mean_function/all/mean_du_88_all.fits\n",
      "../../hsc_outputs/v3.3/astro_VK/mean_function/all/mean_du_2_all.fits\n",
      "../../hsc_outputs/v3.3/astro_VK/mean_function/all/mean_du_3_all.fits\n",
      "../../hsc_outputs/v3.3/astro_VK/mean_function/all/mean_du_66_all.fits\n"
     ]
    },
    {
     "name": "stderr",
     "output_type": "stream",
     "text": [
      "/Users/leget/software/anaconda3/lib/python3.7/site-packages/ipykernel_launcher.py:26: RuntimeWarning: invalid value encountered in greater\n",
      "/Users/leget/software/anaconda3/lib/python3.7/site-packages/ipykernel_launcher.py:26: RuntimeWarning: invalid value encountered in greater\n",
      "/Users/leget/software/anaconda3/lib/python3.7/site-packages/ipykernel_launcher.py:26: RuntimeWarning: invalid value encountered in greater\n",
      "/Users/leget/software/anaconda3/lib/python3.7/site-packages/ipykernel_launcher.py:26: RuntimeWarning: invalid value encountered in greater\n",
      "/Users/leget/software/anaconda3/lib/python3.7/site-packages/ipykernel_launcher.py:26: RuntimeWarning: invalid value encountered in greater\n",
      "/Users/leget/software/anaconda3/lib/python3.7/site-packages/ipykernel_launcher.py:26: RuntimeWarning: invalid value encountered in greater\n",
      "/Users/leget/software/anaconda3/lib/python3.7/site-packages/ipykernel_launcher.py:26: RuntimeWarning: invalid value encountered in greater\n",
      "/Users/leget/software/anaconda3/lib/python3.7/site-packages/ipykernel_launcher.py:26: RuntimeWarning: invalid value encountered in greater\n",
      "/Users/leget/software/anaconda3/lib/python3.7/site-packages/ipykernel_launcher.py:26: RuntimeWarning: invalid value encountered in greater\n",
      "/Users/leget/software/anaconda3/lib/python3.7/site-packages/ipykernel_launcher.py:26: RuntimeWarning: invalid value encountered in greater\n"
     ]
    },
    {
     "name": "stdout",
     "output_type": "stream",
     "text": [
      "../../hsc_outputs/v3.3/astro_VK/mean_function/all/mean_du_67_all.fits\n",
      "../../hsc_outputs/v3.3/astro_VK/mean_function/all/mean_du_83_all.fits\n",
      "../../hsc_outputs/v3.3/astro_VK/mean_function/all/mean_du_82_all.fits\n",
      "../../hsc_outputs/v3.3/astro_VK/mean_function/all/mean_du_11_all.fits\n",
      "../../hsc_outputs/v3.3/astro_VK/mean_function/all/mean_du_10_all.fits\n",
      "../../hsc_outputs/v3.3/astro_VK/mean_function/all/mean_du_58_all.fits\n",
      "../../hsc_outputs/v3.3/astro_VK/mean_function/all/mean_du_59_all.fits\n",
      "../../hsc_outputs/v3.3/astro_VK/mean_function/all/mean_du_22_all.fits\n",
      "../../hsc_outputs/v3.3/astro_VK/mean_function/all/mean_du_23_all.fits\n",
      "../../hsc_outputs/v3.3/astro_VK/mean_function/all/mean_du_55_all.fits\n"
     ]
    },
    {
     "name": "stderr",
     "output_type": "stream",
     "text": [
      "/Users/leget/software/anaconda3/lib/python3.7/site-packages/ipykernel_launcher.py:26: RuntimeWarning: invalid value encountered in greater\n",
      "/Users/leget/software/anaconda3/lib/python3.7/site-packages/ipykernel_launcher.py:26: RuntimeWarning: invalid value encountered in greater\n",
      "/Users/leget/software/anaconda3/lib/python3.7/site-packages/ipykernel_launcher.py:26: RuntimeWarning: invalid value encountered in greater\n",
      "/Users/leget/software/anaconda3/lib/python3.7/site-packages/ipykernel_launcher.py:26: RuntimeWarning: invalid value encountered in greater\n",
      "/Users/leget/software/anaconda3/lib/python3.7/site-packages/ipykernel_launcher.py:26: RuntimeWarning: invalid value encountered in greater\n",
      "/Users/leget/software/anaconda3/lib/python3.7/site-packages/ipykernel_launcher.py:26: RuntimeWarning: invalid value encountered in greater\n",
      "/Users/leget/software/anaconda3/lib/python3.7/site-packages/ipykernel_launcher.py:26: RuntimeWarning: invalid value encountered in greater\n",
      "/Users/leget/software/anaconda3/lib/python3.7/site-packages/ipykernel_launcher.py:26: RuntimeWarning: invalid value encountered in greater\n",
      "/Users/leget/software/anaconda3/lib/python3.7/site-packages/ipykernel_launcher.py:26: RuntimeWarning: invalid value encountered in greater\n",
      "/Users/leget/software/anaconda3/lib/python3.7/site-packages/ipykernel_launcher.py:26: RuntimeWarning: invalid value encountered in greater\n"
     ]
    },
    {
     "name": "stdout",
     "output_type": "stream",
     "text": [
      "../../hsc_outputs/v3.3/astro_VK/mean_function/all/mean_du_54_all.fits\n",
      "../../hsc_outputs/v3.3/astro_VK/mean_function/all/mean_du_28_all.fits\n",
      "../../hsc_outputs/v3.3/astro_VK/mean_function/all/mean_du_29_all.fits\n",
      "../../hsc_outputs/v3.3/astro_VK/mean_function/all/mean_du_5_all.fits\n",
      "../../hsc_outputs/v3.3/astro_VK/mean_function/all/mean_du_4_all.fits\n",
      "../../hsc_outputs/v3.3/astro_VK/mean_function/all/mean_du_61_all.fits\n",
      "../../hsc_outputs/v3.3/astro_VK/mean_function/all/mean_du_60_all.fits\n",
      "../../hsc_outputs/v3.3/astro_VK/mean_function/all/mean_du_16_all.fits\n",
      "../../hsc_outputs/v3.3/astro_VK/mean_function/all/mean_du_17_all.fits\n",
      "../../hsc_outputs/v3.3/astro_VK/mean_function/all/mean_du_84_all.fits\n"
     ]
    },
    {
     "name": "stderr",
     "output_type": "stream",
     "text": [
      "/Users/leget/software/anaconda3/lib/python3.7/site-packages/ipykernel_launcher.py:26: RuntimeWarning: invalid value encountered in greater\n",
      "/Users/leget/software/anaconda3/lib/python3.7/site-packages/ipykernel_launcher.py:26: RuntimeWarning: invalid value encountered in greater\n",
      "/Users/leget/software/anaconda3/lib/python3.7/site-packages/ipykernel_launcher.py:26: RuntimeWarning: invalid value encountered in greater\n",
      "/Users/leget/software/anaconda3/lib/python3.7/site-packages/ipykernel_launcher.py:26: RuntimeWarning: invalid value encountered in greater\n",
      "/Users/leget/software/anaconda3/lib/python3.7/site-packages/ipykernel_launcher.py:26: RuntimeWarning: invalid value encountered in greater\n",
      "/Users/leget/software/anaconda3/lib/python3.7/site-packages/ipykernel_launcher.py:26: RuntimeWarning: invalid value encountered in greater\n",
      "/Users/leget/software/anaconda3/lib/python3.7/site-packages/ipykernel_launcher.py:26: RuntimeWarning: invalid value encountered in greater\n",
      "/Users/leget/software/anaconda3/lib/python3.7/site-packages/ipykernel_launcher.py:26: RuntimeWarning: invalid value encountered in greater\n",
      "/Users/leget/software/anaconda3/lib/python3.7/site-packages/ipykernel_launcher.py:26: RuntimeWarning: invalid value encountered in greater\n",
      "/Users/leget/software/anaconda3/lib/python3.7/site-packages/ipykernel_launcher.py:26: RuntimeWarning: invalid value encountered in greater\n",
      "/Users/leget/software/anaconda3/lib/python3.7/site-packages/ipykernel_launcher.py:26: RuntimeWarning: invalid value encountered in greater\n"
     ]
    },
    {
     "name": "stdout",
     "output_type": "stream",
     "text": [
      "../../hsc_outputs/v3.3/astro_VK/mean_function/all/mean_du_85_all.fits\n",
      "../../hsc_outputs/v3.3/astro_VK/mean_function/all/mean_du_35_all.fits\n",
      "../../hsc_outputs/v3.3/astro_VK/mean_function/all/mean_du_34_all.fits\n",
      "../../hsc_outputs/v3.3/astro_VK/mean_function/all/mean_du_99_all.fits\n",
      "../../hsc_outputs/v3.3/astro_VK/mean_function/all/mean_du_98_all.fits\n",
      "../../hsc_outputs/v3.3/astro_VK/mean_function/all/mean_du_42_all.fits\n",
      "../../hsc_outputs/v3.3/astro_VK/mean_function/all/mean_du_43_all.fits\n",
      "../../hsc_outputs/v3.3/astro_VK/mean_function/all/mean_du_76_all.fits\n",
      "../../hsc_outputs/v3.3/astro_VK/mean_function/all/mean_du_77_all.fits\n",
      "../../hsc_outputs/v3.3/astro_VK/mean_function/all/mean_du_48_all.fits\n",
      "../../hsc_outputs/v3.3/astro_VK/mean_function/all/mean_du_49_all.fits\n"
     ]
    },
    {
     "name": "stderr",
     "output_type": "stream",
     "text": [
      "/Users/leget/software/anaconda3/lib/python3.7/site-packages/ipykernel_launcher.py:26: RuntimeWarning: invalid value encountered in greater\n",
      "/Users/leget/software/anaconda3/lib/python3.7/site-packages/ipykernel_launcher.py:26: RuntimeWarning: invalid value encountered in greater\n",
      "/Users/leget/software/anaconda3/lib/python3.7/site-packages/ipykernel_launcher.py:26: RuntimeWarning: invalid value encountered in greater\n",
      "/Users/leget/software/anaconda3/lib/python3.7/site-packages/ipykernel_launcher.py:26: RuntimeWarning: invalid value encountered in greater\n",
      "/Users/leget/software/anaconda3/lib/python3.7/site-packages/ipykernel_launcher.py:26: RuntimeWarning: invalid value encountered in greater\n",
      "/Users/leget/software/anaconda3/lib/python3.7/site-packages/ipykernel_launcher.py:26: RuntimeWarning: invalid value encountered in greater\n",
      "/Users/leget/software/anaconda3/lib/python3.7/site-packages/ipykernel_launcher.py:26: RuntimeWarning: invalid value encountered in greater\n",
      "/Users/leget/software/anaconda3/lib/python3.7/site-packages/ipykernel_launcher.py:26: RuntimeWarning: invalid value encountered in greater\n",
      "/Users/leget/software/anaconda3/lib/python3.7/site-packages/ipykernel_launcher.py:26: RuntimeWarning: invalid value encountered in greater\n",
      "/Users/leget/software/anaconda3/lib/python3.7/site-packages/ipykernel_launcher.py:26: RuntimeWarning: invalid value encountered in greater\n",
      "/Users/leget/software/anaconda3/lib/python3.7/site-packages/ipykernel_launcher.py:26: RuntimeWarning: invalid value encountered in greater\n",
      "/Users/leget/software/anaconda3/lib/python3.7/site-packages/ipykernel_launcher.py:26: RuntimeWarning: invalid value encountered in greater\n",
      "/Users/leget/software/anaconda3/lib/python3.7/site-packages/ipykernel_launcher.py:26: RuntimeWarning: invalid value encountered in greater\n"
     ]
    },
    {
     "name": "stdout",
     "output_type": "stream",
     "text": [
      "../../hsc_outputs/v3.3/astro_VK/mean_function/all/mean_du_93_all.fits\n",
      "../../hsc_outputs/v3.3/astro_VK/mean_function/all/mean_du_92_all.fits\n",
      "../../hsc_outputs/v3.3/astro_VK/mean_function/all/mean_du_1_all.fits\n",
      "../../hsc_outputs/v3.3/astro_VK/mean_function/all/mean_du_65_all.fits\n",
      "../../hsc_outputs/v3.3/astro_VK/mean_function/all/mean_du_64_all.fits\n",
      "../../hsc_outputs/v3.3/astro_VK/mean_function/all/mean_du_80_all.fits\n",
      "../../hsc_outputs/v3.3/astro_VK/mean_function/all/mean_du_81_all.fits\n",
      "../../hsc_outputs/v3.3/astro_VK/mean_function/all/mean_du_12_all.fits\n",
      "../../hsc_outputs/v3.3/astro_VK/mean_function/all/mean_du_13_all.fits\n",
      "../../hsc_outputs/v3.3/astro_VK/mean_function/all/mean_du_26_all.fits\n",
      "../../hsc_outputs/v3.3/astro_VK/mean_function/all/mean_du_101_all.fits\n",
      "../../hsc_outputs/v3.3/astro_VK/mean_function/all/mean_du_100_all.fits\n",
      "../../hsc_outputs/v3.3/astro_VK/mean_function/all/mean_du_27_all.fits\n"
     ]
    },
    {
     "name": "stderr",
     "output_type": "stream",
     "text": [
      "/Users/leget/software/anaconda3/lib/python3.7/site-packages/ipykernel_launcher.py:26: RuntimeWarning: invalid value encountered in greater\n",
      "/Users/leget/software/anaconda3/lib/python3.7/site-packages/ipykernel_launcher.py:26: RuntimeWarning: invalid value encountered in greater\n",
      "/Users/leget/software/anaconda3/lib/python3.7/site-packages/ipykernel_launcher.py:26: RuntimeWarning: invalid value encountered in greater\n",
      "/Users/leget/software/anaconda3/lib/python3.7/site-packages/ipykernel_launcher.py:26: RuntimeWarning: invalid value encountered in greater\n",
      "/Users/leget/software/anaconda3/lib/python3.7/site-packages/ipykernel_launcher.py:26: RuntimeWarning: invalid value encountered in greater\n",
      "/Users/leget/software/anaconda3/lib/python3.7/site-packages/ipykernel_launcher.py:26: RuntimeWarning: invalid value encountered in greater\n",
      "/Users/leget/software/anaconda3/lib/python3.7/site-packages/ipykernel_launcher.py:26: RuntimeWarning: invalid value encountered in greater\n",
      "/Users/leget/software/anaconda3/lib/python3.7/site-packages/ipykernel_launcher.py:26: RuntimeWarning: invalid value encountered in greater\n",
      "/Users/leget/software/anaconda3/lib/python3.7/site-packages/ipykernel_launcher.py:26: RuntimeWarning: invalid value encountered in greater\n",
      "/Users/leget/software/anaconda3/lib/python3.7/site-packages/ipykernel_launcher.py:26: RuntimeWarning: invalid value encountered in greater\n",
      "/Users/leget/software/anaconda3/lib/python3.7/site-packages/ipykernel_launcher.py:26: RuntimeWarning: invalid value encountered in greater\n",
      "/Users/leget/software/anaconda3/lib/python3.7/site-packages/ipykernel_launcher.py:26: RuntimeWarning: invalid value encountered in greater\n",
      "/Users/leget/software/anaconda3/lib/python3.7/site-packages/ipykernel_launcher.py:26: RuntimeWarning: invalid value encountered in greater\n",
      "/Users/leget/software/anaconda3/lib/python3.7/site-packages/ipykernel_launcher.py:26: RuntimeWarning: invalid value encountered in greater\n"
     ]
    },
    {
     "name": "stdout",
     "output_type": "stream",
     "text": [
      "../../hsc_outputs/v3.3/astro_VK/mean_function/all/mean_du_51_all.fits\n",
      "../../hsc_outputs/v3.3/astro_VK/mean_function/all/mean_du_50_all.fits\n",
      "../../hsc_outputs/v3.3/astro_VK/mean_function/all/mean_du_18_all.fits\n",
      "../../hsc_outputs/v3.3/astro_VK/mean_function/all/mean_du_19_all.fits\n",
      "../../hsc_outputs/v3.3/astro_VK/mean_function/all/mean_du_72_all.fits\n",
      "../../hsc_outputs/v3.3/astro_VK/mean_function/all/mean_du_73_all.fits\n",
      "../../hsc_outputs/v3.3/astro_VK/mean_function/all/mean_du_97_all.fits\n",
      "../../hsc_outputs/v3.3/astro_VK/mean_function/all/mean_du_96_all.fits\n",
      "../../hsc_outputs/v3.3/astro_VK/mean_function/all/mean_du_31_all.fits\n",
      "../../hsc_outputs/v3.3/astro_VK/mean_function/all/mean_du_30_all.fits\n",
      "../../hsc_outputs/v3.3/astro_VK/mean_function/all/mean_du_78_all.fits\n",
      "../../hsc_outputs/v3.3/astro_VK/mean_function/all/mean_du_79_all.fits\n",
      "../../hsc_outputs/v3.3/astro_VK/mean_function/all/mean_du_46_all.fits\n",
      "../../hsc_outputs/v3.3/astro_VK/mean_function/all/mean_du_47_all.fits\n"
     ]
    },
    {
     "name": "stderr",
     "output_type": "stream",
     "text": [
      "/Users/leget/software/anaconda3/lib/python3.7/site-packages/ipykernel_launcher.py:26: RuntimeWarning: invalid value encountered in greater\n",
      "/Users/leget/software/anaconda3/lib/python3.7/site-packages/ipykernel_launcher.py:26: RuntimeWarning: invalid value encountered in greater\n",
      "/Users/leget/software/anaconda3/lib/python3.7/site-packages/ipykernel_launcher.py:26: RuntimeWarning: invalid value encountered in greater\n",
      "/Users/leget/software/anaconda3/lib/python3.7/site-packages/ipykernel_launcher.py:26: RuntimeWarning: invalid value encountered in greater\n",
      "/Users/leget/software/anaconda3/lib/python3.7/site-packages/ipykernel_launcher.py:26: RuntimeWarning: invalid value encountered in greater\n",
      "/Users/leget/software/anaconda3/lib/python3.7/site-packages/ipykernel_launcher.py:26: RuntimeWarning: invalid value encountered in greater\n",
      "/Users/leget/software/anaconda3/lib/python3.7/site-packages/ipykernel_launcher.py:26: RuntimeWarning: invalid value encountered in greater\n",
      "/Users/leget/software/anaconda3/lib/python3.7/site-packages/ipykernel_launcher.py:26: RuntimeWarning: invalid value encountered in greater\n",
      "/Users/leget/software/anaconda3/lib/python3.7/site-packages/ipykernel_launcher.py:26: RuntimeWarning: invalid value encountered in greater\n",
      "/Users/leget/software/anaconda3/lib/python3.7/site-packages/ipykernel_launcher.py:26: RuntimeWarning: invalid value encountered in greater\n",
      "/Users/leget/software/anaconda3/lib/python3.7/site-packages/ipykernel_launcher.py:26: RuntimeWarning: invalid value encountered in greater\n",
      "/Users/leget/software/anaconda3/lib/python3.7/site-packages/ipykernel_launcher.py:26: RuntimeWarning: invalid value encountered in greater\n"
     ]
    },
    {
     "name": "stdout",
     "output_type": "stream",
     "text": [
      "../../hsc_outputs/v3.3/astro_VK/mean_function/all/mean_du_75_all.fits\n",
      "../../hsc_outputs/v3.3/astro_VK/mean_function/all/mean_du_74_all.fits\n",
      "../../hsc_outputs/v3.3/astro_VK/mean_function/all/mean_du_90_all.fits\n",
      "../../hsc_outputs/v3.3/astro_VK/mean_function/all/mean_du_91_all.fits\n",
      "../../hsc_outputs/v3.3/astro_VK/mean_function/all/mean_du_36_all.fits\n",
      "../../hsc_outputs/v3.3/astro_VK/mean_function/all/mean_du_37_all.fits\n",
      "../../hsc_outputs/v3.3/astro_VK/mean_function/all/mean_du_41_all.fits\n",
      "../../hsc_outputs/v3.3/astro_VK/mean_function/all/mean_du_40_all.fits\n",
      "../../hsc_outputs/v3.3/astro_VK/mean_function/all/mean_du_6_all.fits\n",
      "../../hsc_outputs/v3.3/astro_VK/mean_function/all/mean_du_7_all.fits\n",
      "../../hsc_outputs/v3.3/astro_VK/mean_function/all/mean_du_62_all.fits\n",
      "../../hsc_outputs/v3.3/astro_VK/mean_function/all/mean_du_63_all.fits\n"
     ]
    },
    {
     "name": "stderr",
     "output_type": "stream",
     "text": [
      "/Users/leget/software/anaconda3/lib/python3.7/site-packages/ipykernel_launcher.py:26: RuntimeWarning: invalid value encountered in greater\n",
      "/Users/leget/software/anaconda3/lib/python3.7/site-packages/ipykernel_launcher.py:26: RuntimeWarning: invalid value encountered in greater\n",
      "/Users/leget/software/anaconda3/lib/python3.7/site-packages/ipykernel_launcher.py:26: RuntimeWarning: invalid value encountered in greater\n",
      "/Users/leget/software/anaconda3/lib/python3.7/site-packages/ipykernel_launcher.py:26: RuntimeWarning: invalid value encountered in greater\n",
      "/Users/leget/software/anaconda3/lib/python3.7/site-packages/ipykernel_launcher.py:26: RuntimeWarning: invalid value encountered in greater\n",
      "/Users/leget/software/anaconda3/lib/python3.7/site-packages/ipykernel_launcher.py:26: RuntimeWarning: invalid value encountered in greater\n",
      "/Users/leget/software/anaconda3/lib/python3.7/site-packages/ipykernel_launcher.py:26: RuntimeWarning: invalid value encountered in greater\n",
      "/Users/leget/software/anaconda3/lib/python3.7/site-packages/ipykernel_launcher.py:26: RuntimeWarning: invalid value encountered in greater\n",
      "/Users/leget/software/anaconda3/lib/python3.7/site-packages/ipykernel_launcher.py:26: RuntimeWarning: invalid value encountered in greater\n",
      "/Users/leget/software/anaconda3/lib/python3.7/site-packages/ipykernel_launcher.py:26: RuntimeWarning: invalid value encountered in greater\n",
      "/Users/leget/software/anaconda3/lib/python3.7/site-packages/ipykernel_launcher.py:26: RuntimeWarning: invalid value encountered in greater\n",
      "/Users/leget/software/anaconda3/lib/python3.7/site-packages/ipykernel_launcher.py:26: RuntimeWarning: invalid value encountered in greater\n",
      "/Users/leget/software/anaconda3/lib/python3.7/site-packages/ipykernel_launcher.py:26: RuntimeWarning: invalid value encountered in greater\n"
     ]
    },
    {
     "name": "stdout",
     "output_type": "stream",
     "text": [
      "../../hsc_outputs/v3.3/astro_VK/mean_function/all/mean_du_15_all.fits\n",
      "../../hsc_outputs/v3.3/astro_VK/mean_function/all/mean_du_14_all.fits\n",
      "../../hsc_outputs/v3.3/astro_VK/mean_function/all/mean_du_87_all.fits\n",
      "../../hsc_outputs/v3.3/astro_VK/mean_function/all/mean_du_86_all.fits\n",
      "../../hsc_outputs/v3.3/astro_VK/mean_function/all/mean_du_68_all.fits\n",
      "../../hsc_outputs/v3.3/astro_VK/mean_function/all/mean_du_69_all.fits\n",
      "../../hsc_outputs/v3.3/astro_VK/mean_function/all/mean_du_21_all.fits\n",
      "../../hsc_outputs/v3.3/astro_VK/mean_function/all/mean_du_20_all.fits\n",
      "../../hsc_outputs/v3.3/astro_VK/mean_function/all/mean_du_56_all.fits\n",
      "../../hsc_outputs/v3.3/astro_VK/mean_function/all/mean_du_57_all.fits\n",
      "../../hsc_outputs/v3.3/astro_VK/mean_function/all/mean_du_32_all.fits\n",
      "../../hsc_outputs/v3.3/astro_VK/mean_function/all/mean_du_33_all.fits\n",
      "../../hsc_outputs/v3.3/astro_VK/mean_function/all/mean_du_45_all.fits\n"
     ]
    },
    {
     "name": "stderr",
     "output_type": "stream",
     "text": [
      "/Users/leget/software/anaconda3/lib/python3.7/site-packages/ipykernel_launcher.py:26: RuntimeWarning: invalid value encountered in greater\n",
      "/Users/leget/software/anaconda3/lib/python3.7/site-packages/ipykernel_launcher.py:26: RuntimeWarning: invalid value encountered in greater\n",
      "/Users/leget/software/anaconda3/lib/python3.7/site-packages/ipykernel_launcher.py:26: RuntimeWarning: invalid value encountered in greater\n",
      "/Users/leget/software/anaconda3/lib/python3.7/site-packages/ipykernel_launcher.py:26: RuntimeWarning: invalid value encountered in greater\n",
      "/Users/leget/software/anaconda3/lib/python3.7/site-packages/ipykernel_launcher.py:26: RuntimeWarning: invalid value encountered in greater\n",
      "/Users/leget/software/anaconda3/lib/python3.7/site-packages/ipykernel_launcher.py:26: RuntimeWarning: invalid value encountered in greater\n",
      "/Users/leget/software/anaconda3/lib/python3.7/site-packages/ipykernel_launcher.py:26: RuntimeWarning: invalid value encountered in greater\n",
      "/Users/leget/software/anaconda3/lib/python3.7/site-packages/ipykernel_launcher.py:26: RuntimeWarning: invalid value encountered in greater\n",
      "/Users/leget/software/anaconda3/lib/python3.7/site-packages/ipykernel_launcher.py:26: RuntimeWarning: invalid value encountered in greater\n",
      "/Users/leget/software/anaconda3/lib/python3.7/site-packages/ipykernel_launcher.py:26: RuntimeWarning: invalid value encountered in greater\n",
      "/Users/leget/software/anaconda3/lib/python3.7/site-packages/ipykernel_launcher.py:26: RuntimeWarning: invalid value encountered in greater\n",
      "/Users/leget/software/anaconda3/lib/python3.7/site-packages/ipykernel_launcher.py:26: RuntimeWarning: invalid value encountered in greater\n"
     ]
    },
    {
     "name": "stdout",
     "output_type": "stream",
     "text": [
      "../../hsc_outputs/v3.3/astro_VK/mean_function/all/mean_du_44_all.fits\n",
      "../../hsc_outputs/v3.3/astro_VK/mean_function/all/mean_du_71_all.fits\n",
      "../../hsc_outputs/v3.3/astro_VK/mean_function/all/mean_du_70_all.fits\n",
      "../../hsc_outputs/v3.3/astro_VK/mean_function/all/mean_du_38_all.fits\n",
      "../../hsc_outputs/v3.3/astro_VK/mean_function/all/mean_du_39_all.fits\n",
      "../../hsc_outputs/v3.3/astro_VK/mean_function/all/mean_du_94_all.fits\n",
      "../../hsc_outputs/v3.3/astro_VK/mean_function/all/mean_du_95_all.fits\n",
      "../../hsc_outputs/v3.3/astro_VK/mean_function/all/mean_du_25_all.fits\n",
      "../../hsc_outputs/v3.3/astro_VK/mean_function/all/mean_du_102_all.fits\n",
      "../../hsc_outputs/v3.3/astro_VK/mean_function/all/mean_du_103_all.fits\n",
      "../../hsc_outputs/v3.3/astro_VK/mean_function/all/mean_du_24_all.fits\n",
      "../../hsc_outputs/v3.3/astro_VK/mean_function/all/mean_du_8_all.fits\n"
     ]
    },
    {
     "name": "stderr",
     "output_type": "stream",
     "text": [
      "/Users/leget/software/anaconda3/lib/python3.7/site-packages/ipykernel_launcher.py:26: RuntimeWarning: invalid value encountered in greater\n",
      "/Users/leget/software/anaconda3/lib/python3.7/site-packages/ipykernel_launcher.py:26: RuntimeWarning: invalid value encountered in greater\n",
      "/Users/leget/software/anaconda3/lib/python3.7/site-packages/ipykernel_launcher.py:26: RuntimeWarning: invalid value encountered in greater\n",
      "/Users/leget/software/anaconda3/lib/python3.7/site-packages/ipykernel_launcher.py:26: RuntimeWarning: invalid value encountered in greater\n",
      "/Users/leget/software/anaconda3/lib/python3.7/site-packages/ipykernel_launcher.py:26: RuntimeWarning: invalid value encountered in greater\n",
      "/Users/leget/software/anaconda3/lib/python3.7/site-packages/ipykernel_launcher.py:26: RuntimeWarning: invalid value encountered in greater\n",
      "/Users/leget/software/anaconda3/lib/python3.7/site-packages/ipykernel_launcher.py:26: RuntimeWarning: invalid value encountered in greater\n",
      "/Users/leget/software/anaconda3/lib/python3.7/site-packages/ipykernel_launcher.py:26: RuntimeWarning: invalid value encountered in greater\n",
      "/Users/leget/software/anaconda3/lib/python3.7/site-packages/ipykernel_launcher.py:26: RuntimeWarning: invalid value encountered in greater\n",
      "/Users/leget/software/anaconda3/lib/python3.7/site-packages/ipykernel_launcher.py:26: RuntimeWarning: invalid value encountered in greater\n",
      "/Users/leget/software/anaconda3/lib/python3.7/site-packages/ipykernel_launcher.py:26: RuntimeWarning: invalid value encountered in greater\n",
      "/Users/leget/software/anaconda3/lib/python3.7/site-packages/ipykernel_launcher.py:26: RuntimeWarning: invalid value encountered in greater\n",
      "/Users/leget/software/anaconda3/lib/python3.7/site-packages/ipykernel_launcher.py:26: RuntimeWarning: invalid value encountered in greater\n",
      "/Users/leget/software/anaconda3/lib/python3.7/site-packages/ipykernel_launcher.py:26: RuntimeWarning: invalid value encountered in greater\n"
     ]
    },
    {
     "name": "stdout",
     "output_type": "stream",
     "text": [
      "../../hsc_outputs/v3.3/astro_VK/mean_function/all/mean_du_52_all.fits\n",
      "../../hsc_outputs/v3.3/astro_VK/mean_function/all/mean_du_53_all.fits\n",
      "../../hsc_outputs/v3.3/astro_VK/mean_function/all/mean_du_89_all.fits\n",
      "../../hsc_outputs/v3.3/astro_VK/mean_function/all/mean_du_88_all.fits\n",
      "../../hsc_outputs/v3.3/astro_VK/mean_function/all/mean_du_2_all.fits\n",
      "../../hsc_outputs/v3.3/astro_VK/mean_function/all/mean_du_3_all.fits\n",
      "../../hsc_outputs/v3.3/astro_VK/mean_function/all/mean_du_66_all.fits\n",
      "../../hsc_outputs/v3.3/astro_VK/mean_function/all/mean_du_67_all.fits\n",
      "../../hsc_outputs/v3.3/astro_VK/mean_function/all/mean_du_83_all.fits\n",
      "../../hsc_outputs/v3.3/astro_VK/mean_function/all/mean_du_82_all.fits\n",
      "../../hsc_outputs/v3.3/astro_VK/mean_function/all/mean_du_11_all.fits\n",
      "../../hsc_outputs/v3.3/astro_VK/mean_function/all/mean_du_10_all.fits\n",
      "../../hsc_outputs/v3.3/astro_VK/mean_function/all/mean_du_58_all.fits\n",
      "../../hsc_outputs/v3.3/astro_VK/mean_function/all/mean_du_59_all.fits\n"
     ]
    },
    {
     "name": "stderr",
     "output_type": "stream",
     "text": [
      "/Users/leget/software/anaconda3/lib/python3.7/site-packages/ipykernel_launcher.py:26: RuntimeWarning: invalid value encountered in greater\n",
      "/Users/leget/software/anaconda3/lib/python3.7/site-packages/ipykernel_launcher.py:26: RuntimeWarning: invalid value encountered in greater\n",
      "/Users/leget/software/anaconda3/lib/python3.7/site-packages/ipykernel_launcher.py:26: RuntimeWarning: invalid value encountered in greater\n",
      "/Users/leget/software/anaconda3/lib/python3.7/site-packages/ipykernel_launcher.py:26: RuntimeWarning: invalid value encountered in greater\n",
      "/Users/leget/software/anaconda3/lib/python3.7/site-packages/ipykernel_launcher.py:26: RuntimeWarning: invalid value encountered in greater\n",
      "/Users/leget/software/anaconda3/lib/python3.7/site-packages/ipykernel_launcher.py:26: RuntimeWarning: invalid value encountered in greater\n",
      "/Users/leget/software/anaconda3/lib/python3.7/site-packages/ipykernel_launcher.py:26: RuntimeWarning: invalid value encountered in greater\n",
      "/Users/leget/software/anaconda3/lib/python3.7/site-packages/ipykernel_launcher.py:26: RuntimeWarning: invalid value encountered in greater\n",
      "/Users/leget/software/anaconda3/lib/python3.7/site-packages/ipykernel_launcher.py:26: RuntimeWarning: invalid value encountered in greater\n",
      "/Users/leget/software/anaconda3/lib/python3.7/site-packages/ipykernel_launcher.py:26: RuntimeWarning: invalid value encountered in greater\n",
      "/Users/leget/software/anaconda3/lib/python3.7/site-packages/ipykernel_launcher.py:26: RuntimeWarning: invalid value encountered in greater\n",
      "/Users/leget/software/anaconda3/lib/python3.7/site-packages/ipykernel_launcher.py:26: RuntimeWarning: invalid value encountered in greater\n"
     ]
    },
    {
     "name": "stdout",
     "output_type": "stream",
     "text": [
      "../../hsc_outputs/v3.3/astro_VK/mean_function/all/mean_du_22_all.fits\n",
      "../../hsc_outputs/v3.3/astro_VK/mean_function/all/mean_du_23_all.fits\n",
      "../../hsc_outputs/v3.3/astro_VK/mean_function/all/mean_du_55_all.fits\n",
      "../../hsc_outputs/v3.3/astro_VK/mean_function/all/mean_du_54_all.fits\n",
      "../../hsc_outputs/v3.3/astro_VK/mean_function/all/mean_du_28_all.fits\n",
      "../../hsc_outputs/v3.3/astro_VK/mean_function/all/mean_du_29_all.fits\n",
      "../../hsc_outputs/v3.3/astro_VK/mean_function/all/mean_du_5_all.fits\n",
      "../../hsc_outputs/v3.3/astro_VK/mean_function/all/mean_du_4_all.fits\n",
      "../../hsc_outputs/v3.3/astro_VK/mean_function/all/mean_du_61_all.fits\n",
      "../../hsc_outputs/v3.3/astro_VK/mean_function/all/mean_du_60_all.fits\n",
      "../../hsc_outputs/v3.3/astro_VK/mean_function/all/mean_du_16_all.fits\n",
      "../../hsc_outputs/v3.3/astro_VK/mean_function/all/mean_du_17_all.fits\n",
      "../../hsc_outputs/v3.3/astro_VK/mean_function/all/mean_du_84_all.fits\n",
      "../../hsc_outputs/v3.3/astro_VK/mean_function/all/mean_du_85_all.fits\n"
     ]
    },
    {
     "name": "stderr",
     "output_type": "stream",
     "text": [
      "/Users/leget/software/anaconda3/lib/python3.7/site-packages/ipykernel_launcher.py:26: RuntimeWarning: invalid value encountered in greater\n",
      "/Users/leget/software/anaconda3/lib/python3.7/site-packages/ipykernel_launcher.py:26: RuntimeWarning: invalid value encountered in greater\n",
      "/Users/leget/software/anaconda3/lib/python3.7/site-packages/ipykernel_launcher.py:26: RuntimeWarning: invalid value encountered in greater\n",
      "/Users/leget/software/anaconda3/lib/python3.7/site-packages/ipykernel_launcher.py:26: RuntimeWarning: invalid value encountered in greater\n",
      "/Users/leget/software/anaconda3/lib/python3.7/site-packages/ipykernel_launcher.py:26: RuntimeWarning: invalid value encountered in greater\n",
      "/Users/leget/software/anaconda3/lib/python3.7/site-packages/ipykernel_launcher.py:26: RuntimeWarning: invalid value encountered in greater\n",
      "/Users/leget/software/anaconda3/lib/python3.7/site-packages/ipykernel_launcher.py:26: RuntimeWarning: invalid value encountered in greater\n",
      "/Users/leget/software/anaconda3/lib/python3.7/site-packages/ipykernel_launcher.py:26: RuntimeWarning: invalid value encountered in greater\n",
      "/Users/leget/software/anaconda3/lib/python3.7/site-packages/ipykernel_launcher.py:26: RuntimeWarning: invalid value encountered in greater\n",
      "/Users/leget/software/anaconda3/lib/python3.7/site-packages/ipykernel_launcher.py:26: RuntimeWarning: invalid value encountered in greater\n",
      "/Users/leget/software/anaconda3/lib/python3.7/site-packages/ipykernel_launcher.py:26: RuntimeWarning: invalid value encountered in greater\n",
      "/Users/leget/software/anaconda3/lib/python3.7/site-packages/ipykernel_launcher.py:26: RuntimeWarning: invalid value encountered in greater\n",
      "/Users/leget/software/anaconda3/lib/python3.7/site-packages/ipykernel_launcher.py:26: RuntimeWarning: invalid value encountered in greater\n"
     ]
    },
    {
     "name": "stdout",
     "output_type": "stream",
     "text": [
      "../../hsc_outputs/v3.3/astro_VK/mean_function/all/mean_du_35_all.fits\n",
      "../../hsc_outputs/v3.3/astro_VK/mean_function/all/mean_du_34_all.fits\n",
      "../../hsc_outputs/v3.3/astro_VK/mean_function/all/mean_du_99_all.fits\n",
      "../../hsc_outputs/v3.3/astro_VK/mean_function/all/mean_du_98_all.fits\n",
      "../../hsc_outputs/v3.3/astro_VK/mean_function/all/mean_du_42_all.fits\n",
      "../../hsc_outputs/v3.3/astro_VK/mean_function/all/mean_du_43_all.fits\n",
      "../../hsc_outputs/v3.3/astro_VK/mean_function/all/mean_du_76_all.fits\n",
      "../../hsc_outputs/v3.3/astro_VK/mean_function/all/mean_du_77_all.fits\n",
      "../../hsc_outputs/v3.3/astro_VK/mean_function/all/mean_du_48_all.fits\n",
      "../../hsc_outputs/v3.3/astro_VK/mean_function/all/mean_du_49_all.fits\n",
      "../../hsc_outputs/v3.3/astro_VK/mean_function/all/mean_du_93_all.fits\n",
      "../../hsc_outputs/v3.3/astro_VK/mean_function/all/mean_du_92_all.fits\n",
      "../../hsc_outputs/v3.3/astro_VK/mean_function/all/mean_du_1_all.fits\n"
     ]
    },
    {
     "name": "stderr",
     "output_type": "stream",
     "text": [
      "/Users/leget/software/anaconda3/lib/python3.7/site-packages/ipykernel_launcher.py:26: RuntimeWarning: invalid value encountered in greater\n",
      "/Users/leget/software/anaconda3/lib/python3.7/site-packages/ipykernel_launcher.py:26: RuntimeWarning: invalid value encountered in greater\n",
      "/Users/leget/software/anaconda3/lib/python3.7/site-packages/ipykernel_launcher.py:26: RuntimeWarning: invalid value encountered in greater\n",
      "/Users/leget/software/anaconda3/lib/python3.7/site-packages/ipykernel_launcher.py:26: RuntimeWarning: invalid value encountered in greater\n",
      "/Users/leget/software/anaconda3/lib/python3.7/site-packages/ipykernel_launcher.py:26: RuntimeWarning: invalid value encountered in greater\n",
      "/Users/leget/software/anaconda3/lib/python3.7/site-packages/ipykernel_launcher.py:26: RuntimeWarning: invalid value encountered in greater\n",
      "/Users/leget/software/anaconda3/lib/python3.7/site-packages/ipykernel_launcher.py:26: RuntimeWarning: invalid value encountered in greater\n",
      "/Users/leget/software/anaconda3/lib/python3.7/site-packages/ipykernel_launcher.py:26: RuntimeWarning: invalid value encountered in greater\n",
      "/Users/leget/software/anaconda3/lib/python3.7/site-packages/ipykernel_launcher.py:26: RuntimeWarning: invalid value encountered in greater\n",
      "/Users/leget/software/anaconda3/lib/python3.7/site-packages/ipykernel_launcher.py:26: RuntimeWarning: invalid value encountered in greater\n",
      "/Users/leget/software/anaconda3/lib/python3.7/site-packages/ipykernel_launcher.py:26: RuntimeWarning: invalid value encountered in greater\n",
      "/Users/leget/software/anaconda3/lib/python3.7/site-packages/ipykernel_launcher.py:26: RuntimeWarning: invalid value encountered in greater\n",
      "/Users/leget/software/anaconda3/lib/python3.7/site-packages/ipykernel_launcher.py:26: RuntimeWarning: invalid value encountered in greater\n"
     ]
    },
    {
     "name": "stdout",
     "output_type": "stream",
     "text": [
      "../../hsc_outputs/v3.3/astro_VK/mean_function/all/mean_du_65_all.fits\n",
      "../../hsc_outputs/v3.3/astro_VK/mean_function/all/mean_du_64_all.fits\n",
      "../../hsc_outputs/v3.3/astro_VK/mean_function/all/mean_du_80_all.fits\n",
      "../../hsc_outputs/v3.3/astro_VK/mean_function/all/mean_du_81_all.fits\n",
      "../../hsc_outputs/v3.3/astro_VK/mean_function/all/mean_du_12_all.fits\n",
      "../../hsc_outputs/v3.3/astro_VK/mean_function/all/mean_du_13_all.fits\n",
      "../../hsc_outputs/v3.3/astro_VK/mean_function/all/mean_du_26_all.fits\n",
      "../../hsc_outputs/v3.3/astro_VK/mean_function/all/mean_du_101_all.fits\n",
      "../../hsc_outputs/v3.3/astro_VK/mean_function/all/mean_du_100_all.fits\n",
      "../../hsc_outputs/v3.3/astro_VK/mean_function/all/mean_du_27_all.fits\n",
      "../../hsc_outputs/v3.3/astro_VK/mean_function/all/mean_du_51_all.fits\n",
      "../../hsc_outputs/v3.3/astro_VK/mean_function/all/mean_du_50_all.fits\n",
      "../../hsc_outputs/v3.3/astro_VK/mean_function/all/mean_du_18_all.fits\n"
     ]
    },
    {
     "name": "stderr",
     "output_type": "stream",
     "text": [
      "/Users/leget/software/anaconda3/lib/python3.7/site-packages/ipykernel_launcher.py:26: RuntimeWarning: invalid value encountered in greater\n",
      "/Users/leget/software/anaconda3/lib/python3.7/site-packages/ipykernel_launcher.py:26: RuntimeWarning: invalid value encountered in greater\n",
      "/Users/leget/software/anaconda3/lib/python3.7/site-packages/ipykernel_launcher.py:26: RuntimeWarning: invalid value encountered in greater\n",
      "/Users/leget/software/anaconda3/lib/python3.7/site-packages/ipykernel_launcher.py:26: RuntimeWarning: invalid value encountered in greater\n",
      "/Users/leget/software/anaconda3/lib/python3.7/site-packages/ipykernel_launcher.py:26: RuntimeWarning: invalid value encountered in greater\n",
      "/Users/leget/software/anaconda3/lib/python3.7/site-packages/ipykernel_launcher.py:26: RuntimeWarning: invalid value encountered in greater\n",
      "/Users/leget/software/anaconda3/lib/python3.7/site-packages/ipykernel_launcher.py:26: RuntimeWarning: invalid value encountered in greater\n",
      "/Users/leget/software/anaconda3/lib/python3.7/site-packages/ipykernel_launcher.py:26: RuntimeWarning: invalid value encountered in greater\n",
      "/Users/leget/software/anaconda3/lib/python3.7/site-packages/ipykernel_launcher.py:26: RuntimeWarning: invalid value encountered in greater\n",
      "/Users/leget/software/anaconda3/lib/python3.7/site-packages/ipykernel_launcher.py:26: RuntimeWarning: invalid value encountered in greater\n",
      "/Users/leget/software/anaconda3/lib/python3.7/site-packages/ipykernel_launcher.py:26: RuntimeWarning: invalid value encountered in greater\n",
      "/Users/leget/software/anaconda3/lib/python3.7/site-packages/ipykernel_launcher.py:26: RuntimeWarning: invalid value encountered in greater\n",
      "/Users/leget/software/anaconda3/lib/python3.7/site-packages/ipykernel_launcher.py:26: RuntimeWarning: invalid value encountered in greater\n"
     ]
    },
    {
     "name": "stdout",
     "output_type": "stream",
     "text": [
      "../../hsc_outputs/v3.3/astro_VK/mean_function/all/mean_du_19_all.fits\n",
      "../../hsc_outputs/v3.3/astro_VK/mean_function/all/mean_du_72_all.fits\n",
      "../../hsc_outputs/v3.3/astro_VK/mean_function/all/mean_du_73_all.fits\n",
      "../../hsc_outputs/v3.3/astro_VK/mean_function/all/mean_du_97_all.fits\n",
      "../../hsc_outputs/v3.3/astro_VK/mean_function/all/mean_du_96_all.fits\n",
      "../../hsc_outputs/v3.3/astro_VK/mean_function/all/mean_du_31_all.fits\n",
      "../../hsc_outputs/v3.3/astro_VK/mean_function/all/mean_du_30_all.fits\n",
      "../../hsc_outputs/v3.3/astro_VK/mean_function/all/mean_du_78_all.fits\n",
      "../../hsc_outputs/v3.3/astro_VK/mean_function/all/mean_du_79_all.fits\n",
      "../../hsc_outputs/v3.3/astro_VK/mean_function/all/mean_du_46_all.fits\n",
      "../../hsc_outputs/v3.3/astro_VK/mean_function/all/mean_du_47_all.fits\n",
      "../../hsc_outputs/v3.3/astro_VK/mean_function/all/mean_du_75_all.fits\n",
      "../../hsc_outputs/v3.3/astro_VK/mean_function/all/mean_du_74_all.fits\n"
     ]
    },
    {
     "name": "stderr",
     "output_type": "stream",
     "text": [
      "/Users/leget/software/anaconda3/lib/python3.7/site-packages/ipykernel_launcher.py:26: RuntimeWarning: invalid value encountered in greater\n",
      "/Users/leget/software/anaconda3/lib/python3.7/site-packages/ipykernel_launcher.py:26: RuntimeWarning: invalid value encountered in greater\n",
      "/Users/leget/software/anaconda3/lib/python3.7/site-packages/ipykernel_launcher.py:26: RuntimeWarning: invalid value encountered in greater\n",
      "/Users/leget/software/anaconda3/lib/python3.7/site-packages/ipykernel_launcher.py:26: RuntimeWarning: invalid value encountered in greater\n",
      "/Users/leget/software/anaconda3/lib/python3.7/site-packages/ipykernel_launcher.py:26: RuntimeWarning: invalid value encountered in greater\n",
      "/Users/leget/software/anaconda3/lib/python3.7/site-packages/ipykernel_launcher.py:26: RuntimeWarning: invalid value encountered in greater\n",
      "/Users/leget/software/anaconda3/lib/python3.7/site-packages/ipykernel_launcher.py:26: RuntimeWarning: invalid value encountered in greater\n",
      "/Users/leget/software/anaconda3/lib/python3.7/site-packages/ipykernel_launcher.py:26: RuntimeWarning: invalid value encountered in greater\n",
      "/Users/leget/software/anaconda3/lib/python3.7/site-packages/ipykernel_launcher.py:26: RuntimeWarning: invalid value encountered in greater\n",
      "/Users/leget/software/anaconda3/lib/python3.7/site-packages/ipykernel_launcher.py:26: RuntimeWarning: invalid value encountered in greater\n",
      "/Users/leget/software/anaconda3/lib/python3.7/site-packages/ipykernel_launcher.py:26: RuntimeWarning: invalid value encountered in greater\n"
     ]
    },
    {
     "name": "stdout",
     "output_type": "stream",
     "text": [
      "../../hsc_outputs/v3.3/astro_VK/mean_function/all/mean_du_90_all.fits\n",
      "../../hsc_outputs/v3.3/astro_VK/mean_function/all/mean_du_91_all.fits\n",
      "../../hsc_outputs/v3.3/astro_VK/mean_function/all/mean_du_36_all.fits\n",
      "../../hsc_outputs/v3.3/astro_VK/mean_function/all/mean_du_37_all.fits\n",
      "../../hsc_outputs/v3.3/astro_VK/mean_function/all/mean_du_41_all.fits\n",
      "../../hsc_outputs/v3.3/astro_VK/mean_function/all/mean_du_40_all.fits\n",
      "../../hsc_outputs/v3.3/astro_VK/mean_function/all/mean_du_6_all.fits\n",
      "../../hsc_outputs/v3.3/astro_VK/mean_function/all/mean_du_7_all.fits\n",
      "../../hsc_outputs/v3.3/astro_VK/mean_function/all/mean_du_62_all.fits\n",
      "../../hsc_outputs/v3.3/astro_VK/mean_function/all/mean_du_63_all.fits\n",
      "../../hsc_outputs/v3.3/astro_VK/mean_function/all/mean_du_15_all.fits\n"
     ]
    },
    {
     "name": "stderr",
     "output_type": "stream",
     "text": [
      "/Users/leget/software/anaconda3/lib/python3.7/site-packages/ipykernel_launcher.py:26: RuntimeWarning: invalid value encountered in greater\n",
      "/Users/leget/software/anaconda3/lib/python3.7/site-packages/ipykernel_launcher.py:26: RuntimeWarning: invalid value encountered in greater\n",
      "/Users/leget/software/anaconda3/lib/python3.7/site-packages/ipykernel_launcher.py:26: RuntimeWarning: invalid value encountered in greater\n",
      "/Users/leget/software/anaconda3/lib/python3.7/site-packages/ipykernel_launcher.py:26: RuntimeWarning: invalid value encountered in greater\n",
      "/Users/leget/software/anaconda3/lib/python3.7/site-packages/ipykernel_launcher.py:26: RuntimeWarning: invalid value encountered in greater\n",
      "/Users/leget/software/anaconda3/lib/python3.7/site-packages/ipykernel_launcher.py:26: RuntimeWarning: invalid value encountered in greater\n",
      "/Users/leget/software/anaconda3/lib/python3.7/site-packages/ipykernel_launcher.py:26: RuntimeWarning: invalid value encountered in greater\n",
      "/Users/leget/software/anaconda3/lib/python3.7/site-packages/ipykernel_launcher.py:26: RuntimeWarning: invalid value encountered in greater\n",
      "/Users/leget/software/anaconda3/lib/python3.7/site-packages/ipykernel_launcher.py:26: RuntimeWarning: invalid value encountered in greater\n",
      "/Users/leget/software/anaconda3/lib/python3.7/site-packages/ipykernel_launcher.py:26: RuntimeWarning: invalid value encountered in greater\n",
      "/Users/leget/software/anaconda3/lib/python3.7/site-packages/ipykernel_launcher.py:26: RuntimeWarning: invalid value encountered in greater\n"
     ]
    },
    {
     "name": "stdout",
     "output_type": "stream",
     "text": [
      "../../hsc_outputs/v3.3/astro_VK/mean_function/all/mean_du_14_all.fits\n",
      "../../hsc_outputs/v3.3/astro_VK/mean_function/all/mean_du_87_all.fits\n",
      "../../hsc_outputs/v3.3/astro_VK/mean_function/all/mean_du_86_all.fits\n",
      "../../hsc_outputs/v3.3/astro_VK/mean_function/all/mean_du_68_all.fits\n",
      "../../hsc_outputs/v3.3/astro_VK/mean_function/all/mean_du_69_all.fits\n",
      "../../hsc_outputs/v3.3/astro_VK/mean_function/all/mean_du_21_all.fits\n",
      "../../hsc_outputs/v3.3/astro_VK/mean_function/all/mean_du_20_all.fits\n",
      "../../hsc_outputs/v3.3/astro_VK/mean_function/all/mean_du_56_all.fits\n",
      "../../hsc_outputs/v3.3/astro_VK/mean_function/all/mean_du_57_all.fits\n",
      "../../hsc_outputs/v3.3/astro_VK/mean_function/all/mean_du_32_all.fits\n",
      "../../hsc_outputs/v3.3/astro_VK/mean_function/all/mean_du_33_all.fits\n",
      "../../hsc_outputs/v3.3/astro_VK/mean_function/all/mean_du_45_all.fits\n"
     ]
    },
    {
     "name": "stderr",
     "output_type": "stream",
     "text": [
      "/Users/leget/software/anaconda3/lib/python3.7/site-packages/ipykernel_launcher.py:26: RuntimeWarning: invalid value encountered in greater\n",
      "/Users/leget/software/anaconda3/lib/python3.7/site-packages/ipykernel_launcher.py:26: RuntimeWarning: invalid value encountered in greater\n",
      "/Users/leget/software/anaconda3/lib/python3.7/site-packages/ipykernel_launcher.py:26: RuntimeWarning: invalid value encountered in greater\n",
      "/Users/leget/software/anaconda3/lib/python3.7/site-packages/ipykernel_launcher.py:26: RuntimeWarning: invalid value encountered in greater\n",
      "/Users/leget/software/anaconda3/lib/python3.7/site-packages/ipykernel_launcher.py:26: RuntimeWarning: invalid value encountered in greater\n",
      "/Users/leget/software/anaconda3/lib/python3.7/site-packages/ipykernel_launcher.py:26: RuntimeWarning: invalid value encountered in greater\n",
      "/Users/leget/software/anaconda3/lib/python3.7/site-packages/ipykernel_launcher.py:26: RuntimeWarning: invalid value encountered in greater\n",
      "/Users/leget/software/anaconda3/lib/python3.7/site-packages/ipykernel_launcher.py:26: RuntimeWarning: invalid value encountered in greater\n",
      "/Users/leget/software/anaconda3/lib/python3.7/site-packages/ipykernel_launcher.py:26: RuntimeWarning: invalid value encountered in greater\n",
      "/Users/leget/software/anaconda3/lib/python3.7/site-packages/ipykernel_launcher.py:26: RuntimeWarning: invalid value encountered in greater\n",
      "/Users/leget/software/anaconda3/lib/python3.7/site-packages/ipykernel_launcher.py:26: RuntimeWarning: invalid value encountered in greater\n",
      "/Users/leget/software/anaconda3/lib/python3.7/site-packages/ipykernel_launcher.py:26: RuntimeWarning: invalid value encountered in greater\n",
      "/Users/leget/software/anaconda3/lib/python3.7/site-packages/ipykernel_launcher.py:26: RuntimeWarning: invalid value encountered in greater\n",
      "/Users/leget/software/anaconda3/lib/python3.7/site-packages/ipykernel_launcher.py:26: RuntimeWarning: invalid value encountered in greater\n",
      "/Users/leget/software/anaconda3/lib/python3.7/site-packages/ipykernel_launcher.py:26: RuntimeWarning: invalid value encountered in greater\n"
     ]
    },
    {
     "name": "stdout",
     "output_type": "stream",
     "text": [
      "../../hsc_outputs/v3.3/astro_VK/mean_function/all/mean_du_44_all.fits\n",
      "../../hsc_outputs/v3.3/astro_VK/mean_function/all/mean_du_71_all.fits\n",
      "../../hsc_outputs/v3.3/astro_VK/mean_function/all/mean_du_70_all.fits\n",
      "../../hsc_outputs/v3.3/astro_VK/mean_function/all/mean_du_38_all.fits\n",
      "../../hsc_outputs/v3.3/astro_VK/mean_function/all/mean_du_39_all.fits\n",
      "../../hsc_outputs/v3.3/astro_VK/mean_function/all/mean_du_94_all.fits\n",
      "../../hsc_outputs/v3.3/astro_VK/mean_function/all/mean_du_95_all.fits\n",
      "../../hsc_outputs/v3.3/astro_VK/mean_function/all/mean_du_25_all.fits\n",
      "../../hsc_outputs/v3.3/astro_VK/mean_function/all/mean_du_102_all.fits\n",
      "../../hsc_outputs/v3.3/astro_VK/mean_function/all/mean_du_103_all.fits\n",
      "../../hsc_outputs/v3.3/astro_VK/mean_function/all/mean_du_24_all.fits\n",
      "../../hsc_outputs/v3.3/astro_VK/mean_function/all/mean_du_8_all.fits\n",
      "../../hsc_outputs/v3.3/astro_VK/mean_function/all/mean_du_52_all.fits\n",
      "../../hsc_outputs/v3.3/astro_VK/mean_function/all/mean_du_53_all.fits\n",
      "../../hsc_outputs/v3.3/astro_VK/mean_function/all/mean_du_89_all.fits\n",
      "../../hsc_outputs/v3.3/astro_VK/mean_function/all/mean_du_88_all.fits\n"
     ]
    },
    {
     "name": "stderr",
     "output_type": "stream",
     "text": [
      "/Users/leget/software/anaconda3/lib/python3.7/site-packages/ipykernel_launcher.py:26: RuntimeWarning: invalid value encountered in greater\n",
      "/Users/leget/software/anaconda3/lib/python3.7/site-packages/ipykernel_launcher.py:26: RuntimeWarning: invalid value encountered in greater\n",
      "/Users/leget/software/anaconda3/lib/python3.7/site-packages/ipykernel_launcher.py:26: RuntimeWarning: invalid value encountered in greater\n",
      "/Users/leget/software/anaconda3/lib/python3.7/site-packages/ipykernel_launcher.py:26: RuntimeWarning: invalid value encountered in greater\n",
      "/Users/leget/software/anaconda3/lib/python3.7/site-packages/ipykernel_launcher.py:26: RuntimeWarning: invalid value encountered in greater\n",
      "/Users/leget/software/anaconda3/lib/python3.7/site-packages/ipykernel_launcher.py:26: RuntimeWarning: invalid value encountered in greater\n",
      "/Users/leget/software/anaconda3/lib/python3.7/site-packages/ipykernel_launcher.py:26: RuntimeWarning: invalid value encountered in greater\n",
      "/Users/leget/software/anaconda3/lib/python3.7/site-packages/ipykernel_launcher.py:26: RuntimeWarning: invalid value encountered in greater\n",
      "/Users/leget/software/anaconda3/lib/python3.7/site-packages/ipykernel_launcher.py:26: RuntimeWarning: invalid value encountered in greater\n",
      "/Users/leget/software/anaconda3/lib/python3.7/site-packages/ipykernel_launcher.py:26: RuntimeWarning: invalid value encountered in greater\n",
      "/Users/leget/software/anaconda3/lib/python3.7/site-packages/ipykernel_launcher.py:26: RuntimeWarning: invalid value encountered in greater\n",
      "/Users/leget/software/anaconda3/lib/python3.7/site-packages/ipykernel_launcher.py:26: RuntimeWarning: invalid value encountered in greater\n",
      "/Users/leget/software/anaconda3/lib/python3.7/site-packages/ipykernel_launcher.py:26: RuntimeWarning: invalid value encountered in greater\n",
      "/Users/leget/software/anaconda3/lib/python3.7/site-packages/ipykernel_launcher.py:26: RuntimeWarning: invalid value encountered in greater\n",
      "/Users/leget/software/anaconda3/lib/python3.7/site-packages/ipykernel_launcher.py:26: RuntimeWarning: invalid value encountered in greater\n",
      "/Users/leget/software/anaconda3/lib/python3.7/site-packages/ipykernel_launcher.py:26: RuntimeWarning: invalid value encountered in greater\n"
     ]
    },
    {
     "name": "stdout",
     "output_type": "stream",
     "text": [
      "../../hsc_outputs/v3.3/astro_VK/mean_function/all/mean_du_2_all.fits\n",
      "../../hsc_outputs/v3.3/astro_VK/mean_function/all/mean_du_3_all.fits\n",
      "../../hsc_outputs/v3.3/astro_VK/mean_function/all/mean_du_66_all.fits\n",
      "../../hsc_outputs/v3.3/astro_VK/mean_function/all/mean_du_67_all.fits\n",
      "../../hsc_outputs/v3.3/astro_VK/mean_function/all/mean_du_83_all.fits\n",
      "../../hsc_outputs/v3.3/astro_VK/mean_function/all/mean_du_82_all.fits\n",
      "../../hsc_outputs/v3.3/astro_VK/mean_function/all/mean_du_11_all.fits\n",
      "../../hsc_outputs/v3.3/astro_VK/mean_function/all/mean_du_10_all.fits\n",
      "../../hsc_outputs/v3.3/astro_VK/mean_function/all/mean_du_58_all.fits\n",
      "../../hsc_outputs/v3.3/astro_VK/mean_function/all/mean_du_59_all.fits\n",
      "../../hsc_outputs/v3.3/astro_VK/mean_function/all/mean_du_22_all.fits\n",
      "../../hsc_outputs/v3.3/astro_VK/mean_function/all/mean_du_23_all.fits\n",
      "../../hsc_outputs/v3.3/astro_VK/mean_function/all/mean_du_55_all.fits\n",
      "../../hsc_outputs/v3.3/astro_VK/mean_function/all/mean_du_54_all.fits\n",
      "../../hsc_outputs/v3.3/astro_VK/mean_function/all/mean_du_28_all.fits\n",
      "../../hsc_outputs/v3.3/astro_VK/mean_function/all/mean_du_29_all.fits\n"
     ]
    },
    {
     "name": "stderr",
     "output_type": "stream",
     "text": [
      "/Users/leget/software/anaconda3/lib/python3.7/site-packages/ipykernel_launcher.py:26: RuntimeWarning: invalid value encountered in greater\n",
      "/Users/leget/software/anaconda3/lib/python3.7/site-packages/ipykernel_launcher.py:26: RuntimeWarning: invalid value encountered in greater\n",
      "/Users/leget/software/anaconda3/lib/python3.7/site-packages/ipykernel_launcher.py:26: RuntimeWarning: invalid value encountered in greater\n",
      "/Users/leget/software/anaconda3/lib/python3.7/site-packages/ipykernel_launcher.py:26: RuntimeWarning: invalid value encountered in greater\n",
      "/Users/leget/software/anaconda3/lib/python3.7/site-packages/ipykernel_launcher.py:26: RuntimeWarning: invalid value encountered in greater\n",
      "/Users/leget/software/anaconda3/lib/python3.7/site-packages/ipykernel_launcher.py:26: RuntimeWarning: invalid value encountered in greater\n",
      "/Users/leget/software/anaconda3/lib/python3.7/site-packages/ipykernel_launcher.py:26: RuntimeWarning: invalid value encountered in greater\n",
      "/Users/leget/software/anaconda3/lib/python3.7/site-packages/ipykernel_launcher.py:26: RuntimeWarning: invalid value encountered in greater\n",
      "/Users/leget/software/anaconda3/lib/python3.7/site-packages/ipykernel_launcher.py:26: RuntimeWarning: invalid value encountered in greater\n",
      "/Users/leget/software/anaconda3/lib/python3.7/site-packages/ipykernel_launcher.py:26: RuntimeWarning: invalid value encountered in greater\n",
      "/Users/leget/software/anaconda3/lib/python3.7/site-packages/ipykernel_launcher.py:26: RuntimeWarning: invalid value encountered in greater\n",
      "/Users/leget/software/anaconda3/lib/python3.7/site-packages/ipykernel_launcher.py:26: RuntimeWarning: invalid value encountered in greater\n",
      "/Users/leget/software/anaconda3/lib/python3.7/site-packages/ipykernel_launcher.py:26: RuntimeWarning: invalid value encountered in greater\n",
      "/Users/leget/software/anaconda3/lib/python3.7/site-packages/ipykernel_launcher.py:26: RuntimeWarning: invalid value encountered in greater\n"
     ]
    },
    {
     "name": "stdout",
     "output_type": "stream",
     "text": [
      "../../hsc_outputs/v3.3/astro_VK/mean_function/all/mean_du_5_all.fits\n",
      "../../hsc_outputs/v3.3/astro_VK/mean_function/all/mean_du_4_all.fits\n",
      "../../hsc_outputs/v3.3/astro_VK/mean_function/all/mean_du_61_all.fits\n",
      "../../hsc_outputs/v3.3/astro_VK/mean_function/all/mean_du_60_all.fits\n",
      "../../hsc_outputs/v3.3/astro_VK/mean_function/all/mean_du_16_all.fits\n",
      "../../hsc_outputs/v3.3/astro_VK/mean_function/all/mean_du_17_all.fits\n",
      "../../hsc_outputs/v3.3/astro_VK/mean_function/all/mean_du_84_all.fits\n",
      "../../hsc_outputs/v3.3/astro_VK/mean_function/all/mean_du_85_all.fits\n",
      "../../hsc_outputs/v3.3/astro_VK/mean_function/all/mean_du_35_all.fits\n",
      "../../hsc_outputs/v3.3/astro_VK/mean_function/all/mean_du_34_all.fits\n",
      "../../hsc_outputs/v3.3/astro_VK/mean_function/all/mean_du_99_all.fits\n",
      "../../hsc_outputs/v3.3/astro_VK/mean_function/all/mean_du_98_all.fits\n",
      "../../hsc_outputs/v3.3/astro_VK/mean_function/all/mean_du_42_all.fits\n",
      "../../hsc_outputs/v3.3/astro_VK/mean_function/all/mean_du_43_all.fits\n"
     ]
    },
    {
     "name": "stderr",
     "output_type": "stream",
     "text": [
      "/Users/leget/software/anaconda3/lib/python3.7/site-packages/ipykernel_launcher.py:26: RuntimeWarning: invalid value encountered in greater\n",
      "/Users/leget/software/anaconda3/lib/python3.7/site-packages/ipykernel_launcher.py:26: RuntimeWarning: invalid value encountered in greater\n",
      "/Users/leget/software/anaconda3/lib/python3.7/site-packages/ipykernel_launcher.py:26: RuntimeWarning: invalid value encountered in greater\n",
      "/Users/leget/software/anaconda3/lib/python3.7/site-packages/ipykernel_launcher.py:26: RuntimeWarning: invalid value encountered in greater\n",
      "/Users/leget/software/anaconda3/lib/python3.7/site-packages/ipykernel_launcher.py:26: RuntimeWarning: invalid value encountered in greater\n",
      "/Users/leget/software/anaconda3/lib/python3.7/site-packages/ipykernel_launcher.py:26: RuntimeWarning: invalid value encountered in greater\n",
      "/Users/leget/software/anaconda3/lib/python3.7/site-packages/ipykernel_launcher.py:26: RuntimeWarning: invalid value encountered in greater\n",
      "/Users/leget/software/anaconda3/lib/python3.7/site-packages/ipykernel_launcher.py:26: RuntimeWarning: invalid value encountered in greater\n",
      "/Users/leget/software/anaconda3/lib/python3.7/site-packages/ipykernel_launcher.py:26: RuntimeWarning: invalid value encountered in greater\n",
      "/Users/leget/software/anaconda3/lib/python3.7/site-packages/ipykernel_launcher.py:26: RuntimeWarning: invalid value encountered in greater\n",
      "/Users/leget/software/anaconda3/lib/python3.7/site-packages/ipykernel_launcher.py:26: RuntimeWarning: invalid value encountered in greater\n",
      "/Users/leget/software/anaconda3/lib/python3.7/site-packages/ipykernel_launcher.py:26: RuntimeWarning: invalid value encountered in greater\n",
      "/Users/leget/software/anaconda3/lib/python3.7/site-packages/ipykernel_launcher.py:26: RuntimeWarning: invalid value encountered in greater\n",
      "/Users/leget/software/anaconda3/lib/python3.7/site-packages/ipykernel_launcher.py:26: RuntimeWarning: invalid value encountered in greater\n",
      "/Users/leget/software/anaconda3/lib/python3.7/site-packages/ipykernel_launcher.py:26: RuntimeWarning: invalid value encountered in greater\n",
      "/Users/leget/software/anaconda3/lib/python3.7/site-packages/ipykernel_launcher.py:26: RuntimeWarning: invalid value encountered in greater\n"
     ]
    },
    {
     "name": "stdout",
     "output_type": "stream",
     "text": [
      "../../hsc_outputs/v3.3/astro_VK/mean_function/all/mean_du_76_all.fits\n",
      "../../hsc_outputs/v3.3/astro_VK/mean_function/all/mean_du_77_all.fits\n",
      "../../hsc_outputs/v3.3/astro_VK/mean_function/all/mean_du_48_all.fits\n",
      "../../hsc_outputs/v3.3/astro_VK/mean_function/all/mean_du_49_all.fits\n",
      "../../hsc_outputs/v3.3/astro_VK/mean_function/all/mean_du_93_all.fits\n",
      "../../hsc_outputs/v3.3/astro_VK/mean_function/all/mean_du_92_all.fits\n",
      "../../hsc_outputs/v3.3/astro_VK/mean_function/all/mean_du_1_all.fits\n",
      "../../hsc_outputs/v3.3/astro_VK/mean_function/all/mean_du_65_all.fits\n",
      "../../hsc_outputs/v3.3/astro_VK/mean_function/all/mean_du_64_all.fits\n",
      "../../hsc_outputs/v3.3/astro_VK/mean_function/all/mean_du_80_all.fits\n",
      "../../hsc_outputs/v3.3/astro_VK/mean_function/all/mean_du_81_all.fits\n",
      "../../hsc_outputs/v3.3/astro_VK/mean_function/all/mean_du_12_all.fits\n",
      "../../hsc_outputs/v3.3/astro_VK/mean_function/all/mean_du_13_all.fits\n",
      "../../hsc_outputs/v3.3/astro_VK/mean_function/all/mean_du_26_all.fits\n",
      "../../hsc_outputs/v3.3/astro_VK/mean_function/all/mean_du_101_all.fits\n",
      "../../hsc_outputs/v3.3/astro_VK/mean_function/all/mean_du_100_all.fits\n"
     ]
    },
    {
     "name": "stderr",
     "output_type": "stream",
     "text": [
      "/Users/leget/software/anaconda3/lib/python3.7/site-packages/ipykernel_launcher.py:26: RuntimeWarning: invalid value encountered in greater\n",
      "/Users/leget/software/anaconda3/lib/python3.7/site-packages/ipykernel_launcher.py:26: RuntimeWarning: invalid value encountered in greater\n",
      "/Users/leget/software/anaconda3/lib/python3.7/site-packages/ipykernel_launcher.py:26: RuntimeWarning: invalid value encountered in greater\n",
      "/Users/leget/software/anaconda3/lib/python3.7/site-packages/ipykernel_launcher.py:26: RuntimeWarning: invalid value encountered in greater\n",
      "/Users/leget/software/anaconda3/lib/python3.7/site-packages/ipykernel_launcher.py:26: RuntimeWarning: invalid value encountered in greater\n",
      "/Users/leget/software/anaconda3/lib/python3.7/site-packages/ipykernel_launcher.py:26: RuntimeWarning: invalid value encountered in greater\n",
      "/Users/leget/software/anaconda3/lib/python3.7/site-packages/ipykernel_launcher.py:26: RuntimeWarning: invalid value encountered in greater\n",
      "/Users/leget/software/anaconda3/lib/python3.7/site-packages/ipykernel_launcher.py:26: RuntimeWarning: invalid value encountered in greater\n",
      "/Users/leget/software/anaconda3/lib/python3.7/site-packages/ipykernel_launcher.py:26: RuntimeWarning: invalid value encountered in greater\n",
      "/Users/leget/software/anaconda3/lib/python3.7/site-packages/ipykernel_launcher.py:26: RuntimeWarning: invalid value encountered in greater\n",
      "/Users/leget/software/anaconda3/lib/python3.7/site-packages/ipykernel_launcher.py:26: RuntimeWarning: invalid value encountered in greater\n",
      "/Users/leget/software/anaconda3/lib/python3.7/site-packages/ipykernel_launcher.py:26: RuntimeWarning: invalid value encountered in greater\n",
      "/Users/leget/software/anaconda3/lib/python3.7/site-packages/ipykernel_launcher.py:26: RuntimeWarning: invalid value encountered in greater\n",
      "/Users/leget/software/anaconda3/lib/python3.7/site-packages/ipykernel_launcher.py:26: RuntimeWarning: invalid value encountered in greater\n",
      "/Users/leget/software/anaconda3/lib/python3.7/site-packages/ipykernel_launcher.py:26: RuntimeWarning: invalid value encountered in greater\n",
      "/Users/leget/software/anaconda3/lib/python3.7/site-packages/ipykernel_launcher.py:26: RuntimeWarning: invalid value encountered in greater\n"
     ]
    },
    {
     "name": "stdout",
     "output_type": "stream",
     "text": [
      "../../hsc_outputs/v3.3/astro_VK/mean_function/all/mean_du_27_all.fits\n",
      "../../hsc_outputs/v3.3/astro_VK/mean_function/all/mean_du_51_all.fits\n",
      "../../hsc_outputs/v3.3/astro_VK/mean_function/all/mean_du_50_all.fits\n",
      "../../hsc_outputs/v3.3/astro_VK/mean_function/all/mean_du_18_all.fits\n",
      "../../hsc_outputs/v3.3/astro_VK/mean_function/all/mean_du_19_all.fits\n",
      "../../hsc_outputs/v3.3/astro_VK/mean_function/all/mean_du_72_all.fits\n",
      "../../hsc_outputs/v3.3/astro_VK/mean_function/all/mean_du_73_all.fits\n",
      "../../hsc_outputs/v3.3/astro_VK/mean_function/all/mean_du_97_all.fits\n",
      "../../hsc_outputs/v3.3/astro_VK/mean_function/all/mean_du_96_all.fits\n",
      "../../hsc_outputs/v3.3/astro_VK/mean_function/all/mean_du_31_all.fits\n",
      "../../hsc_outputs/v3.3/astro_VK/mean_function/all/mean_du_30_all.fits\n",
      "../../hsc_outputs/v3.3/astro_VK/mean_function/all/mean_du_78_all.fits\n",
      "../../hsc_outputs/v3.3/astro_VK/mean_function/all/mean_du_79_all.fits\n",
      "../../hsc_outputs/v3.3/astro_VK/mean_function/all/mean_du_46_all.fits\n",
      "../../hsc_outputs/v3.3/astro_VK/mean_function/all/mean_du_47_all.fits\n",
      "../../hsc_outputs/v3.3/astro_VK/mean_function/all/mean_du_75_all.fits\n"
     ]
    },
    {
     "name": "stderr",
     "output_type": "stream",
     "text": [
      "/Users/leget/software/anaconda3/lib/python3.7/site-packages/ipykernel_launcher.py:26: RuntimeWarning: invalid value encountered in greater\n",
      "/Users/leget/software/anaconda3/lib/python3.7/site-packages/ipykernel_launcher.py:26: RuntimeWarning: invalid value encountered in greater\n",
      "/Users/leget/software/anaconda3/lib/python3.7/site-packages/ipykernel_launcher.py:26: RuntimeWarning: invalid value encountered in greater\n",
      "/Users/leget/software/anaconda3/lib/python3.7/site-packages/ipykernel_launcher.py:26: RuntimeWarning: invalid value encountered in greater\n",
      "/Users/leget/software/anaconda3/lib/python3.7/site-packages/ipykernel_launcher.py:26: RuntimeWarning: invalid value encountered in greater\n",
      "/Users/leget/software/anaconda3/lib/python3.7/site-packages/ipykernel_launcher.py:26: RuntimeWarning: invalid value encountered in greater\n",
      "/Users/leget/software/anaconda3/lib/python3.7/site-packages/ipykernel_launcher.py:26: RuntimeWarning: invalid value encountered in greater\n",
      "/Users/leget/software/anaconda3/lib/python3.7/site-packages/ipykernel_launcher.py:26: RuntimeWarning: invalid value encountered in greater\n",
      "/Users/leget/software/anaconda3/lib/python3.7/site-packages/ipykernel_launcher.py:26: RuntimeWarning: invalid value encountered in greater\n",
      "/Users/leget/software/anaconda3/lib/python3.7/site-packages/ipykernel_launcher.py:26: RuntimeWarning: invalid value encountered in greater\n",
      "/Users/leget/software/anaconda3/lib/python3.7/site-packages/ipykernel_launcher.py:26: RuntimeWarning: invalid value encountered in greater\n",
      "/Users/leget/software/anaconda3/lib/python3.7/site-packages/ipykernel_launcher.py:26: RuntimeWarning: invalid value encountered in greater\n",
      "/Users/leget/software/anaconda3/lib/python3.7/site-packages/ipykernel_launcher.py:26: RuntimeWarning: invalid value encountered in greater\n",
      "/Users/leget/software/anaconda3/lib/python3.7/site-packages/ipykernel_launcher.py:26: RuntimeWarning: invalid value encountered in greater\n",
      "/Users/leget/software/anaconda3/lib/python3.7/site-packages/ipykernel_launcher.py:26: RuntimeWarning: invalid value encountered in greater\n",
      "/Users/leget/software/anaconda3/lib/python3.7/site-packages/ipykernel_launcher.py:26: RuntimeWarning: invalid value encountered in greater\n"
     ]
    },
    {
     "name": "stdout",
     "output_type": "stream",
     "text": [
      "../../hsc_outputs/v3.3/astro_VK/mean_function/all/mean_du_74_all.fits\n",
      "../../hsc_outputs/v3.3/astro_VK/mean_function/all/mean_du_90_all.fits\n",
      "../../hsc_outputs/v3.3/astro_VK/mean_function/all/mean_du_91_all.fits\n",
      "../../hsc_outputs/v3.3/astro_VK/mean_function/all/mean_du_36_all.fits\n",
      "../../hsc_outputs/v3.3/astro_VK/mean_function/all/mean_du_37_all.fits\n",
      "../../hsc_outputs/v3.3/astro_VK/mean_function/all/mean_du_41_all.fits\n",
      "../../hsc_outputs/v3.3/astro_VK/mean_function/all/mean_du_40_all.fits\n",
      "../../hsc_outputs/v3.3/astro_VK/mean_function/all/mean_du_6_all.fits\n",
      "../../hsc_outputs/v3.3/astro_VK/mean_function/all/mean_du_7_all.fits\n",
      "../../hsc_outputs/v3.3/astro_VK/mean_function/all/mean_du_62_all.fits\n",
      "../../hsc_outputs/v3.3/astro_VK/mean_function/all/mean_du_63_all.fits\n",
      "../../hsc_outputs/v3.3/astro_VK/mean_function/all/mean_du_15_all.fits\n",
      "../../hsc_outputs/v3.3/astro_VK/mean_function/all/mean_du_14_all.fits\n",
      "../../hsc_outputs/v3.3/astro_VK/mean_function/all/mean_du_87_all.fits\n",
      "../../hsc_outputs/v3.3/astro_VK/mean_function/all/mean_du_86_all.fits\n"
     ]
    },
    {
     "name": "stderr",
     "output_type": "stream",
     "text": [
      "/Users/leget/software/anaconda3/lib/python3.7/site-packages/ipykernel_launcher.py:26: RuntimeWarning: invalid value encountered in greater\n",
      "/Users/leget/software/anaconda3/lib/python3.7/site-packages/ipykernel_launcher.py:26: RuntimeWarning: invalid value encountered in greater\n",
      "/Users/leget/software/anaconda3/lib/python3.7/site-packages/ipykernel_launcher.py:26: RuntimeWarning: invalid value encountered in greater\n",
      "/Users/leget/software/anaconda3/lib/python3.7/site-packages/ipykernel_launcher.py:26: RuntimeWarning: invalid value encountered in greater\n",
      "/Users/leget/software/anaconda3/lib/python3.7/site-packages/ipykernel_launcher.py:26: RuntimeWarning: invalid value encountered in greater\n",
      "/Users/leget/software/anaconda3/lib/python3.7/site-packages/ipykernel_launcher.py:26: RuntimeWarning: invalid value encountered in greater\n",
      "/Users/leget/software/anaconda3/lib/python3.7/site-packages/ipykernel_launcher.py:26: RuntimeWarning: invalid value encountered in greater\n",
      "/Users/leget/software/anaconda3/lib/python3.7/site-packages/ipykernel_launcher.py:26: RuntimeWarning: invalid value encountered in greater\n",
      "/Users/leget/software/anaconda3/lib/python3.7/site-packages/ipykernel_launcher.py:26: RuntimeWarning: invalid value encountered in greater\n",
      "/Users/leget/software/anaconda3/lib/python3.7/site-packages/ipykernel_launcher.py:26: RuntimeWarning: invalid value encountered in greater\n",
      "/Users/leget/software/anaconda3/lib/python3.7/site-packages/ipykernel_launcher.py:26: RuntimeWarning: invalid value encountered in greater\n",
      "/Users/leget/software/anaconda3/lib/python3.7/site-packages/ipykernel_launcher.py:26: RuntimeWarning: invalid value encountered in greater\n",
      "/Users/leget/software/anaconda3/lib/python3.7/site-packages/ipykernel_launcher.py:26: RuntimeWarning: invalid value encountered in greater\n",
      "/Users/leget/software/anaconda3/lib/python3.7/site-packages/ipykernel_launcher.py:26: RuntimeWarning: invalid value encountered in greater\n"
     ]
    },
    {
     "name": "stdout",
     "output_type": "stream",
     "text": [
      "../../hsc_outputs/v3.3/astro_VK/mean_function/all/mean_du_68_all.fits\n",
      "../../hsc_outputs/v3.3/astro_VK/mean_function/all/mean_du_69_all.fits\n",
      "../../hsc_outputs/v3.3/astro_VK/mean_function/all/mean_du_21_all.fits\n",
      "../../hsc_outputs/v3.3/astro_VK/mean_function/all/mean_du_20_all.fits\n",
      "../../hsc_outputs/v3.3/astro_VK/mean_function/all/mean_du_56_all.fits\n",
      "../../hsc_outputs/v3.3/astro_VK/mean_function/all/mean_du_57_all.fits\n",
      "../../hsc_outputs/v3.3/astro_VK/mean_function/all/mean_du_32_all.fits\n",
      "../../hsc_outputs/v3.3/astro_VK/mean_function/all/mean_du_33_all.fits\n",
      "../../hsc_outputs/v3.3/astro_VK/mean_function/all/mean_du_45_all.fits\n",
      "../../hsc_outputs/v3.3/astro_VK/mean_function/all/mean_du_44_all.fits\n",
      "../../hsc_outputs/v3.3/astro_VK/mean_function/all/mean_du_71_all.fits\n",
      "../../hsc_outputs/v3.3/astro_VK/mean_function/all/mean_du_70_all.fits\n",
      "../../hsc_outputs/v3.3/astro_VK/mean_function/all/mean_du_38_all.fits\n",
      "../../hsc_outputs/v3.3/astro_VK/mean_function/all/mean_du_39_all.fits\n",
      "../../hsc_outputs/v3.3/astro_VK/mean_function/all/mean_du_94_all.fits\n",
      "../../hsc_outputs/v3.3/astro_VK/mean_function/all/mean_du_95_all.fits\n",
      "../../hsc_outputs/v3.3/astro_VK/mean_function/all/mean_du_25_all.fits\n",
      "../../hsc_outputs/v3.3/astro_VK/mean_function/all/mean_du_102_all.fits\n",
      "../../hsc_outputs/v3.3/astro_VK/mean_function/all/mean_du_103_all.fits\n"
     ]
    },
    {
     "name": "stderr",
     "output_type": "stream",
     "text": [
      "/Users/leget/software/anaconda3/lib/python3.7/site-packages/ipykernel_launcher.py:26: RuntimeWarning: invalid value encountered in greater\n",
      "/Users/leget/software/anaconda3/lib/python3.7/site-packages/ipykernel_launcher.py:26: RuntimeWarning: invalid value encountered in greater\n",
      "/Users/leget/software/anaconda3/lib/python3.7/site-packages/ipykernel_launcher.py:26: RuntimeWarning: invalid value encountered in greater\n",
      "/Users/leget/software/anaconda3/lib/python3.7/site-packages/ipykernel_launcher.py:26: RuntimeWarning: invalid value encountered in greater\n",
      "/Users/leget/software/anaconda3/lib/python3.7/site-packages/ipykernel_launcher.py:26: RuntimeWarning: invalid value encountered in greater\n",
      "/Users/leget/software/anaconda3/lib/python3.7/site-packages/ipykernel_launcher.py:26: RuntimeWarning: invalid value encountered in greater\n",
      "/Users/leget/software/anaconda3/lib/python3.7/site-packages/ipykernel_launcher.py:26: RuntimeWarning: invalid value encountered in greater\n",
      "/Users/leget/software/anaconda3/lib/python3.7/site-packages/ipykernel_launcher.py:26: RuntimeWarning: invalid value encountered in greater\n",
      "/Users/leget/software/anaconda3/lib/python3.7/site-packages/ipykernel_launcher.py:26: RuntimeWarning: invalid value encountered in greater\n",
      "/Users/leget/software/anaconda3/lib/python3.7/site-packages/ipykernel_launcher.py:26: RuntimeWarning: invalid value encountered in greater\n",
      "/Users/leget/software/anaconda3/lib/python3.7/site-packages/ipykernel_launcher.py:26: RuntimeWarning: invalid value encountered in greater\n",
      "/Users/leget/software/anaconda3/lib/python3.7/site-packages/ipykernel_launcher.py:26: RuntimeWarning: invalid value encountered in greater\n",
      "/Users/leget/software/anaconda3/lib/python3.7/site-packages/ipykernel_launcher.py:26: RuntimeWarning: invalid value encountered in greater\n",
      "/Users/leget/software/anaconda3/lib/python3.7/site-packages/ipykernel_launcher.py:26: RuntimeWarning: invalid value encountered in greater\n",
      "/Users/leget/software/anaconda3/lib/python3.7/site-packages/ipykernel_launcher.py:26: RuntimeWarning: invalid value encountered in greater\n",
      "/Users/leget/software/anaconda3/lib/python3.7/site-packages/ipykernel_launcher.py:26: RuntimeWarning: invalid value encountered in greater\n",
      "/Users/leget/software/anaconda3/lib/python3.7/site-packages/ipykernel_launcher.py:26: RuntimeWarning: invalid value encountered in greater\n",
      "/Users/leget/software/anaconda3/lib/python3.7/site-packages/ipykernel_launcher.py:26: RuntimeWarning: invalid value encountered in greater\n",
      "/Users/leget/software/anaconda3/lib/python3.7/site-packages/ipykernel_launcher.py:26: RuntimeWarning: invalid value encountered in greater\n",
      "/Users/leget/software/anaconda3/lib/python3.7/site-packages/ipykernel_launcher.py:26: RuntimeWarning: invalid value encountered in greater\n",
      "/Users/leget/software/anaconda3/lib/python3.7/site-packages/ipykernel_launcher.py:26: RuntimeWarning: invalid value encountered in greater\n",
      "/Users/leget/software/anaconda3/lib/python3.7/site-packages/ipykernel_launcher.py:26: RuntimeWarning: invalid value encountered in greater\n",
      "/Users/leget/software/anaconda3/lib/python3.7/site-packages/ipykernel_launcher.py:26: RuntimeWarning: invalid value encountered in greater\n",
      "/Users/leget/software/anaconda3/lib/python3.7/site-packages/ipykernel_launcher.py:26: RuntimeWarning: invalid value encountered in greater\n",
      "/Users/leget/software/anaconda3/lib/python3.7/site-packages/ipykernel_launcher.py:26: RuntimeWarning: invalid value encountered in greater\n",
      "/Users/leget/software/anaconda3/lib/python3.7/site-packages/ipykernel_launcher.py:26: RuntimeWarning: invalid value encountered in greater\n",
      "/Users/leget/software/anaconda3/lib/python3.7/site-packages/ipykernel_launcher.py:26: RuntimeWarning: invalid value encountered in greater\n",
      "/Users/leget/software/anaconda3/lib/python3.7/site-packages/ipykernel_launcher.py:26: RuntimeWarning: invalid value encountered in greater\n",
      "/Users/leget/software/anaconda3/lib/python3.7/site-packages/ipykernel_launcher.py:26: RuntimeWarning: invalid value encountered in greater\n",
      "/Users/leget/software/anaconda3/lib/python3.7/site-packages/ipykernel_launcher.py:26: RuntimeWarning: invalid value encountered in greater\n"
     ]
    },
    {
     "name": "stdout",
     "output_type": "stream",
     "text": [
      "../../hsc_outputs/v3.3/astro_VK/mean_function/all/mean_du_24_all.fits\n",
      "../../hsc_outputs/v3.3/astro_VK/mean_function/all/mean_du_8_all.fits\n",
      "../../hsc_outputs/v3.3/astro_VK/mean_function/all/mean_du_52_all.fits\n",
      "../../hsc_outputs/v3.3/astro_VK/mean_function/all/mean_du_53_all.fits\n",
      "../../hsc_outputs/v3.3/astro_VK/mean_function/all/mean_du_89_all.fits\n",
      "../../hsc_outputs/v3.3/astro_VK/mean_function/all/mean_du_88_all.fits\n",
      "../../hsc_outputs/v3.3/astro_VK/mean_function/all/mean_du_2_all.fits\n",
      "../../hsc_outputs/v3.3/astro_VK/mean_function/all/mean_du_3_all.fits\n",
      "../../hsc_outputs/v3.3/astro_VK/mean_function/all/mean_du_66_all.fits\n",
      "../../hsc_outputs/v3.3/astro_VK/mean_function/all/mean_du_67_all.fits\n",
      "../../hsc_outputs/v3.3/astro_VK/mean_function/all/mean_du_83_all.fits\n",
      "../../hsc_outputs/v3.3/astro_VK/mean_function/all/mean_du_82_all.fits\n",
      "../../hsc_outputs/v3.3/astro_VK/mean_function/all/mean_du_11_all.fits\n",
      "../../hsc_outputs/v3.3/astro_VK/mean_function/all/mean_du_10_all.fits\n",
      "../../hsc_outputs/v3.3/astro_VK/mean_function/all/mean_du_58_all.fits\n",
      "../../hsc_outputs/v3.3/astro_VK/mean_function/all/mean_du_59_all.fits\n",
      "../../hsc_outputs/v3.3/astro_VK/mean_function/all/mean_du_22_all.fits\n",
      "../../hsc_outputs/v3.3/astro_VK/mean_function/all/mean_du_23_all.fits\n",
      "../../hsc_outputs/v3.3/astro_VK/mean_function/all/mean_du_55_all.fits\n",
      "../../hsc_outputs/v3.3/astro_VK/mean_function/all/mean_du_54_all.fits\n",
      "../../hsc_outputs/v3.3/astro_VK/mean_function/all/mean_du_28_all.fits\n",
      "../../hsc_outputs/v3.3/astro_VK/mean_function/all/mean_du_29_all.fits\n",
      "../../hsc_outputs/v3.3/astro_VK/mean_function/all/mean_du_5_all.fits\n",
      "../../hsc_outputs/v3.3/astro_VK/mean_function/all/mean_du_4_all.fits\n",
      "../../hsc_outputs/v3.3/astro_VK/mean_function/all/mean_du_61_all.fits\n",
      "../../hsc_outputs/v3.3/astro_VK/mean_function/all/mean_du_60_all.fits\n",
      "../../hsc_outputs/v3.3/astro_VK/mean_function/all/mean_du_16_all.fits\n",
      "../../hsc_outputs/v3.3/astro_VK/mean_function/all/mean_du_17_all.fits\n",
      "../../hsc_outputs/v3.3/astro_VK/mean_function/all/mean_du_84_all.fits\n",
      "../../hsc_outputs/v3.3/astro_VK/mean_function/all/mean_du_85_all.fits\n",
      "../../hsc_outputs/v3.3/astro_VK/mean_function/all/mean_du_35_all.fits\n"
     ]
    },
    {
     "name": "stderr",
     "output_type": "stream",
     "text": [
      "/Users/leget/software/anaconda3/lib/python3.7/site-packages/ipykernel_launcher.py:26: RuntimeWarning: invalid value encountered in greater\n",
      "/Users/leget/software/anaconda3/lib/python3.7/site-packages/ipykernel_launcher.py:26: RuntimeWarning: invalid value encountered in greater\n",
      "/Users/leget/software/anaconda3/lib/python3.7/site-packages/ipykernel_launcher.py:26: RuntimeWarning: invalid value encountered in greater\n",
      "/Users/leget/software/anaconda3/lib/python3.7/site-packages/ipykernel_launcher.py:26: RuntimeWarning: invalid value encountered in greater\n",
      "/Users/leget/software/anaconda3/lib/python3.7/site-packages/ipykernel_launcher.py:26: RuntimeWarning: invalid value encountered in greater\n",
      "/Users/leget/software/anaconda3/lib/python3.7/site-packages/ipykernel_launcher.py:26: RuntimeWarning: invalid value encountered in greater\n",
      "/Users/leget/software/anaconda3/lib/python3.7/site-packages/ipykernel_launcher.py:26: RuntimeWarning: invalid value encountered in greater\n",
      "/Users/leget/software/anaconda3/lib/python3.7/site-packages/ipykernel_launcher.py:26: RuntimeWarning: invalid value encountered in greater\n",
      "/Users/leget/software/anaconda3/lib/python3.7/site-packages/ipykernel_launcher.py:26: RuntimeWarning: invalid value encountered in greater\n",
      "/Users/leget/software/anaconda3/lib/python3.7/site-packages/ipykernel_launcher.py:26: RuntimeWarning: invalid value encountered in greater\n",
      "/Users/leget/software/anaconda3/lib/python3.7/site-packages/ipykernel_launcher.py:26: RuntimeWarning: invalid value encountered in greater\n",
      "/Users/leget/software/anaconda3/lib/python3.7/site-packages/ipykernel_launcher.py:26: RuntimeWarning: invalid value encountered in greater\n",
      "/Users/leget/software/anaconda3/lib/python3.7/site-packages/ipykernel_launcher.py:26: RuntimeWarning: invalid value encountered in greater\n",
      "/Users/leget/software/anaconda3/lib/python3.7/site-packages/ipykernel_launcher.py:26: RuntimeWarning: invalid value encountered in greater\n",
      "/Users/leget/software/anaconda3/lib/python3.7/site-packages/ipykernel_launcher.py:26: RuntimeWarning: invalid value encountered in greater\n",
      "/Users/leget/software/anaconda3/lib/python3.7/site-packages/ipykernel_launcher.py:26: RuntimeWarning: invalid value encountered in greater\n",
      "/Users/leget/software/anaconda3/lib/python3.7/site-packages/ipykernel_launcher.py:26: RuntimeWarning: invalid value encountered in greater\n",
      "/Users/leget/software/anaconda3/lib/python3.7/site-packages/ipykernel_launcher.py:26: RuntimeWarning: invalid value encountered in greater\n",
      "/Users/leget/software/anaconda3/lib/python3.7/site-packages/ipykernel_launcher.py:26: RuntimeWarning: invalid value encountered in greater\n",
      "/Users/leget/software/anaconda3/lib/python3.7/site-packages/ipykernel_launcher.py:26: RuntimeWarning: invalid value encountered in greater\n",
      "/Users/leget/software/anaconda3/lib/python3.7/site-packages/ipykernel_launcher.py:26: RuntimeWarning: invalid value encountered in greater\n",
      "/Users/leget/software/anaconda3/lib/python3.7/site-packages/ipykernel_launcher.py:26: RuntimeWarning: invalid value encountered in greater\n",
      "/Users/leget/software/anaconda3/lib/python3.7/site-packages/ipykernel_launcher.py:26: RuntimeWarning: invalid value encountered in greater\n",
      "/Users/leget/software/anaconda3/lib/python3.7/site-packages/ipykernel_launcher.py:26: RuntimeWarning: invalid value encountered in greater\n",
      "/Users/leget/software/anaconda3/lib/python3.7/site-packages/ipykernel_launcher.py:26: RuntimeWarning: invalid value encountered in greater\n",
      "/Users/leget/software/anaconda3/lib/python3.7/site-packages/ipykernel_launcher.py:26: RuntimeWarning: invalid value encountered in greater\n",
      "/Users/leget/software/anaconda3/lib/python3.7/site-packages/ipykernel_launcher.py:26: RuntimeWarning: invalid value encountered in greater\n",
      "/Users/leget/software/anaconda3/lib/python3.7/site-packages/ipykernel_launcher.py:26: RuntimeWarning: invalid value encountered in greater\n",
      "/Users/leget/software/anaconda3/lib/python3.7/site-packages/ipykernel_launcher.py:26: RuntimeWarning: invalid value encountered in greater\n",
      "/Users/leget/software/anaconda3/lib/python3.7/site-packages/ipykernel_launcher.py:26: RuntimeWarning: invalid value encountered in greater\n",
      "/Users/leget/software/anaconda3/lib/python3.7/site-packages/ipykernel_launcher.py:26: RuntimeWarning: invalid value encountered in greater\n",
      "/Users/leget/software/anaconda3/lib/python3.7/site-packages/ipykernel_launcher.py:26: RuntimeWarning: invalid value encountered in greater\n",
      "/Users/leget/software/anaconda3/lib/python3.7/site-packages/ipykernel_launcher.py:26: RuntimeWarning: invalid value encountered in greater\n",
      "/Users/leget/software/anaconda3/lib/python3.7/site-packages/ipykernel_launcher.py:26: RuntimeWarning: invalid value encountered in greater\n",
      "/Users/leget/software/anaconda3/lib/python3.7/site-packages/ipykernel_launcher.py:26: RuntimeWarning: invalid value encountered in greater\n"
     ]
    },
    {
     "name": "stdout",
     "output_type": "stream",
     "text": [
      "../../hsc_outputs/v3.3/astro_VK/mean_function/all/mean_du_34_all.fits\n",
      "../../hsc_outputs/v3.3/astro_VK/mean_function/all/mean_du_99_all.fits\n",
      "../../hsc_outputs/v3.3/astro_VK/mean_function/all/mean_du_98_all.fits\n",
      "../../hsc_outputs/v3.3/astro_VK/mean_function/all/mean_du_42_all.fits\n",
      "../../hsc_outputs/v3.3/astro_VK/mean_function/all/mean_du_43_all.fits\n",
      "../../hsc_outputs/v3.3/astro_VK/mean_function/all/mean_du_76_all.fits\n",
      "../../hsc_outputs/v3.3/astro_VK/mean_function/all/mean_du_77_all.fits\n",
      "../../hsc_outputs/v3.3/astro_VK/mean_function/all/mean_du_48_all.fits\n",
      "../../hsc_outputs/v3.3/astro_VK/mean_function/all/mean_du_49_all.fits\n",
      "../../hsc_outputs/v3.3/astro_VK/mean_function/all/mean_du_93_all.fits\n",
      "../../hsc_outputs/v3.3/astro_VK/mean_function/all/mean_du_92_all.fits\n",
      "../../hsc_outputs/v3.3/astro_VK/mean_function/all/mean_du_1_all.fits\n",
      "../../hsc_outputs/v3.3/astro_VK/mean_function/all/mean_du_65_all.fits\n",
      "../../hsc_outputs/v3.3/astro_VK/mean_function/all/mean_du_64_all.fits\n",
      "../../hsc_outputs/v3.3/astro_VK/mean_function/all/mean_du_80_all.fits\n",
      "../../hsc_outputs/v3.3/astro_VK/mean_function/all/mean_du_81_all.fits\n",
      "../../hsc_outputs/v3.3/astro_VK/mean_function/all/mean_du_12_all.fits\n",
      "../../hsc_outputs/v3.3/astro_VK/mean_function/all/mean_du_13_all.fits\n",
      "../../hsc_outputs/v3.3/astro_VK/mean_function/all/mean_du_26_all.fits\n",
      "../../hsc_outputs/v3.3/astro_VK/mean_function/all/mean_du_101_all.fits\n",
      "../../hsc_outputs/v3.3/astro_VK/mean_function/all/mean_du_100_all.fits\n",
      "../../hsc_outputs/v3.3/astro_VK/mean_function/all/mean_du_27_all.fits\n",
      "../../hsc_outputs/v3.3/astro_VK/mean_function/all/mean_du_51_all.fits\n",
      "../../hsc_outputs/v3.3/astro_VK/mean_function/all/mean_du_50_all.fits\n",
      "../../hsc_outputs/v3.3/astro_VK/mean_function/all/mean_du_18_all.fits\n",
      "../../hsc_outputs/v3.3/astro_VK/mean_function/all/mean_du_19_all.fits\n",
      "../../hsc_outputs/v3.3/astro_VK/mean_function/all/mean_du_72_all.fits\n",
      "../../hsc_outputs/v3.3/astro_VK/mean_function/all/mean_du_73_all.fits\n",
      "../../hsc_outputs/v3.3/astro_VK/mean_function/all/mean_du_97_all.fits\n",
      "../../hsc_outputs/v3.3/astro_VK/mean_function/all/mean_du_96_all.fits\n",
      "../../hsc_outputs/v3.3/astro_VK/mean_function/all/mean_du_31_all.fits\n",
      "../../hsc_outputs/v3.3/astro_VK/mean_function/all/mean_du_30_all.fits\n",
      "../../hsc_outputs/v3.3/astro_VK/mean_function/all/mean_du_78_all.fits\n",
      "../../hsc_outputs/v3.3/astro_VK/mean_function/all/mean_du_79_all.fits\n",
      "../../hsc_outputs/v3.3/astro_VK/mean_function/all/mean_du_46_all.fits\n",
      "../../hsc_outputs/v3.3/astro_VK/mean_function/all/mean_du_47_all.fits\n"
     ]
    },
    {
     "name": "stderr",
     "output_type": "stream",
     "text": [
      "/Users/leget/software/anaconda3/lib/python3.7/site-packages/ipykernel_launcher.py:26: RuntimeWarning: invalid value encountered in greater\n",
      "/Users/leget/software/anaconda3/lib/python3.7/site-packages/ipykernel_launcher.py:26: RuntimeWarning: invalid value encountered in greater\n",
      "/Users/leget/software/anaconda3/lib/python3.7/site-packages/ipykernel_launcher.py:26: RuntimeWarning: invalid value encountered in greater\n",
      "/Users/leget/software/anaconda3/lib/python3.7/site-packages/ipykernel_launcher.py:26: RuntimeWarning: invalid value encountered in greater\n",
      "/Users/leget/software/anaconda3/lib/python3.7/site-packages/ipykernel_launcher.py:26: RuntimeWarning: invalid value encountered in greater\n",
      "/Users/leget/software/anaconda3/lib/python3.7/site-packages/ipykernel_launcher.py:26: RuntimeWarning: invalid value encountered in greater\n",
      "/Users/leget/software/anaconda3/lib/python3.7/site-packages/ipykernel_launcher.py:26: RuntimeWarning: invalid value encountered in greater\n",
      "/Users/leget/software/anaconda3/lib/python3.7/site-packages/ipykernel_launcher.py:26: RuntimeWarning: invalid value encountered in greater\n",
      "/Users/leget/software/anaconda3/lib/python3.7/site-packages/ipykernel_launcher.py:26: RuntimeWarning: invalid value encountered in greater\n",
      "/Users/leget/software/anaconda3/lib/python3.7/site-packages/ipykernel_launcher.py:26: RuntimeWarning: invalid value encountered in greater\n",
      "/Users/leget/software/anaconda3/lib/python3.7/site-packages/ipykernel_launcher.py:26: RuntimeWarning: invalid value encountered in greater\n",
      "/Users/leget/software/anaconda3/lib/python3.7/site-packages/ipykernel_launcher.py:26: RuntimeWarning: invalid value encountered in greater\n",
      "/Users/leget/software/anaconda3/lib/python3.7/site-packages/ipykernel_launcher.py:26: RuntimeWarning: invalid value encountered in greater\n",
      "/Users/leget/software/anaconda3/lib/python3.7/site-packages/ipykernel_launcher.py:26: RuntimeWarning: invalid value encountered in greater\n",
      "/Users/leget/software/anaconda3/lib/python3.7/site-packages/ipykernel_launcher.py:26: RuntimeWarning: invalid value encountered in greater\n",
      "/Users/leget/software/anaconda3/lib/python3.7/site-packages/ipykernel_launcher.py:26: RuntimeWarning: invalid value encountered in greater\n",
      "/Users/leget/software/anaconda3/lib/python3.7/site-packages/ipykernel_launcher.py:26: RuntimeWarning: invalid value encountered in greater\n",
      "/Users/leget/software/anaconda3/lib/python3.7/site-packages/ipykernel_launcher.py:26: RuntimeWarning: invalid value encountered in greater\n",
      "/Users/leget/software/anaconda3/lib/python3.7/site-packages/ipykernel_launcher.py:26: RuntimeWarning: invalid value encountered in greater\n",
      "/Users/leget/software/anaconda3/lib/python3.7/site-packages/ipykernel_launcher.py:26: RuntimeWarning: invalid value encountered in greater\n",
      "/Users/leget/software/anaconda3/lib/python3.7/site-packages/ipykernel_launcher.py:26: RuntimeWarning: invalid value encountered in greater\n",
      "/Users/leget/software/anaconda3/lib/python3.7/site-packages/ipykernel_launcher.py:26: RuntimeWarning: invalid value encountered in greater\n",
      "/Users/leget/software/anaconda3/lib/python3.7/site-packages/ipykernel_launcher.py:26: RuntimeWarning: invalid value encountered in greater\n",
      "/Users/leget/software/anaconda3/lib/python3.7/site-packages/ipykernel_launcher.py:26: RuntimeWarning: invalid value encountered in greater\n",
      "/Users/leget/software/anaconda3/lib/python3.7/site-packages/ipykernel_launcher.py:26: RuntimeWarning: invalid value encountered in greater\n",
      "/Users/leget/software/anaconda3/lib/python3.7/site-packages/ipykernel_launcher.py:26: RuntimeWarning: invalid value encountered in greater\n",
      "/Users/leget/software/anaconda3/lib/python3.7/site-packages/ipykernel_launcher.py:26: RuntimeWarning: invalid value encountered in greater\n",
      "/Users/leget/software/anaconda3/lib/python3.7/site-packages/ipykernel_launcher.py:26: RuntimeWarning: invalid value encountered in greater\n",
      "/Users/leget/software/anaconda3/lib/python3.7/site-packages/ipykernel_launcher.py:26: RuntimeWarning: invalid value encountered in greater\n",
      "/Users/leget/software/anaconda3/lib/python3.7/site-packages/ipykernel_launcher.py:26: RuntimeWarning: invalid value encountered in greater\n",
      "/Users/leget/software/anaconda3/lib/python3.7/site-packages/ipykernel_launcher.py:26: RuntimeWarning: invalid value encountered in greater\n",
      "/Users/leget/software/anaconda3/lib/python3.7/site-packages/ipykernel_launcher.py:26: RuntimeWarning: invalid value encountered in greater\n",
      "/Users/leget/software/anaconda3/lib/python3.7/site-packages/ipykernel_launcher.py:26: RuntimeWarning: invalid value encountered in greater\n",
      "/Users/leget/software/anaconda3/lib/python3.7/site-packages/ipykernel_launcher.py:26: RuntimeWarning: invalid value encountered in greater\n"
     ]
    },
    {
     "name": "stdout",
     "output_type": "stream",
     "text": [
      "../../hsc_outputs/v3.3/astro_VK/mean_function/all/mean_du_75_all.fits\n",
      "../../hsc_outputs/v3.3/astro_VK/mean_function/all/mean_du_74_all.fits\n",
      "../../hsc_outputs/v3.3/astro_VK/mean_function/all/mean_du_90_all.fits\n",
      "../../hsc_outputs/v3.3/astro_VK/mean_function/all/mean_du_91_all.fits\n",
      "../../hsc_outputs/v3.3/astro_VK/mean_function/all/mean_du_36_all.fits\n",
      "../../hsc_outputs/v3.3/astro_VK/mean_function/all/mean_du_37_all.fits\n",
      "../../hsc_outputs/v3.3/astro_VK/mean_function/all/mean_du_41_all.fits\n",
      "../../hsc_outputs/v3.3/astro_VK/mean_function/all/mean_du_40_all.fits\n",
      "../../hsc_outputs/v3.3/astro_VK/mean_function/all/mean_du_6_all.fits\n",
      "../../hsc_outputs/v3.3/astro_VK/mean_function/all/mean_du_7_all.fits\n",
      "../../hsc_outputs/v3.3/astro_VK/mean_function/all/mean_du_62_all.fits\n",
      "../../hsc_outputs/v3.3/astro_VK/mean_function/all/mean_du_63_all.fits\n",
      "../../hsc_outputs/v3.3/astro_VK/mean_function/all/mean_du_15_all.fits\n",
      "../../hsc_outputs/v3.3/astro_VK/mean_function/all/mean_du_14_all.fits\n",
      "../../hsc_outputs/v3.3/astro_VK/mean_function/all/mean_du_87_all.fits\n",
      "../../hsc_outputs/v3.3/astro_VK/mean_function/all/mean_du_86_all.fits\n",
      "../../hsc_outputs/v3.3/astro_VK/mean_function/all/mean_du_68_all.fits\n",
      "../../hsc_outputs/v3.3/astro_VK/mean_function/all/mean_du_69_all.fits\n",
      "../../hsc_outputs/v3.3/astro_VK/mean_function/all/mean_du_21_all.fits\n",
      "../../hsc_outputs/v3.3/astro_VK/mean_function/all/mean_du_20_all.fits\n",
      "../../hsc_outputs/v3.3/astro_VK/mean_function/all/mean_du_56_all.fits\n",
      "../../hsc_outputs/v3.3/astro_VK/mean_function/all/mean_du_57_all.fits\n",
      "../../hsc_outputs/v3.3/astro_VK/mean_function/all/mean_du_32_all.fits\n",
      "../../hsc_outputs/v3.3/astro_VK/mean_function/all/mean_du_33_all.fits\n",
      "../../hsc_outputs/v3.3/astro_VK/mean_function/all/mean_du_45_all.fits\n",
      "../../hsc_outputs/v3.3/astro_VK/mean_function/all/mean_du_44_all.fits\n",
      "../../hsc_outputs/v3.3/astro_VK/mean_function/all/mean_du_71_all.fits\n",
      "../../hsc_outputs/v3.3/astro_VK/mean_function/all/mean_du_70_all.fits\n",
      "../../hsc_outputs/v3.3/astro_VK/mean_function/all/mean_du_38_all.fits\n"
     ]
    },
    {
     "name": "stderr",
     "output_type": "stream",
     "text": [
      "/Users/leget/software/anaconda3/lib/python3.7/site-packages/ipykernel_launcher.py:26: RuntimeWarning: invalid value encountered in greater\n",
      "/Users/leget/software/anaconda3/lib/python3.7/site-packages/ipykernel_launcher.py:26: RuntimeWarning: invalid value encountered in greater\n",
      "/Users/leget/software/anaconda3/lib/python3.7/site-packages/ipykernel_launcher.py:26: RuntimeWarning: invalid value encountered in greater\n",
      "/Users/leget/software/anaconda3/lib/python3.7/site-packages/ipykernel_launcher.py:26: RuntimeWarning: invalid value encountered in greater\n",
      "/Users/leget/software/anaconda3/lib/python3.7/site-packages/ipykernel_launcher.py:26: RuntimeWarning: invalid value encountered in greater\n",
      "/Users/leget/software/anaconda3/lib/python3.7/site-packages/ipykernel_launcher.py:26: RuntimeWarning: invalid value encountered in greater\n",
      "/Users/leget/software/anaconda3/lib/python3.7/site-packages/ipykernel_launcher.py:26: RuntimeWarning: invalid value encountered in greater\n",
      "/Users/leget/software/anaconda3/lib/python3.7/site-packages/ipykernel_launcher.py:26: RuntimeWarning: invalid value encountered in greater\n",
      "/Users/leget/software/anaconda3/lib/python3.7/site-packages/ipykernel_launcher.py:26: RuntimeWarning: invalid value encountered in greater\n",
      "/Users/leget/software/anaconda3/lib/python3.7/site-packages/ipykernel_launcher.py:26: RuntimeWarning: invalid value encountered in greater\n",
      "/Users/leget/software/anaconda3/lib/python3.7/site-packages/ipykernel_launcher.py:26: RuntimeWarning: invalid value encountered in greater\n",
      "/Users/leget/software/anaconda3/lib/python3.7/site-packages/ipykernel_launcher.py:26: RuntimeWarning: invalid value encountered in greater\n",
      "/Users/leget/software/anaconda3/lib/python3.7/site-packages/ipykernel_launcher.py:26: RuntimeWarning: invalid value encountered in greater\n"
     ]
    },
    {
     "name": "stdout",
     "output_type": "stream",
     "text": [
      "../../hsc_outputs/v3.3/astro_VK/mean_function/all/mean_du_39_all.fits\n",
      "../../hsc_outputs/v3.3/astro_VK/mean_function/all/mean_du_94_all.fits\n",
      "../../hsc_outputs/v3.3/astro_VK/mean_function/all/mean_du_95_all.fits\n",
      "fail for file:  ../../hsc_outputs/v3.3/astro_VK/mean_function/all/mean_du_95_all.fits\n",
      "../../hsc_outputs/v3.3/astro_VK/mean_function/all/mean_du_25_all.fits\n",
      "fail for file:  ../../hsc_outputs/v3.3/astro_VK/mean_function/all/mean_du_25_all.fits\n",
      "../../hsc_outputs/v3.3/astro_VK/mean_function/all/mean_du_102_all.fits\n",
      "../../hsc_outputs/v3.3/astro_VK/mean_function/all/mean_du_103_all.fits\n",
      "fail for file:  ../../hsc_outputs/v3.3/astro_VK/mean_function/all/mean_du_103_all.fits\n",
      "../../hsc_outputs/v3.3/astro_VK/mean_function/all/mean_du_24_all.fits\n",
      "../../hsc_outputs/v3.3/astro_VK/mean_function/all/mean_du_8_all.fits\n",
      "../../hsc_outputs/v3.3/astro_VK/mean_function/all/mean_du_52_all.fits\n",
      "../../hsc_outputs/v3.3/astro_VK/mean_function/all/mean_du_53_all.fits\n",
      "../../hsc_outputs/v3.3/astro_VK/mean_function/all/mean_du_89_all.fits\n",
      "../../hsc_outputs/v3.3/astro_VK/mean_function/all/mean_du_88_all.fits\n",
      "../../hsc_outputs/v3.3/astro_VK/mean_function/all/mean_du_2_all.fits\n",
      "../../hsc_outputs/v3.3/astro_VK/mean_function/all/mean_du_3_all.fits\n",
      "../../hsc_outputs/v3.3/astro_VK/mean_function/all/mean_du_66_all.fits\n",
      "../../hsc_outputs/v3.3/astro_VK/mean_function/all/mean_du_67_all.fits\n"
     ]
    },
    {
     "name": "stderr",
     "output_type": "stream",
     "text": [
      "/Users/leget/software/anaconda3/lib/python3.7/site-packages/ipykernel_launcher.py:26: RuntimeWarning: invalid value encountered in greater\n",
      "/Users/leget/software/anaconda3/lib/python3.7/site-packages/ipykernel_launcher.py:26: RuntimeWarning: invalid value encountered in greater\n",
      "/Users/leget/software/anaconda3/lib/python3.7/site-packages/ipykernel_launcher.py:26: RuntimeWarning: invalid value encountered in greater\n",
      "/Users/leget/software/anaconda3/lib/python3.7/site-packages/ipykernel_launcher.py:26: RuntimeWarning: invalid value encountered in greater\n",
      "/Users/leget/software/anaconda3/lib/python3.7/site-packages/ipykernel_launcher.py:26: RuntimeWarning: invalid value encountered in greater\n",
      "/Users/leget/software/anaconda3/lib/python3.7/site-packages/ipykernel_launcher.py:26: RuntimeWarning: invalid value encountered in greater\n",
      "/Users/leget/software/anaconda3/lib/python3.7/site-packages/ipykernel_launcher.py:26: RuntimeWarning: invalid value encountered in greater\n",
      "/Users/leget/software/anaconda3/lib/python3.7/site-packages/ipykernel_launcher.py:26: RuntimeWarning: invalid value encountered in greater\n",
      "/Users/leget/software/anaconda3/lib/python3.7/site-packages/ipykernel_launcher.py:26: RuntimeWarning: invalid value encountered in greater\n",
      "/Users/leget/software/anaconda3/lib/python3.7/site-packages/ipykernel_launcher.py:26: RuntimeWarning: invalid value encountered in greater\n",
      "/Users/leget/software/anaconda3/lib/python3.7/site-packages/ipykernel_launcher.py:26: RuntimeWarning: invalid value encountered in greater\n",
      "/Users/leget/software/anaconda3/lib/python3.7/site-packages/ipykernel_launcher.py:26: RuntimeWarning: invalid value encountered in greater\n",
      "/Users/leget/software/anaconda3/lib/python3.7/site-packages/ipykernel_launcher.py:26: RuntimeWarning: invalid value encountered in greater\n",
      "/Users/leget/software/anaconda3/lib/python3.7/site-packages/ipykernel_launcher.py:26: RuntimeWarning: invalid value encountered in greater\n",
      "/Users/leget/software/anaconda3/lib/python3.7/site-packages/ipykernel_launcher.py:26: RuntimeWarning: invalid value encountered in greater\n"
     ]
    },
    {
     "name": "stdout",
     "output_type": "stream",
     "text": [
      "../../hsc_outputs/v3.3/astro_VK/mean_function/all/mean_du_83_all.fits\n",
      "../../hsc_outputs/v3.3/astro_VK/mean_function/all/mean_du_82_all.fits\n",
      "../../hsc_outputs/v3.3/astro_VK/mean_function/all/mean_du_11_all.fits\n",
      "../../hsc_outputs/v3.3/astro_VK/mean_function/all/mean_du_10_all.fits\n",
      "../../hsc_outputs/v3.3/astro_VK/mean_function/all/mean_du_58_all.fits\n",
      "../../hsc_outputs/v3.3/astro_VK/mean_function/all/mean_du_59_all.fits\n",
      "../../hsc_outputs/v3.3/astro_VK/mean_function/all/mean_du_22_all.fits\n",
      "../../hsc_outputs/v3.3/astro_VK/mean_function/all/mean_du_23_all.fits\n",
      "../../hsc_outputs/v3.3/astro_VK/mean_function/all/mean_du_55_all.fits\n",
      "../../hsc_outputs/v3.3/astro_VK/mean_function/all/mean_du_54_all.fits\n",
      "../../hsc_outputs/v3.3/astro_VK/mean_function/all/mean_du_28_all.fits\n",
      "../../hsc_outputs/v3.3/astro_VK/mean_function/all/mean_du_29_all.fits\n",
      "../../hsc_outputs/v3.3/astro_VK/mean_function/all/mean_du_5_all.fits\n",
      "../../hsc_outputs/v3.3/astro_VK/mean_function/all/mean_du_4_all.fits\n",
      "fail for file:  ../../hsc_outputs/v3.3/astro_VK/mean_function/all/mean_du_4_all.fits\n",
      "../../hsc_outputs/v3.3/astro_VK/mean_function/all/mean_du_61_all.fits\n"
     ]
    },
    {
     "name": "stderr",
     "output_type": "stream",
     "text": [
      "/Users/leget/software/anaconda3/lib/python3.7/site-packages/ipykernel_launcher.py:26: RuntimeWarning: invalid value encountered in greater\n",
      "/Users/leget/software/anaconda3/lib/python3.7/site-packages/ipykernel_launcher.py:26: RuntimeWarning: invalid value encountered in greater\n",
      "/Users/leget/software/anaconda3/lib/python3.7/site-packages/ipykernel_launcher.py:26: RuntimeWarning: invalid value encountered in greater\n",
      "/Users/leget/software/anaconda3/lib/python3.7/site-packages/ipykernel_launcher.py:26: RuntimeWarning: invalid value encountered in greater\n",
      "/Users/leget/software/anaconda3/lib/python3.7/site-packages/ipykernel_launcher.py:26: RuntimeWarning: invalid value encountered in greater\n",
      "/Users/leget/software/anaconda3/lib/python3.7/site-packages/ipykernel_launcher.py:26: RuntimeWarning: invalid value encountered in greater\n",
      "/Users/leget/software/anaconda3/lib/python3.7/site-packages/ipykernel_launcher.py:26: RuntimeWarning: invalid value encountered in greater\n",
      "/Users/leget/software/anaconda3/lib/python3.7/site-packages/ipykernel_launcher.py:26: RuntimeWarning: invalid value encountered in greater\n",
      "/Users/leget/software/anaconda3/lib/python3.7/site-packages/ipykernel_launcher.py:26: RuntimeWarning: invalid value encountered in greater\n",
      "/Users/leget/software/anaconda3/lib/python3.7/site-packages/ipykernel_launcher.py:26: RuntimeWarning: invalid value encountered in greater\n",
      "/Users/leget/software/anaconda3/lib/python3.7/site-packages/ipykernel_launcher.py:26: RuntimeWarning: invalid value encountered in greater\n",
      "/Users/leget/software/anaconda3/lib/python3.7/site-packages/ipykernel_launcher.py:26: RuntimeWarning: invalid value encountered in greater\n",
      "/Users/leget/software/anaconda3/lib/python3.7/site-packages/ipykernel_launcher.py:26: RuntimeWarning: invalid value encountered in greater\n",
      "/Users/leget/software/anaconda3/lib/python3.7/site-packages/ipykernel_launcher.py:26: RuntimeWarning: invalid value encountered in greater\n"
     ]
    },
    {
     "name": "stdout",
     "output_type": "stream",
     "text": [
      "../../hsc_outputs/v3.3/astro_VK/mean_function/all/mean_du_60_all.fits\n",
      "../../hsc_outputs/v3.3/astro_VK/mean_function/all/mean_du_16_all.fits\n",
      "../../hsc_outputs/v3.3/astro_VK/mean_function/all/mean_du_17_all.fits\n",
      "../../hsc_outputs/v3.3/astro_VK/mean_function/all/mean_du_84_all.fits\n",
      "../../hsc_outputs/v3.3/astro_VK/mean_function/all/mean_du_85_all.fits\n",
      "../../hsc_outputs/v3.3/astro_VK/mean_function/all/mean_du_35_all.fits\n",
      "../../hsc_outputs/v3.3/astro_VK/mean_function/all/mean_du_34_all.fits\n",
      "../../hsc_outputs/v3.3/astro_VK/mean_function/all/mean_du_99_all.fits\n",
      "../../hsc_outputs/v3.3/astro_VK/mean_function/all/mean_du_98_all.fits\n",
      "../../hsc_outputs/v3.3/astro_VK/mean_function/all/mean_du_42_all.fits\n",
      "../../hsc_outputs/v3.3/astro_VK/mean_function/all/mean_du_43_all.fits\n",
      "../../hsc_outputs/v3.3/astro_VK/mean_function/all/mean_du_76_all.fits\n",
      "../../hsc_outputs/v3.3/astro_VK/mean_function/all/mean_du_77_all.fits\n",
      "../../hsc_outputs/v3.3/astro_VK/mean_function/all/mean_du_48_all.fits\n",
      "../../hsc_outputs/v3.3/astro_VK/mean_function/all/mean_du_49_all.fits\n"
     ]
    },
    {
     "name": "stderr",
     "output_type": "stream",
     "text": [
      "/Users/leget/software/anaconda3/lib/python3.7/site-packages/ipykernel_launcher.py:26: RuntimeWarning: invalid value encountered in greater\n",
      "/Users/leget/software/anaconda3/lib/python3.7/site-packages/ipykernel_launcher.py:26: RuntimeWarning: invalid value encountered in greater\n",
      "/Users/leget/software/anaconda3/lib/python3.7/site-packages/ipykernel_launcher.py:26: RuntimeWarning: invalid value encountered in greater\n",
      "/Users/leget/software/anaconda3/lib/python3.7/site-packages/ipykernel_launcher.py:26: RuntimeWarning: invalid value encountered in greater\n",
      "/Users/leget/software/anaconda3/lib/python3.7/site-packages/ipykernel_launcher.py:26: RuntimeWarning: invalid value encountered in greater\n",
      "/Users/leget/software/anaconda3/lib/python3.7/site-packages/ipykernel_launcher.py:26: RuntimeWarning: invalid value encountered in greater\n",
      "/Users/leget/software/anaconda3/lib/python3.7/site-packages/ipykernel_launcher.py:26: RuntimeWarning: invalid value encountered in greater\n",
      "/Users/leget/software/anaconda3/lib/python3.7/site-packages/ipykernel_launcher.py:26: RuntimeWarning: invalid value encountered in greater\n",
      "/Users/leget/software/anaconda3/lib/python3.7/site-packages/ipykernel_launcher.py:26: RuntimeWarning: invalid value encountered in greater\n",
      "/Users/leget/software/anaconda3/lib/python3.7/site-packages/ipykernel_launcher.py:26: RuntimeWarning: invalid value encountered in greater\n",
      "/Users/leget/software/anaconda3/lib/python3.7/site-packages/ipykernel_launcher.py:26: RuntimeWarning: invalid value encountered in greater\n",
      "/Users/leget/software/anaconda3/lib/python3.7/site-packages/ipykernel_launcher.py:26: RuntimeWarning: invalid value encountered in greater\n",
      "/Users/leget/software/anaconda3/lib/python3.7/site-packages/ipykernel_launcher.py:26: RuntimeWarning: invalid value encountered in greater\n",
      "/Users/leget/software/anaconda3/lib/python3.7/site-packages/ipykernel_launcher.py:26: RuntimeWarning: invalid value encountered in greater\n",
      "/Users/leget/software/anaconda3/lib/python3.7/site-packages/ipykernel_launcher.py:26: RuntimeWarning: invalid value encountered in greater\n"
     ]
    },
    {
     "name": "stdout",
     "output_type": "stream",
     "text": [
      "../../hsc_outputs/v3.3/astro_VK/mean_function/all/mean_du_93_all.fits\n",
      "../../hsc_outputs/v3.3/astro_VK/mean_function/all/mean_du_92_all.fits\n",
      "../../hsc_outputs/v3.3/astro_VK/mean_function/all/mean_du_1_all.fits\n",
      "../../hsc_outputs/v3.3/astro_VK/mean_function/all/mean_du_65_all.fits\n",
      "../../hsc_outputs/v3.3/astro_VK/mean_function/all/mean_du_64_all.fits\n",
      "../../hsc_outputs/v3.3/astro_VK/mean_function/all/mean_du_80_all.fits\n",
      "../../hsc_outputs/v3.3/astro_VK/mean_function/all/mean_du_81_all.fits\n",
      "../../hsc_outputs/v3.3/astro_VK/mean_function/all/mean_du_12_all.fits\n",
      "../../hsc_outputs/v3.3/astro_VK/mean_function/all/mean_du_13_all.fits\n",
      "../../hsc_outputs/v3.3/astro_VK/mean_function/all/mean_du_26_all.fits\n",
      "../../hsc_outputs/v3.3/astro_VK/mean_function/all/mean_du_101_all.fits\n",
      "fail for file:  ../../hsc_outputs/v3.3/astro_VK/mean_function/all/mean_du_101_all.fits\n",
      "../../hsc_outputs/v3.3/astro_VK/mean_function/all/mean_du_100_all.fits\n",
      "../../hsc_outputs/v3.3/astro_VK/mean_function/all/mean_du_27_all.fits\n",
      "../../hsc_outputs/v3.3/astro_VK/mean_function/all/mean_du_51_all.fits\n",
      "../../hsc_outputs/v3.3/astro_VK/mean_function/all/mean_du_50_all.fits\n"
     ]
    },
    {
     "name": "stderr",
     "output_type": "stream",
     "text": [
      "/Users/leget/software/anaconda3/lib/python3.7/site-packages/ipykernel_launcher.py:26: RuntimeWarning: invalid value encountered in greater\n",
      "/Users/leget/software/anaconda3/lib/python3.7/site-packages/ipykernel_launcher.py:26: RuntimeWarning: invalid value encountered in greater\n",
      "/Users/leget/software/anaconda3/lib/python3.7/site-packages/ipykernel_launcher.py:26: RuntimeWarning: invalid value encountered in greater\n",
      "/Users/leget/software/anaconda3/lib/python3.7/site-packages/ipykernel_launcher.py:26: RuntimeWarning: invalid value encountered in greater\n",
      "/Users/leget/software/anaconda3/lib/python3.7/site-packages/ipykernel_launcher.py:26: RuntimeWarning: invalid value encountered in greater\n",
      "/Users/leget/software/anaconda3/lib/python3.7/site-packages/ipykernel_launcher.py:26: RuntimeWarning: invalid value encountered in greater\n",
      "/Users/leget/software/anaconda3/lib/python3.7/site-packages/ipykernel_launcher.py:26: RuntimeWarning: invalid value encountered in greater\n",
      "/Users/leget/software/anaconda3/lib/python3.7/site-packages/ipykernel_launcher.py:26: RuntimeWarning: invalid value encountered in greater\n",
      "/Users/leget/software/anaconda3/lib/python3.7/site-packages/ipykernel_launcher.py:26: RuntimeWarning: invalid value encountered in greater\n",
      "/Users/leget/software/anaconda3/lib/python3.7/site-packages/ipykernel_launcher.py:26: RuntimeWarning: invalid value encountered in greater\n",
      "/Users/leget/software/anaconda3/lib/python3.7/site-packages/ipykernel_launcher.py:26: RuntimeWarning: invalid value encountered in greater\n",
      "/Users/leget/software/anaconda3/lib/python3.7/site-packages/ipykernel_launcher.py:26: RuntimeWarning: invalid value encountered in greater\n",
      "/Users/leget/software/anaconda3/lib/python3.7/site-packages/ipykernel_launcher.py:26: RuntimeWarning: invalid value encountered in greater\n",
      "/Users/leget/software/anaconda3/lib/python3.7/site-packages/ipykernel_launcher.py:26: RuntimeWarning: invalid value encountered in greater\n"
     ]
    },
    {
     "name": "stdout",
     "output_type": "stream",
     "text": [
      "../../hsc_outputs/v3.3/astro_VK/mean_function/all/mean_du_18_all.fits\n",
      "../../hsc_outputs/v3.3/astro_VK/mean_function/all/mean_du_19_all.fits\n",
      "../../hsc_outputs/v3.3/astro_VK/mean_function/all/mean_du_72_all.fits\n",
      "../../hsc_outputs/v3.3/astro_VK/mean_function/all/mean_du_73_all.fits\n",
      "../../hsc_outputs/v3.3/astro_VK/mean_function/all/mean_du_97_all.fits\n",
      "../../hsc_outputs/v3.3/astro_VK/mean_function/all/mean_du_96_all.fits\n",
      "../../hsc_outputs/v3.3/astro_VK/mean_function/all/mean_du_31_all.fits\n",
      "../../hsc_outputs/v3.3/astro_VK/mean_function/all/mean_du_30_all.fits\n",
      "../../hsc_outputs/v3.3/astro_VK/mean_function/all/mean_du_78_all.fits\n",
      "../../hsc_outputs/v3.3/astro_VK/mean_function/all/mean_du_79_all.fits\n",
      "../../hsc_outputs/v3.3/astro_VK/mean_function/all/mean_du_46_all.fits\n",
      "../../hsc_outputs/v3.3/astro_VK/mean_function/all/mean_du_47_all.fits\n",
      "../../hsc_outputs/v3.3/astro_VK/mean_function/all/mean_du_75_all.fits\n",
      "../../hsc_outputs/v3.3/astro_VK/mean_function/all/mean_du_74_all.fits\n"
     ]
    },
    {
     "name": "stderr",
     "output_type": "stream",
     "text": [
      "/Users/leget/software/anaconda3/lib/python3.7/site-packages/ipykernel_launcher.py:26: RuntimeWarning: invalid value encountered in greater\n",
      "/Users/leget/software/anaconda3/lib/python3.7/site-packages/ipykernel_launcher.py:26: RuntimeWarning: invalid value encountered in greater\n",
      "/Users/leget/software/anaconda3/lib/python3.7/site-packages/ipykernel_launcher.py:26: RuntimeWarning: invalid value encountered in greater\n",
      "/Users/leget/software/anaconda3/lib/python3.7/site-packages/ipykernel_launcher.py:26: RuntimeWarning: invalid value encountered in greater\n",
      "/Users/leget/software/anaconda3/lib/python3.7/site-packages/ipykernel_launcher.py:26: RuntimeWarning: invalid value encountered in greater\n",
      "/Users/leget/software/anaconda3/lib/python3.7/site-packages/ipykernel_launcher.py:26: RuntimeWarning: invalid value encountered in greater\n",
      "/Users/leget/software/anaconda3/lib/python3.7/site-packages/ipykernel_launcher.py:26: RuntimeWarning: invalid value encountered in greater\n",
      "/Users/leget/software/anaconda3/lib/python3.7/site-packages/ipykernel_launcher.py:26: RuntimeWarning: invalid value encountered in greater\n",
      "/Users/leget/software/anaconda3/lib/python3.7/site-packages/ipykernel_launcher.py:26: RuntimeWarning: invalid value encountered in greater\n",
      "/Users/leget/software/anaconda3/lib/python3.7/site-packages/ipykernel_launcher.py:26: RuntimeWarning: invalid value encountered in greater\n",
      "/Users/leget/software/anaconda3/lib/python3.7/site-packages/ipykernel_launcher.py:26: RuntimeWarning: invalid value encountered in greater\n",
      "/Users/leget/software/anaconda3/lib/python3.7/site-packages/ipykernel_launcher.py:26: RuntimeWarning: invalid value encountered in greater\n",
      "/Users/leget/software/anaconda3/lib/python3.7/site-packages/ipykernel_launcher.py:26: RuntimeWarning: invalid value encountered in greater\n"
     ]
    },
    {
     "name": "stdout",
     "output_type": "stream",
     "text": [
      "../../hsc_outputs/v3.3/astro_VK/mean_function/all/mean_du_90_all.fits\n",
      "../../hsc_outputs/v3.3/astro_VK/mean_function/all/mean_du_91_all.fits\n",
      "../../hsc_outputs/v3.3/astro_VK/mean_function/all/mean_du_36_all.fits\n",
      "../../hsc_outputs/v3.3/astro_VK/mean_function/all/mean_du_37_all.fits\n",
      "../../hsc_outputs/v3.3/astro_VK/mean_function/all/mean_du_41_all.fits\n",
      "../../hsc_outputs/v3.3/astro_VK/mean_function/all/mean_du_40_all.fits\n",
      "../../hsc_outputs/v3.3/astro_VK/mean_function/all/mean_du_6_all.fits\n",
      "../../hsc_outputs/v3.3/astro_VK/mean_function/all/mean_du_7_all.fits\n",
      "../../hsc_outputs/v3.3/astro_VK/mean_function/all/mean_du_62_all.fits\n",
      "../../hsc_outputs/v3.3/astro_VK/mean_function/all/mean_du_63_all.fits\n",
      "../../hsc_outputs/v3.3/astro_VK/mean_function/all/mean_du_15_all.fits\n",
      "../../hsc_outputs/v3.3/astro_VK/mean_function/all/mean_du_14_all.fits\n",
      "../../hsc_outputs/v3.3/astro_VK/mean_function/all/mean_du_87_all.fits\n",
      "../../hsc_outputs/v3.3/astro_VK/mean_function/all/mean_du_86_all.fits\n"
     ]
    },
    {
     "name": "stderr",
     "output_type": "stream",
     "text": [
      "/Users/leget/software/anaconda3/lib/python3.7/site-packages/ipykernel_launcher.py:26: RuntimeWarning: invalid value encountered in greater\n",
      "/Users/leget/software/anaconda3/lib/python3.7/site-packages/ipykernel_launcher.py:26: RuntimeWarning: invalid value encountered in greater\n",
      "/Users/leget/software/anaconda3/lib/python3.7/site-packages/ipykernel_launcher.py:26: RuntimeWarning: invalid value encountered in greater\n",
      "/Users/leget/software/anaconda3/lib/python3.7/site-packages/ipykernel_launcher.py:26: RuntimeWarning: invalid value encountered in greater\n",
      "/Users/leget/software/anaconda3/lib/python3.7/site-packages/ipykernel_launcher.py:26: RuntimeWarning: invalid value encountered in greater\n",
      "/Users/leget/software/anaconda3/lib/python3.7/site-packages/ipykernel_launcher.py:26: RuntimeWarning: invalid value encountered in greater\n",
      "/Users/leget/software/anaconda3/lib/python3.7/site-packages/ipykernel_launcher.py:26: RuntimeWarning: invalid value encountered in greater\n",
      "/Users/leget/software/anaconda3/lib/python3.7/site-packages/ipykernel_launcher.py:26: RuntimeWarning: invalid value encountered in greater\n",
      "/Users/leget/software/anaconda3/lib/python3.7/site-packages/ipykernel_launcher.py:26: RuntimeWarning: invalid value encountered in greater\n",
      "/Users/leget/software/anaconda3/lib/python3.7/site-packages/ipykernel_launcher.py:26: RuntimeWarning: invalid value encountered in greater\n",
      "/Users/leget/software/anaconda3/lib/python3.7/site-packages/ipykernel_launcher.py:26: RuntimeWarning: invalid value encountered in greater\n",
      "/Users/leget/software/anaconda3/lib/python3.7/site-packages/ipykernel_launcher.py:26: RuntimeWarning: invalid value encountered in greater\n"
     ]
    },
    {
     "name": "stdout",
     "output_type": "stream",
     "text": [
      "../../hsc_outputs/v3.3/astro_VK/mean_function/all/mean_du_68_all.fits\n",
      "../../hsc_outputs/v3.3/astro_VK/mean_function/all/mean_du_69_all.fits\n",
      "../../hsc_outputs/v3.3/astro_VK/mean_function/all/mean_du_21_all.fits\n",
      "../../hsc_outputs/v3.3/astro_VK/mean_function/all/mean_du_20_all.fits\n",
      "../../hsc_outputs/v3.3/astro_VK/mean_function/all/mean_du_56_all.fits\n",
      "../../hsc_outputs/v3.3/astro_VK/mean_function/all/mean_du_57_all.fits\n",
      "../../hsc_outputs/v3.3/astro_VK/mean_function/all/mean_dv_93_all.fits\n",
      "../../hsc_outputs/v3.3/astro_VK/mean_function/all/mean_dv_92_all.fits\n",
      "../../hsc_outputs/v3.3/astro_VK/mean_function/all/mean_dv_48_all.fits\n",
      "../../hsc_outputs/v3.3/astro_VK/mean_function/all/mean_dv_49_all.fits\n"
     ]
    },
    {
     "name": "stderr",
     "output_type": "stream",
     "text": [
      "/Users/leget/software/anaconda3/lib/python3.7/site-packages/ipykernel_launcher.py:26: RuntimeWarning: invalid value encountered in greater\n",
      "/Users/leget/software/anaconda3/lib/python3.7/site-packages/ipykernel_launcher.py:26: RuntimeWarning: invalid value encountered in greater\n",
      "/Users/leget/software/anaconda3/lib/python3.7/site-packages/ipykernel_launcher.py:26: RuntimeWarning: invalid value encountered in greater\n",
      "/Users/leget/software/anaconda3/lib/python3.7/site-packages/ipykernel_launcher.py:26: RuntimeWarning: invalid value encountered in greater\n",
      "/Users/leget/software/anaconda3/lib/python3.7/site-packages/ipykernel_launcher.py:26: RuntimeWarning: invalid value encountered in greater\n",
      "/Users/leget/software/anaconda3/lib/python3.7/site-packages/ipykernel_launcher.py:26: RuntimeWarning: invalid value encountered in greater\n",
      "/Users/leget/software/anaconda3/lib/python3.7/site-packages/ipykernel_launcher.py:26: RuntimeWarning: invalid value encountered in greater\n"
     ]
    },
    {
     "name": "stdout",
     "output_type": "stream",
     "text": [
      "../../hsc_outputs/v3.3/astro_VK/mean_function/all/mean_dv_76_all.fits\n",
      "../../hsc_outputs/v3.3/astro_VK/mean_function/all/mean_dv_77_all.fits\n",
      "../../hsc_outputs/v3.3/astro_VK/mean_function/all/mean_dv_6_all.fits\n",
      "../../hsc_outputs/v3.3/astro_VK/mean_function/all/mean_dv_7_all.fits\n",
      "../../hsc_outputs/v3.3/astro_VK/mean_function/all/mean_dv_42_all.fits\n",
      "../../hsc_outputs/v3.3/astro_VK/mean_function/all/mean_dv_43_all.fits\n",
      "../../hsc_outputs/v3.3/astro_VK/mean_function/all/mean_dv_99_all.fits\n"
     ]
    },
    {
     "name": "stderr",
     "output_type": "stream",
     "text": [
      "/Users/leget/software/anaconda3/lib/python3.7/site-packages/ipykernel_launcher.py:26: RuntimeWarning: invalid value encountered in greater\n",
      "/Users/leget/software/anaconda3/lib/python3.7/site-packages/ipykernel_launcher.py:26: RuntimeWarning: invalid value encountered in greater\n",
      "/Users/leget/software/anaconda3/lib/python3.7/site-packages/ipykernel_launcher.py:26: RuntimeWarning: invalid value encountered in greater\n",
      "/Users/leget/software/anaconda3/lib/python3.7/site-packages/ipykernel_launcher.py:26: RuntimeWarning: invalid value encountered in greater\n",
      "/Users/leget/software/anaconda3/lib/python3.7/site-packages/ipykernel_launcher.py:26: RuntimeWarning: invalid value encountered in greater\n",
      "/Users/leget/software/anaconda3/lib/python3.7/site-packages/ipykernel_launcher.py:26: RuntimeWarning: invalid value encountered in greater\n",
      "/Users/leget/software/anaconda3/lib/python3.7/site-packages/ipykernel_launcher.py:26: RuntimeWarning: invalid value encountered in greater\n"
     ]
    },
    {
     "name": "stdout",
     "output_type": "stream",
     "text": [
      "../../hsc_outputs/v3.3/astro_VK/mean_function/all/mean_dv_98_all.fits\n",
      "../../hsc_outputs/v3.3/astro_VK/mean_function/all/mean_dv_35_all.fits\n",
      "../../hsc_outputs/v3.3/astro_VK/mean_function/all/mean_dv_34_all.fits\n",
      "../../hsc_outputs/v3.3/astro_VK/mean_function/all/mean_dv_16_all.fits\n",
      "../../hsc_outputs/v3.3/astro_VK/mean_function/all/mean_dv_17_all.fits\n",
      "../../hsc_outputs/v3.3/astro_VK/mean_function/all/mean_dv_84_all.fits\n",
      "../../hsc_outputs/v3.3/astro_VK/mean_function/all/mean_dv_85_all.fits\n"
     ]
    },
    {
     "name": "stderr",
     "output_type": "stream",
     "text": [
      "/Users/leget/software/anaconda3/lib/python3.7/site-packages/ipykernel_launcher.py:26: RuntimeWarning: invalid value encountered in greater\n",
      "/Users/leget/software/anaconda3/lib/python3.7/site-packages/ipykernel_launcher.py:26: RuntimeWarning: invalid value encountered in greater\n",
      "/Users/leget/software/anaconda3/lib/python3.7/site-packages/ipykernel_launcher.py:26: RuntimeWarning: invalid value encountered in greater\n",
      "/Users/leget/software/anaconda3/lib/python3.7/site-packages/ipykernel_launcher.py:26: RuntimeWarning: invalid value encountered in greater\n",
      "/Users/leget/software/anaconda3/lib/python3.7/site-packages/ipykernel_launcher.py:26: RuntimeWarning: invalid value encountered in greater\n",
      "/Users/leget/software/anaconda3/lib/python3.7/site-packages/ipykernel_launcher.py:26: RuntimeWarning: invalid value encountered in greater\n",
      "/Users/leget/software/anaconda3/lib/python3.7/site-packages/ipykernel_launcher.py:26: RuntimeWarning: invalid value encountered in greater\n"
     ]
    },
    {
     "name": "stdout",
     "output_type": "stream",
     "text": [
      "../../hsc_outputs/v3.3/astro_VK/mean_function/all/mean_dv_61_all.fits\n",
      "../../hsc_outputs/v3.3/astro_VK/mean_function/all/mean_dv_60_all.fits\n",
      "../../hsc_outputs/v3.3/astro_VK/mean_function/all/mean_dv_28_all.fits\n",
      "../../hsc_outputs/v3.3/astro_VK/mean_function/all/mean_dv_29_all.fits\n",
      "../../hsc_outputs/v3.3/astro_VK/mean_function/all/mean_dv_55_all.fits\n",
      "../../hsc_outputs/v3.3/astro_VK/mean_function/all/mean_dv_54_all.fits\n",
      "../../hsc_outputs/v3.3/astro_VK/mean_function/all/mean_dv_22_all.fits\n",
      "../../hsc_outputs/v3.3/astro_VK/mean_function/all/mean_dv_23_all.fits\n"
     ]
    },
    {
     "name": "stderr",
     "output_type": "stream",
     "text": [
      "/Users/leget/software/anaconda3/lib/python3.7/site-packages/ipykernel_launcher.py:26: RuntimeWarning: invalid value encountered in greater\n",
      "/Users/leget/software/anaconda3/lib/python3.7/site-packages/ipykernel_launcher.py:26: RuntimeWarning: invalid value encountered in greater\n",
      "/Users/leget/software/anaconda3/lib/python3.7/site-packages/ipykernel_launcher.py:26: RuntimeWarning: invalid value encountered in greater\n",
      "/Users/leget/software/anaconda3/lib/python3.7/site-packages/ipykernel_launcher.py:26: RuntimeWarning: invalid value encountered in greater\n",
      "/Users/leget/software/anaconda3/lib/python3.7/site-packages/ipykernel_launcher.py:26: RuntimeWarning: invalid value encountered in greater\n",
      "/Users/leget/software/anaconda3/lib/python3.7/site-packages/ipykernel_launcher.py:26: RuntimeWarning: invalid value encountered in greater\n",
      "/Users/leget/software/anaconda3/lib/python3.7/site-packages/ipykernel_launcher.py:26: RuntimeWarning: invalid value encountered in greater\n"
     ]
    },
    {
     "name": "stdout",
     "output_type": "stream",
     "text": [
      "../../hsc_outputs/v3.3/astro_VK/mean_function/all/mean_dv_58_all.fits\n",
      "../../hsc_outputs/v3.3/astro_VK/mean_function/all/mean_dv_59_all.fits\n",
      "../../hsc_outputs/v3.3/astro_VK/mean_function/all/mean_dv_83_all.fits\n",
      "../../hsc_outputs/v3.3/astro_VK/mean_function/all/mean_dv_82_all.fits\n",
      "../../hsc_outputs/v3.3/astro_VK/mean_function/all/mean_dv_11_all.fits\n",
      "../../hsc_outputs/v3.3/astro_VK/mean_function/all/mean_dv_10_all.fits\n",
      "../../hsc_outputs/v3.3/astro_VK/mean_function/all/mean_dv_66_all.fits\n"
     ]
    },
    {
     "name": "stderr",
     "output_type": "stream",
     "text": [
      "/Users/leget/software/anaconda3/lib/python3.7/site-packages/ipykernel_launcher.py:26: RuntimeWarning: invalid value encountered in greater\n",
      "/Users/leget/software/anaconda3/lib/python3.7/site-packages/ipykernel_launcher.py:26: RuntimeWarning: invalid value encountered in greater\n",
      "/Users/leget/software/anaconda3/lib/python3.7/site-packages/ipykernel_launcher.py:26: RuntimeWarning: invalid value encountered in greater\n",
      "/Users/leget/software/anaconda3/lib/python3.7/site-packages/ipykernel_launcher.py:26: RuntimeWarning: invalid value encountered in greater\n",
      "/Users/leget/software/anaconda3/lib/python3.7/site-packages/ipykernel_launcher.py:26: RuntimeWarning: invalid value encountered in greater\n",
      "/Users/leget/software/anaconda3/lib/python3.7/site-packages/ipykernel_launcher.py:26: RuntimeWarning: invalid value encountered in greater\n",
      "/Users/leget/software/anaconda3/lib/python3.7/site-packages/ipykernel_launcher.py:26: RuntimeWarning: invalid value encountered in greater\n"
     ]
    },
    {
     "name": "stdout",
     "output_type": "stream",
     "text": [
      "../../hsc_outputs/v3.3/astro_VK/mean_function/all/mean_dv_67_all.fits\n",
      "../../hsc_outputs/v3.3/astro_VK/mean_function/all/mean_dv_89_all.fits\n",
      "../../hsc_outputs/v3.3/astro_VK/mean_function/all/mean_dv_88_all.fits\n",
      "../../hsc_outputs/v3.3/astro_VK/mean_function/all/mean_dv_52_all.fits\n",
      "../../hsc_outputs/v3.3/astro_VK/mean_function/all/mean_dv_53_all.fits\n",
      "../../hsc_outputs/v3.3/astro_VK/mean_function/all/mean_dv_100_all.fits\n",
      "../../hsc_outputs/v3.3/astro_VK/mean_function/all/mean_dv_101_all.fits\n"
     ]
    },
    {
     "name": "stderr",
     "output_type": "stream",
     "text": [
      "/Users/leget/software/anaconda3/lib/python3.7/site-packages/ipykernel_launcher.py:26: RuntimeWarning: invalid value encountered in greater\n",
      "/Users/leget/software/anaconda3/lib/python3.7/site-packages/ipykernel_launcher.py:26: RuntimeWarning: invalid value encountered in greater\n",
      "/Users/leget/software/anaconda3/lib/python3.7/site-packages/ipykernel_launcher.py:26: RuntimeWarning: invalid value encountered in greater\n",
      "/Users/leget/software/anaconda3/lib/python3.7/site-packages/ipykernel_launcher.py:26: RuntimeWarning: invalid value encountered in greater\n",
      "/Users/leget/software/anaconda3/lib/python3.7/site-packages/ipykernel_launcher.py:26: RuntimeWarning: invalid value encountered in greater\n",
      "/Users/leget/software/anaconda3/lib/python3.7/site-packages/ipykernel_launcher.py:26: RuntimeWarning: invalid value encountered in greater\n",
      "/Users/leget/software/anaconda3/lib/python3.7/site-packages/ipykernel_launcher.py:26: RuntimeWarning: invalid value encountered in greater\n"
     ]
    },
    {
     "name": "stdout",
     "output_type": "stream",
     "text": [
      "../../hsc_outputs/v3.3/astro_VK/mean_function/all/mean_dv_25_all.fits\n",
      "../../hsc_outputs/v3.3/astro_VK/mean_function/all/mean_dv_24_all.fits\n",
      "../../hsc_outputs/v3.3/astro_VK/mean_function/all/mean_dv_94_all.fits\n",
      "../../hsc_outputs/v3.3/astro_VK/mean_function/all/mean_dv_95_all.fits\n",
      "../../hsc_outputs/v3.3/astro_VK/mean_function/all/mean_dv_38_all.fits\n",
      "../../hsc_outputs/v3.3/astro_VK/mean_function/all/mean_dv_39_all.fits\n",
      "../../hsc_outputs/v3.3/astro_VK/mean_function/all/mean_dv_71_all.fits\n"
     ]
    },
    {
     "name": "stderr",
     "output_type": "stream",
     "text": [
      "/Users/leget/software/anaconda3/lib/python3.7/site-packages/ipykernel_launcher.py:26: RuntimeWarning: invalid value encountered in greater\n",
      "/Users/leget/software/anaconda3/lib/python3.7/site-packages/ipykernel_launcher.py:26: RuntimeWarning: invalid value encountered in greater\n",
      "/Users/leget/software/anaconda3/lib/python3.7/site-packages/ipykernel_launcher.py:26: RuntimeWarning: invalid value encountered in greater\n",
      "/Users/leget/software/anaconda3/lib/python3.7/site-packages/ipykernel_launcher.py:26: RuntimeWarning: invalid value encountered in greater\n",
      "/Users/leget/software/anaconda3/lib/python3.7/site-packages/ipykernel_launcher.py:26: RuntimeWarning: invalid value encountered in greater\n",
      "/Users/leget/software/anaconda3/lib/python3.7/site-packages/ipykernel_launcher.py:26: RuntimeWarning: invalid value encountered in greater\n",
      "/Users/leget/software/anaconda3/lib/python3.7/site-packages/ipykernel_launcher.py:26: RuntimeWarning: invalid value encountered in greater\n"
     ]
    },
    {
     "name": "stdout",
     "output_type": "stream",
     "text": [
      "../../hsc_outputs/v3.3/astro_VK/mean_function/all/mean_dv_70_all.fits\n",
      "../../hsc_outputs/v3.3/astro_VK/mean_function/all/mean_dv_1_all.fits\n",
      "../../hsc_outputs/v3.3/astro_VK/mean_function/all/mean_dv_45_all.fits\n",
      "../../hsc_outputs/v3.3/astro_VK/mean_function/all/mean_dv_44_all.fits\n",
      "../../hsc_outputs/v3.3/astro_VK/mean_function/all/mean_dv_32_all.fits\n",
      "../../hsc_outputs/v3.3/astro_VK/mean_function/all/mean_dv_33_all.fits\n",
      "../../hsc_outputs/v3.3/astro_VK/mean_function/all/mean_dv_56_all.fits\n"
     ]
    },
    {
     "name": "stderr",
     "output_type": "stream",
     "text": [
      "/Users/leget/software/anaconda3/lib/python3.7/site-packages/ipykernel_launcher.py:26: RuntimeWarning: invalid value encountered in greater\n",
      "/Users/leget/software/anaconda3/lib/python3.7/site-packages/ipykernel_launcher.py:26: RuntimeWarning: invalid value encountered in greater\n",
      "/Users/leget/software/anaconda3/lib/python3.7/site-packages/ipykernel_launcher.py:26: RuntimeWarning: invalid value encountered in greater\n",
      "/Users/leget/software/anaconda3/lib/python3.7/site-packages/ipykernel_launcher.py:26: RuntimeWarning: invalid value encountered in greater\n",
      "/Users/leget/software/anaconda3/lib/python3.7/site-packages/ipykernel_launcher.py:26: RuntimeWarning: invalid value encountered in greater\n",
      "/Users/leget/software/anaconda3/lib/python3.7/site-packages/ipykernel_launcher.py:26: RuntimeWarning: invalid value encountered in greater\n",
      "/Users/leget/software/anaconda3/lib/python3.7/site-packages/ipykernel_launcher.py:26: RuntimeWarning: invalid value encountered in greater\n"
     ]
    },
    {
     "name": "stdout",
     "output_type": "stream",
     "text": [
      "../../hsc_outputs/v3.3/astro_VK/mean_function/all/mean_dv_57_all.fits\n",
      "../../hsc_outputs/v3.3/astro_VK/mean_function/all/mean_dv_21_all.fits\n",
      "../../hsc_outputs/v3.3/astro_VK/mean_function/all/mean_dv_20_all.fits\n",
      "../../hsc_outputs/v3.3/astro_VK/mean_function/all/mean_dv_68_all.fits\n",
      "../../hsc_outputs/v3.3/astro_VK/mean_function/all/mean_dv_69_all.fits\n",
      "../../hsc_outputs/v3.3/astro_VK/mean_function/all/mean_dv_15_all.fits\n",
      "../../hsc_outputs/v3.3/astro_VK/mean_function/all/mean_dv_14_all.fits\n",
      "../../hsc_outputs/v3.3/astro_VK/mean_function/all/mean_dv_87_all.fits\n"
     ]
    },
    {
     "name": "stderr",
     "output_type": "stream",
     "text": [
      "/Users/leget/software/anaconda3/lib/python3.7/site-packages/ipykernel_launcher.py:26: RuntimeWarning: invalid value encountered in greater\n",
      "/Users/leget/software/anaconda3/lib/python3.7/site-packages/ipykernel_launcher.py:26: RuntimeWarning: invalid value encountered in greater\n",
      "/Users/leget/software/anaconda3/lib/python3.7/site-packages/ipykernel_launcher.py:26: RuntimeWarning: invalid value encountered in greater\n",
      "/Users/leget/software/anaconda3/lib/python3.7/site-packages/ipykernel_launcher.py:26: RuntimeWarning: invalid value encountered in greater\n",
      "/Users/leget/software/anaconda3/lib/python3.7/site-packages/ipykernel_launcher.py:26: RuntimeWarning: invalid value encountered in greater\n",
      "/Users/leget/software/anaconda3/lib/python3.7/site-packages/ipykernel_launcher.py:26: RuntimeWarning: invalid value encountered in greater\n",
      "/Users/leget/software/anaconda3/lib/python3.7/site-packages/ipykernel_launcher.py:26: RuntimeWarning: invalid value encountered in greater\n"
     ]
    },
    {
     "name": "stdout",
     "output_type": "stream",
     "text": [
      "../../hsc_outputs/v3.3/astro_VK/mean_function/all/mean_dv_86_all.fits\n",
      "../../hsc_outputs/v3.3/astro_VK/mean_function/all/mean_dv_62_all.fits\n",
      "../../hsc_outputs/v3.3/astro_VK/mean_function/all/mean_dv_63_all.fits\n",
      "../../hsc_outputs/v3.3/astro_VK/mean_function/all/mean_dv_41_all.fits\n",
      "../../hsc_outputs/v3.3/astro_VK/mean_function/all/mean_dv_40_all.fits\n",
      "../../hsc_outputs/v3.3/astro_VK/mean_function/all/mean_dv_36_all.fits\n",
      "../../hsc_outputs/v3.3/astro_VK/mean_function/all/mean_dv_37_all.fits\n"
     ]
    },
    {
     "name": "stderr",
     "output_type": "stream",
     "text": [
      "/Users/leget/software/anaconda3/lib/python3.7/site-packages/ipykernel_launcher.py:26: RuntimeWarning: invalid value encountered in greater\n",
      "/Users/leget/software/anaconda3/lib/python3.7/site-packages/ipykernel_launcher.py:26: RuntimeWarning: invalid value encountered in greater\n",
      "/Users/leget/software/anaconda3/lib/python3.7/site-packages/ipykernel_launcher.py:26: RuntimeWarning: invalid value encountered in greater\n",
      "/Users/leget/software/anaconda3/lib/python3.7/site-packages/ipykernel_launcher.py:26: RuntimeWarning: invalid value encountered in greater\n",
      "/Users/leget/software/anaconda3/lib/python3.7/site-packages/ipykernel_launcher.py:26: RuntimeWarning: invalid value encountered in greater\n",
      "/Users/leget/software/anaconda3/lib/python3.7/site-packages/ipykernel_launcher.py:26: RuntimeWarning: invalid value encountered in greater\n",
      "/Users/leget/software/anaconda3/lib/python3.7/site-packages/ipykernel_launcher.py:26: RuntimeWarning: invalid value encountered in greater\n"
     ]
    },
    {
     "name": "stdout",
     "output_type": "stream",
     "text": [
      "../../hsc_outputs/v3.3/astro_VK/mean_function/all/mean_dv_90_all.fits\n",
      "../../hsc_outputs/v3.3/astro_VK/mean_function/all/mean_dv_91_all.fits\n",
      "../../hsc_outputs/v3.3/astro_VK/mean_function/all/mean_dv_5_all.fits\n",
      "../../hsc_outputs/v3.3/astro_VK/mean_function/all/mean_dv_4_all.fits\n",
      "../../hsc_outputs/v3.3/astro_VK/mean_function/all/mean_dv_75_all.fits\n",
      "../../hsc_outputs/v3.3/astro_VK/mean_function/all/mean_dv_74_all.fits\n",
      "../../hsc_outputs/v3.3/astro_VK/mean_function/all/mean_dv_46_all.fits\n",
      "../../hsc_outputs/v3.3/astro_VK/mean_function/all/mean_dv_47_all.fits\n"
     ]
    },
    {
     "name": "stderr",
     "output_type": "stream",
     "text": [
      "/Users/leget/software/anaconda3/lib/python3.7/site-packages/ipykernel_launcher.py:26: RuntimeWarning: invalid value encountered in greater\n",
      "/Users/leget/software/anaconda3/lib/python3.7/site-packages/ipykernel_launcher.py:26: RuntimeWarning: invalid value encountered in greater\n",
      "/Users/leget/software/anaconda3/lib/python3.7/site-packages/ipykernel_launcher.py:26: RuntimeWarning: invalid value encountered in greater\n",
      "/Users/leget/software/anaconda3/lib/python3.7/site-packages/ipykernel_launcher.py:26: RuntimeWarning: invalid value encountered in greater\n",
      "/Users/leget/software/anaconda3/lib/python3.7/site-packages/ipykernel_launcher.py:26: RuntimeWarning: invalid value encountered in greater\n",
      "/Users/leget/software/anaconda3/lib/python3.7/site-packages/ipykernel_launcher.py:26: RuntimeWarning: invalid value encountered in greater\n",
      "/Users/leget/software/anaconda3/lib/python3.7/site-packages/ipykernel_launcher.py:26: RuntimeWarning: invalid value encountered in greater\n",
      "/Users/leget/software/anaconda3/lib/python3.7/site-packages/ipykernel_launcher.py:26: RuntimeWarning: invalid value encountered in greater\n"
     ]
    },
    {
     "name": "stdout",
     "output_type": "stream",
     "text": [
      "../../hsc_outputs/v3.3/astro_VK/mean_function/all/mean_dv_78_all.fits\n",
      "../../hsc_outputs/v3.3/astro_VK/mean_function/all/mean_dv_79_all.fits\n",
      "../../hsc_outputs/v3.3/astro_VK/mean_function/all/mean_dv_8_all.fits\n",
      "../../hsc_outputs/v3.3/astro_VK/mean_function/all/mean_dv_31_all.fits\n",
      "../../hsc_outputs/v3.3/astro_VK/mean_function/all/mean_dv_30_all.fits\n",
      "../../hsc_outputs/v3.3/astro_VK/mean_function/all/mean_dv_97_all.fits\n",
      "../../hsc_outputs/v3.3/astro_VK/mean_function/all/mean_dv_96_all.fits\n",
      "../../hsc_outputs/v3.3/astro_VK/mean_function/all/mean_dv_2_all.fits\n"
     ]
    },
    {
     "name": "stderr",
     "output_type": "stream",
     "text": [
      "/Users/leget/software/anaconda3/lib/python3.7/site-packages/ipykernel_launcher.py:26: RuntimeWarning: invalid value encountered in greater\n",
      "/Users/leget/software/anaconda3/lib/python3.7/site-packages/ipykernel_launcher.py:26: RuntimeWarning: invalid value encountered in greater\n",
      "/Users/leget/software/anaconda3/lib/python3.7/site-packages/ipykernel_launcher.py:26: RuntimeWarning: invalid value encountered in greater\n",
      "/Users/leget/software/anaconda3/lib/python3.7/site-packages/ipykernel_launcher.py:26: RuntimeWarning: invalid value encountered in greater\n",
      "/Users/leget/software/anaconda3/lib/python3.7/site-packages/ipykernel_launcher.py:26: RuntimeWarning: invalid value encountered in greater\n",
      "/Users/leget/software/anaconda3/lib/python3.7/site-packages/ipykernel_launcher.py:26: RuntimeWarning: invalid value encountered in greater\n",
      "/Users/leget/software/anaconda3/lib/python3.7/site-packages/ipykernel_launcher.py:26: RuntimeWarning: invalid value encountered in greater\n"
     ]
    },
    {
     "name": "stdout",
     "output_type": "stream",
     "text": [
      "../../hsc_outputs/v3.3/astro_VK/mean_function/all/mean_dv_3_all.fits\n",
      "../../hsc_outputs/v3.3/astro_VK/mean_function/all/mean_dv_72_all.fits\n",
      "../../hsc_outputs/v3.3/astro_VK/mean_function/all/mean_dv_73_all.fits\n",
      "../../hsc_outputs/v3.3/astro_VK/mean_function/all/mean_dv_18_all.fits\n",
      "../../hsc_outputs/v3.3/astro_VK/mean_function/all/mean_dv_19_all.fits\n",
      "../../hsc_outputs/v3.3/astro_VK/mean_function/all/mean_dv_51_all.fits\n",
      "../../hsc_outputs/v3.3/astro_VK/mean_function/all/mean_dv_50_all.fits\n"
     ]
    },
    {
     "name": "stderr",
     "output_type": "stream",
     "text": [
      "/Users/leget/software/anaconda3/lib/python3.7/site-packages/ipykernel_launcher.py:26: RuntimeWarning: invalid value encountered in greater\n",
      "/Users/leget/software/anaconda3/lib/python3.7/site-packages/ipykernel_launcher.py:26: RuntimeWarning: invalid value encountered in greater\n",
      "/Users/leget/software/anaconda3/lib/python3.7/site-packages/ipykernel_launcher.py:26: RuntimeWarning: invalid value encountered in greater\n",
      "/Users/leget/software/anaconda3/lib/python3.7/site-packages/ipykernel_launcher.py:26: RuntimeWarning: invalid value encountered in greater\n",
      "/Users/leget/software/anaconda3/lib/python3.7/site-packages/ipykernel_launcher.py:26: RuntimeWarning: invalid value encountered in greater\n",
      "/Users/leget/software/anaconda3/lib/python3.7/site-packages/ipykernel_launcher.py:26: RuntimeWarning: invalid value encountered in greater\n",
      "/Users/leget/software/anaconda3/lib/python3.7/site-packages/ipykernel_launcher.py:26: RuntimeWarning: invalid value encountered in greater\n"
     ]
    },
    {
     "name": "stdout",
     "output_type": "stream",
     "text": [
      "../../hsc_outputs/v3.3/astro_VK/mean_function/all/mean_dv_103_all.fits\n",
      "../../hsc_outputs/v3.3/astro_VK/mean_function/all/mean_dv_102_all.fits\n",
      "../../hsc_outputs/v3.3/astro_VK/mean_function/all/mean_dv_26_all.fits\n",
      "../../hsc_outputs/v3.3/astro_VK/mean_function/all/mean_dv_27_all.fits\n",
      "../../hsc_outputs/v3.3/astro_VK/mean_function/all/mean_dv_80_all.fits\n",
      "../../hsc_outputs/v3.3/astro_VK/mean_function/all/mean_dv_81_all.fits\n",
      "../../hsc_outputs/v3.3/astro_VK/mean_function/all/mean_dv_12_all.fits\n",
      "../../hsc_outputs/v3.3/astro_VK/mean_function/all/mean_dv_13_all.fits\n"
     ]
    },
    {
     "name": "stderr",
     "output_type": "stream",
     "text": [
      "/Users/leget/software/anaconda3/lib/python3.7/site-packages/ipykernel_launcher.py:26: RuntimeWarning: invalid value encountered in greater\n",
      "/Users/leget/software/anaconda3/lib/python3.7/site-packages/ipykernel_launcher.py:26: RuntimeWarning: invalid value encountered in greater\n",
      "/Users/leget/software/anaconda3/lib/python3.7/site-packages/ipykernel_launcher.py:26: RuntimeWarning: invalid value encountered in greater\n",
      "/Users/leget/software/anaconda3/lib/python3.7/site-packages/ipykernel_launcher.py:26: RuntimeWarning: invalid value encountered in greater\n",
      "/Users/leget/software/anaconda3/lib/python3.7/site-packages/ipykernel_launcher.py:26: RuntimeWarning: invalid value encountered in greater\n",
      "/Users/leget/software/anaconda3/lib/python3.7/site-packages/ipykernel_launcher.py:26: RuntimeWarning: invalid value encountered in greater\n",
      "/Users/leget/software/anaconda3/lib/python3.7/site-packages/ipykernel_launcher.py:26: RuntimeWarning: invalid value encountered in greater\n",
      "/Users/leget/software/anaconda3/lib/python3.7/site-packages/ipykernel_launcher.py:26: RuntimeWarning: invalid value encountered in greater\n"
     ]
    },
    {
     "name": "stdout",
     "output_type": "stream",
     "text": [
      "../../hsc_outputs/v3.3/astro_VK/mean_function/all/mean_dv_65_all.fits\n",
      "../../hsc_outputs/v3.3/astro_VK/mean_function/all/mean_dv_64_all.fits\n",
      "../../hsc_outputs/v3.3/astro_VK/mean_function/all/mean_dv_93_all.fits\n",
      "../../hsc_outputs/v3.3/astro_VK/mean_function/all/mean_dv_92_all.fits\n",
      "../../hsc_outputs/v3.3/astro_VK/mean_function/all/mean_dv_48_all.fits\n",
      "../../hsc_outputs/v3.3/astro_VK/mean_function/all/mean_dv_49_all.fits\n",
      "../../hsc_outputs/v3.3/astro_VK/mean_function/all/mean_dv_76_all.fits\n",
      "../../hsc_outputs/v3.3/astro_VK/mean_function/all/mean_dv_77_all.fits\n",
      "../../hsc_outputs/v3.3/astro_VK/mean_function/all/mean_dv_6_all.fits\n",
      "../../hsc_outputs/v3.3/astro_VK/mean_function/all/mean_dv_7_all.fits\n",
      "../../hsc_outputs/v3.3/astro_VK/mean_function/all/mean_dv_42_all.fits\n"
     ]
    },
    {
     "name": "stderr",
     "output_type": "stream",
     "text": [
      "/Users/leget/software/anaconda3/lib/python3.7/site-packages/ipykernel_launcher.py:26: RuntimeWarning: invalid value encountered in greater\n",
      "/Users/leget/software/anaconda3/lib/python3.7/site-packages/ipykernel_launcher.py:26: RuntimeWarning: invalid value encountered in greater\n",
      "/Users/leget/software/anaconda3/lib/python3.7/site-packages/ipykernel_launcher.py:26: RuntimeWarning: invalid value encountered in greater\n",
      "/Users/leget/software/anaconda3/lib/python3.7/site-packages/ipykernel_launcher.py:26: RuntimeWarning: invalid value encountered in greater\n",
      "/Users/leget/software/anaconda3/lib/python3.7/site-packages/ipykernel_launcher.py:26: RuntimeWarning: invalid value encountered in greater\n",
      "/Users/leget/software/anaconda3/lib/python3.7/site-packages/ipykernel_launcher.py:26: RuntimeWarning: invalid value encountered in greater\n",
      "/Users/leget/software/anaconda3/lib/python3.7/site-packages/ipykernel_launcher.py:26: RuntimeWarning: invalid value encountered in greater\n",
      "/Users/leget/software/anaconda3/lib/python3.7/site-packages/ipykernel_launcher.py:26: RuntimeWarning: invalid value encountered in greater\n",
      "/Users/leget/software/anaconda3/lib/python3.7/site-packages/ipykernel_launcher.py:26: RuntimeWarning: invalid value encountered in greater\n",
      "/Users/leget/software/anaconda3/lib/python3.7/site-packages/ipykernel_launcher.py:26: RuntimeWarning: invalid value encountered in greater\n",
      "/Users/leget/software/anaconda3/lib/python3.7/site-packages/ipykernel_launcher.py:26: RuntimeWarning: invalid value encountered in greater\n"
     ]
    },
    {
     "name": "stdout",
     "output_type": "stream",
     "text": [
      "../../hsc_outputs/v3.3/astro_VK/mean_function/all/mean_dv_43_all.fits\n",
      "../../hsc_outputs/v3.3/astro_VK/mean_function/all/mean_dv_99_all.fits\n",
      "../../hsc_outputs/v3.3/astro_VK/mean_function/all/mean_dv_98_all.fits\n",
      "../../hsc_outputs/v3.3/astro_VK/mean_function/all/mean_dv_35_all.fits\n",
      "../../hsc_outputs/v3.3/astro_VK/mean_function/all/mean_dv_34_all.fits\n",
      "../../hsc_outputs/v3.3/astro_VK/mean_function/all/mean_dv_16_all.fits\n",
      "../../hsc_outputs/v3.3/astro_VK/mean_function/all/mean_dv_17_all.fits\n",
      "../../hsc_outputs/v3.3/astro_VK/mean_function/all/mean_dv_84_all.fits\n",
      "../../hsc_outputs/v3.3/astro_VK/mean_function/all/mean_dv_85_all.fits\n",
      "../../hsc_outputs/v3.3/astro_VK/mean_function/all/mean_dv_61_all.fits\n",
      "../../hsc_outputs/v3.3/astro_VK/mean_function/all/mean_dv_60_all.fits\n",
      "../../hsc_outputs/v3.3/astro_VK/mean_function/all/mean_dv_28_all.fits\n"
     ]
    },
    {
     "name": "stderr",
     "output_type": "stream",
     "text": [
      "/Users/leget/software/anaconda3/lib/python3.7/site-packages/ipykernel_launcher.py:26: RuntimeWarning: invalid value encountered in greater\n",
      "/Users/leget/software/anaconda3/lib/python3.7/site-packages/ipykernel_launcher.py:26: RuntimeWarning: invalid value encountered in greater\n",
      "/Users/leget/software/anaconda3/lib/python3.7/site-packages/ipykernel_launcher.py:26: RuntimeWarning: invalid value encountered in greater\n",
      "/Users/leget/software/anaconda3/lib/python3.7/site-packages/ipykernel_launcher.py:26: RuntimeWarning: invalid value encountered in greater\n",
      "/Users/leget/software/anaconda3/lib/python3.7/site-packages/ipykernel_launcher.py:26: RuntimeWarning: invalid value encountered in greater\n",
      "/Users/leget/software/anaconda3/lib/python3.7/site-packages/ipykernel_launcher.py:26: RuntimeWarning: invalid value encountered in greater\n",
      "/Users/leget/software/anaconda3/lib/python3.7/site-packages/ipykernel_launcher.py:26: RuntimeWarning: invalid value encountered in greater\n",
      "/Users/leget/software/anaconda3/lib/python3.7/site-packages/ipykernel_launcher.py:26: RuntimeWarning: invalid value encountered in greater\n",
      "/Users/leget/software/anaconda3/lib/python3.7/site-packages/ipykernel_launcher.py:26: RuntimeWarning: invalid value encountered in greater\n",
      "/Users/leget/software/anaconda3/lib/python3.7/site-packages/ipykernel_launcher.py:26: RuntimeWarning: invalid value encountered in greater\n",
      "/Users/leget/software/anaconda3/lib/python3.7/site-packages/ipykernel_launcher.py:26: RuntimeWarning: invalid value encountered in greater\n",
      "/Users/leget/software/anaconda3/lib/python3.7/site-packages/ipykernel_launcher.py:26: RuntimeWarning: invalid value encountered in greater\n",
      "/Users/leget/software/anaconda3/lib/python3.7/site-packages/ipykernel_launcher.py:26: RuntimeWarning: invalid value encountered in greater\n",
      "/Users/leget/software/anaconda3/lib/python3.7/site-packages/ipykernel_launcher.py:26: RuntimeWarning: invalid value encountered in greater\n",
      "/Users/leget/software/anaconda3/lib/python3.7/site-packages/ipykernel_launcher.py:26: RuntimeWarning: invalid value encountered in greater\n",
      "/Users/leget/software/anaconda3/lib/python3.7/site-packages/ipykernel_launcher.py:26: RuntimeWarning: invalid value encountered in greater\n",
      "/Users/leget/software/anaconda3/lib/python3.7/site-packages/ipykernel_launcher.py:26: RuntimeWarning: invalid value encountered in greater\n",
      "/Users/leget/software/anaconda3/lib/python3.7/site-packages/ipykernel_launcher.py:26: RuntimeWarning: invalid value encountered in greater\n",
      "/Users/leget/software/anaconda3/lib/python3.7/site-packages/ipykernel_launcher.py:26: RuntimeWarning: invalid value encountered in greater\n",
      "/Users/leget/software/anaconda3/lib/python3.7/site-packages/ipykernel_launcher.py:26: RuntimeWarning: invalid value encountered in greater\n",
      "/Users/leget/software/anaconda3/lib/python3.7/site-packages/ipykernel_launcher.py:26: RuntimeWarning: invalid value encountered in greater\n",
      "/Users/leget/software/anaconda3/lib/python3.7/site-packages/ipykernel_launcher.py:26: RuntimeWarning: invalid value encountered in greater\n",
      "/Users/leget/software/anaconda3/lib/python3.7/site-packages/ipykernel_launcher.py:26: RuntimeWarning: invalid value encountered in greater\n"
     ]
    },
    {
     "name": "stdout",
     "output_type": "stream",
     "text": [
      "../../hsc_outputs/v3.3/astro_VK/mean_function/all/mean_dv_29_all.fits\n",
      "../../hsc_outputs/v3.3/astro_VK/mean_function/all/mean_dv_55_all.fits\n",
      "../../hsc_outputs/v3.3/astro_VK/mean_function/all/mean_dv_54_all.fits\n",
      "../../hsc_outputs/v3.3/astro_VK/mean_function/all/mean_dv_22_all.fits\n",
      "../../hsc_outputs/v3.3/astro_VK/mean_function/all/mean_dv_23_all.fits\n",
      "../../hsc_outputs/v3.3/astro_VK/mean_function/all/mean_dv_58_all.fits\n",
      "../../hsc_outputs/v3.3/astro_VK/mean_function/all/mean_dv_59_all.fits\n",
      "../../hsc_outputs/v3.3/astro_VK/mean_function/all/mean_dv_83_all.fits\n",
      "../../hsc_outputs/v3.3/astro_VK/mean_function/all/mean_dv_82_all.fits\n",
      "../../hsc_outputs/v3.3/astro_VK/mean_function/all/mean_dv_11_all.fits\n",
      "../../hsc_outputs/v3.3/astro_VK/mean_function/all/mean_dv_10_all.fits\n",
      "../../hsc_outputs/v3.3/astro_VK/mean_function/all/mean_dv_66_all.fits\n"
     ]
    },
    {
     "name": "stderr",
     "output_type": "stream",
     "text": [
      "/Users/leget/software/anaconda3/lib/python3.7/site-packages/ipykernel_launcher.py:26: RuntimeWarning: invalid value encountered in greater\n",
      "/Users/leget/software/anaconda3/lib/python3.7/site-packages/ipykernel_launcher.py:26: RuntimeWarning: invalid value encountered in greater\n",
      "/Users/leget/software/anaconda3/lib/python3.7/site-packages/ipykernel_launcher.py:26: RuntimeWarning: invalid value encountered in greater\n",
      "/Users/leget/software/anaconda3/lib/python3.7/site-packages/ipykernel_launcher.py:26: RuntimeWarning: invalid value encountered in greater\n",
      "/Users/leget/software/anaconda3/lib/python3.7/site-packages/ipykernel_launcher.py:26: RuntimeWarning: invalid value encountered in greater\n",
      "/Users/leget/software/anaconda3/lib/python3.7/site-packages/ipykernel_launcher.py:26: RuntimeWarning: invalid value encountered in greater\n",
      "/Users/leget/software/anaconda3/lib/python3.7/site-packages/ipykernel_launcher.py:26: RuntimeWarning: invalid value encountered in greater\n",
      "/Users/leget/software/anaconda3/lib/python3.7/site-packages/ipykernel_launcher.py:26: RuntimeWarning: invalid value encountered in greater\n",
      "/Users/leget/software/anaconda3/lib/python3.7/site-packages/ipykernel_launcher.py:26: RuntimeWarning: invalid value encountered in greater\n",
      "/Users/leget/software/anaconda3/lib/python3.7/site-packages/ipykernel_launcher.py:26: RuntimeWarning: invalid value encountered in greater\n",
      "/Users/leget/software/anaconda3/lib/python3.7/site-packages/ipykernel_launcher.py:26: RuntimeWarning: invalid value encountered in greater\n",
      "/Users/leget/software/anaconda3/lib/python3.7/site-packages/ipykernel_launcher.py:26: RuntimeWarning: invalid value encountered in greater\n"
     ]
    },
    {
     "name": "stdout",
     "output_type": "stream",
     "text": [
      "../../hsc_outputs/v3.3/astro_VK/mean_function/all/mean_dv_67_all.fits\n",
      "../../hsc_outputs/v3.3/astro_VK/mean_function/all/mean_dv_89_all.fits\n",
      "../../hsc_outputs/v3.3/astro_VK/mean_function/all/mean_dv_88_all.fits\n",
      "../../hsc_outputs/v3.3/astro_VK/mean_function/all/mean_dv_52_all.fits\n",
      "../../hsc_outputs/v3.3/astro_VK/mean_function/all/mean_dv_53_all.fits\n",
      "../../hsc_outputs/v3.3/astro_VK/mean_function/all/mean_dv_100_all.fits\n",
      "../../hsc_outputs/v3.3/astro_VK/mean_function/all/mean_dv_101_all.fits\n",
      "../../hsc_outputs/v3.3/astro_VK/mean_function/all/mean_dv_25_all.fits\n",
      "../../hsc_outputs/v3.3/astro_VK/mean_function/all/mean_dv_24_all.fits\n",
      "../../hsc_outputs/v3.3/astro_VK/mean_function/all/mean_dv_94_all.fits\n",
      "../../hsc_outputs/v3.3/astro_VK/mean_function/all/mean_dv_95_all.fits\n",
      "../../hsc_outputs/v3.3/astro_VK/mean_function/all/mean_dv_38_all.fits\n"
     ]
    },
    {
     "name": "stderr",
     "output_type": "stream",
     "text": [
      "/Users/leget/software/anaconda3/lib/python3.7/site-packages/ipykernel_launcher.py:26: RuntimeWarning: invalid value encountered in greater\n",
      "/Users/leget/software/anaconda3/lib/python3.7/site-packages/ipykernel_launcher.py:26: RuntimeWarning: invalid value encountered in greater\n",
      "/Users/leget/software/anaconda3/lib/python3.7/site-packages/ipykernel_launcher.py:26: RuntimeWarning: invalid value encountered in greater\n",
      "/Users/leget/software/anaconda3/lib/python3.7/site-packages/ipykernel_launcher.py:26: RuntimeWarning: invalid value encountered in greater\n",
      "/Users/leget/software/anaconda3/lib/python3.7/site-packages/ipykernel_launcher.py:26: RuntimeWarning: invalid value encountered in greater\n",
      "/Users/leget/software/anaconda3/lib/python3.7/site-packages/ipykernel_launcher.py:26: RuntimeWarning: invalid value encountered in greater\n",
      "/Users/leget/software/anaconda3/lib/python3.7/site-packages/ipykernel_launcher.py:26: RuntimeWarning: invalid value encountered in greater\n",
      "/Users/leget/software/anaconda3/lib/python3.7/site-packages/ipykernel_launcher.py:26: RuntimeWarning: invalid value encountered in greater\n",
      "/Users/leget/software/anaconda3/lib/python3.7/site-packages/ipykernel_launcher.py:26: RuntimeWarning: invalid value encountered in greater\n",
      "/Users/leget/software/anaconda3/lib/python3.7/site-packages/ipykernel_launcher.py:26: RuntimeWarning: invalid value encountered in greater\n",
      "/Users/leget/software/anaconda3/lib/python3.7/site-packages/ipykernel_launcher.py:26: RuntimeWarning: invalid value encountered in greater\n",
      "/Users/leget/software/anaconda3/lib/python3.7/site-packages/ipykernel_launcher.py:26: RuntimeWarning: invalid value encountered in greater\n"
     ]
    },
    {
     "name": "stdout",
     "output_type": "stream",
     "text": [
      "../../hsc_outputs/v3.3/astro_VK/mean_function/all/mean_dv_39_all.fits\n",
      "../../hsc_outputs/v3.3/astro_VK/mean_function/all/mean_dv_71_all.fits\n",
      "../../hsc_outputs/v3.3/astro_VK/mean_function/all/mean_dv_70_all.fits\n",
      "../../hsc_outputs/v3.3/astro_VK/mean_function/all/mean_dv_1_all.fits\n",
      "../../hsc_outputs/v3.3/astro_VK/mean_function/all/mean_dv_45_all.fits\n",
      "../../hsc_outputs/v3.3/astro_VK/mean_function/all/mean_dv_44_all.fits\n",
      "../../hsc_outputs/v3.3/astro_VK/mean_function/all/mean_dv_32_all.fits\n",
      "../../hsc_outputs/v3.3/astro_VK/mean_function/all/mean_dv_33_all.fits\n",
      "../../hsc_outputs/v3.3/astro_VK/mean_function/all/mean_dv_56_all.fits\n",
      "../../hsc_outputs/v3.3/astro_VK/mean_function/all/mean_dv_57_all.fits\n",
      "../../hsc_outputs/v3.3/astro_VK/mean_function/all/mean_dv_21_all.fits\n",
      "../../hsc_outputs/v3.3/astro_VK/mean_function/all/mean_dv_20_all.fits\n",
      "../../hsc_outputs/v3.3/astro_VK/mean_function/all/mean_dv_68_all.fits\n",
      "../../hsc_outputs/v3.3/astro_VK/mean_function/all/mean_dv_69_all.fits\n",
      "../../hsc_outputs/v3.3/astro_VK/mean_function/all/mean_dv_15_all.fits\n",
      "../../hsc_outputs/v3.3/astro_VK/mean_function/all/mean_dv_14_all.fits\n",
      "../../hsc_outputs/v3.3/astro_VK/mean_function/all/mean_dv_87_all.fits\n",
      "../../hsc_outputs/v3.3/astro_VK/mean_function/all/mean_dv_86_all.fits\n",
      "../../hsc_outputs/v3.3/astro_VK/mean_function/all/mean_dv_62_all.fits\n",
      "../../hsc_outputs/v3.3/astro_VK/mean_function/all/mean_dv_63_all.fits\n",
      "../../hsc_outputs/v3.3/astro_VK/mean_function/all/mean_dv_41_all.fits\n",
      "../../hsc_outputs/v3.3/astro_VK/mean_function/all/mean_dv_40_all.fits\n",
      "../../hsc_outputs/v3.3/astro_VK/mean_function/all/mean_dv_36_all.fits\n"
     ]
    },
    {
     "name": "stderr",
     "output_type": "stream",
     "text": [
      "/Users/leget/software/anaconda3/lib/python3.7/site-packages/ipykernel_launcher.py:26: RuntimeWarning: invalid value encountered in greater\n",
      "/Users/leget/software/anaconda3/lib/python3.7/site-packages/ipykernel_launcher.py:26: RuntimeWarning: invalid value encountered in greater\n",
      "/Users/leget/software/anaconda3/lib/python3.7/site-packages/ipykernel_launcher.py:26: RuntimeWarning: invalid value encountered in greater\n",
      "/Users/leget/software/anaconda3/lib/python3.7/site-packages/ipykernel_launcher.py:26: RuntimeWarning: invalid value encountered in greater\n",
      "/Users/leget/software/anaconda3/lib/python3.7/site-packages/ipykernel_launcher.py:26: RuntimeWarning: invalid value encountered in greater\n",
      "/Users/leget/software/anaconda3/lib/python3.7/site-packages/ipykernel_launcher.py:26: RuntimeWarning: invalid value encountered in greater\n",
      "/Users/leget/software/anaconda3/lib/python3.7/site-packages/ipykernel_launcher.py:26: RuntimeWarning: invalid value encountered in greater\n",
      "/Users/leget/software/anaconda3/lib/python3.7/site-packages/ipykernel_launcher.py:26: RuntimeWarning: invalid value encountered in greater\n",
      "/Users/leget/software/anaconda3/lib/python3.7/site-packages/ipykernel_launcher.py:26: RuntimeWarning: invalid value encountered in greater\n",
      "/Users/leget/software/anaconda3/lib/python3.7/site-packages/ipykernel_launcher.py:26: RuntimeWarning: invalid value encountered in greater\n",
      "/Users/leget/software/anaconda3/lib/python3.7/site-packages/ipykernel_launcher.py:26: RuntimeWarning: invalid value encountered in greater\n",
      "/Users/leget/software/anaconda3/lib/python3.7/site-packages/ipykernel_launcher.py:26: RuntimeWarning: invalid value encountered in greater\n",
      "/Users/leget/software/anaconda3/lib/python3.7/site-packages/ipykernel_launcher.py:26: RuntimeWarning: invalid value encountered in greater\n",
      "/Users/leget/software/anaconda3/lib/python3.7/site-packages/ipykernel_launcher.py:26: RuntimeWarning: invalid value encountered in greater\n",
      "/Users/leget/software/anaconda3/lib/python3.7/site-packages/ipykernel_launcher.py:26: RuntimeWarning: invalid value encountered in greater\n",
      "/Users/leget/software/anaconda3/lib/python3.7/site-packages/ipykernel_launcher.py:26: RuntimeWarning: invalid value encountered in greater\n",
      "/Users/leget/software/anaconda3/lib/python3.7/site-packages/ipykernel_launcher.py:26: RuntimeWarning: invalid value encountered in greater\n",
      "/Users/leget/software/anaconda3/lib/python3.7/site-packages/ipykernel_launcher.py:26: RuntimeWarning: invalid value encountered in greater\n",
      "/Users/leget/software/anaconda3/lib/python3.7/site-packages/ipykernel_launcher.py:26: RuntimeWarning: invalid value encountered in greater\n",
      "/Users/leget/software/anaconda3/lib/python3.7/site-packages/ipykernel_launcher.py:26: RuntimeWarning: invalid value encountered in greater\n",
      "/Users/leget/software/anaconda3/lib/python3.7/site-packages/ipykernel_launcher.py:26: RuntimeWarning: invalid value encountered in greater\n",
      "/Users/leget/software/anaconda3/lib/python3.7/site-packages/ipykernel_launcher.py:26: RuntimeWarning: invalid value encountered in greater\n",
      "/Users/leget/software/anaconda3/lib/python3.7/site-packages/ipykernel_launcher.py:26: RuntimeWarning: invalid value encountered in greater\n"
     ]
    },
    {
     "name": "stdout",
     "output_type": "stream",
     "text": [
      "../../hsc_outputs/v3.3/astro_VK/mean_function/all/mean_dv_37_all.fits\n",
      "../../hsc_outputs/v3.3/astro_VK/mean_function/all/mean_dv_90_all.fits\n",
      "../../hsc_outputs/v3.3/astro_VK/mean_function/all/mean_dv_91_all.fits\n",
      "../../hsc_outputs/v3.3/astro_VK/mean_function/all/mean_dv_5_all.fits\n",
      "../../hsc_outputs/v3.3/astro_VK/mean_function/all/mean_dv_4_all.fits\n",
      "../../hsc_outputs/v3.3/astro_VK/mean_function/all/mean_dv_75_all.fits\n",
      "../../hsc_outputs/v3.3/astro_VK/mean_function/all/mean_dv_74_all.fits\n",
      "../../hsc_outputs/v3.3/astro_VK/mean_function/all/mean_dv_46_all.fits\n",
      "../../hsc_outputs/v3.3/astro_VK/mean_function/all/mean_dv_47_all.fits\n",
      "../../hsc_outputs/v3.3/astro_VK/mean_function/all/mean_dv_78_all.fits\n",
      "../../hsc_outputs/v3.3/astro_VK/mean_function/all/mean_dv_79_all.fits\n",
      "../../hsc_outputs/v3.3/astro_VK/mean_function/all/mean_dv_8_all.fits\n",
      "../../hsc_outputs/v3.3/astro_VK/mean_function/all/mean_dv_31_all.fits\n",
      "../../hsc_outputs/v3.3/astro_VK/mean_function/all/mean_dv_30_all.fits\n",
      "../../hsc_outputs/v3.3/astro_VK/mean_function/all/mean_dv_97_all.fits\n",
      "../../hsc_outputs/v3.3/astro_VK/mean_function/all/mean_dv_96_all.fits\n",
      "../../hsc_outputs/v3.3/astro_VK/mean_function/all/mean_dv_2_all.fits\n",
      "../../hsc_outputs/v3.3/astro_VK/mean_function/all/mean_dv_3_all.fits\n",
      "../../hsc_outputs/v3.3/astro_VK/mean_function/all/mean_dv_72_all.fits\n",
      "../../hsc_outputs/v3.3/astro_VK/mean_function/all/mean_dv_73_all.fits\n",
      "../../hsc_outputs/v3.3/astro_VK/mean_function/all/mean_dv_18_all.fits\n",
      "../../hsc_outputs/v3.3/astro_VK/mean_function/all/mean_dv_19_all.fits\n",
      "../../hsc_outputs/v3.3/astro_VK/mean_function/all/mean_dv_51_all.fits\n",
      "../../hsc_outputs/v3.3/astro_VK/mean_function/all/mean_dv_50_all.fits\n"
     ]
    },
    {
     "name": "stderr",
     "output_type": "stream",
     "text": [
      "/Users/leget/software/anaconda3/lib/python3.7/site-packages/ipykernel_launcher.py:26: RuntimeWarning: invalid value encountered in greater\n",
      "/Users/leget/software/anaconda3/lib/python3.7/site-packages/ipykernel_launcher.py:26: RuntimeWarning: invalid value encountered in greater\n",
      "/Users/leget/software/anaconda3/lib/python3.7/site-packages/ipykernel_launcher.py:26: RuntimeWarning: invalid value encountered in greater\n",
      "/Users/leget/software/anaconda3/lib/python3.7/site-packages/ipykernel_launcher.py:26: RuntimeWarning: invalid value encountered in greater\n",
      "/Users/leget/software/anaconda3/lib/python3.7/site-packages/ipykernel_launcher.py:26: RuntimeWarning: invalid value encountered in greater\n",
      "/Users/leget/software/anaconda3/lib/python3.7/site-packages/ipykernel_launcher.py:26: RuntimeWarning: invalid value encountered in greater\n",
      "/Users/leget/software/anaconda3/lib/python3.7/site-packages/ipykernel_launcher.py:26: RuntimeWarning: invalid value encountered in greater\n",
      "/Users/leget/software/anaconda3/lib/python3.7/site-packages/ipykernel_launcher.py:26: RuntimeWarning: invalid value encountered in greater\n",
      "/Users/leget/software/anaconda3/lib/python3.7/site-packages/ipykernel_launcher.py:26: RuntimeWarning: invalid value encountered in greater\n",
      "/Users/leget/software/anaconda3/lib/python3.7/site-packages/ipykernel_launcher.py:26: RuntimeWarning: invalid value encountered in greater\n",
      "/Users/leget/software/anaconda3/lib/python3.7/site-packages/ipykernel_launcher.py:26: RuntimeWarning: invalid value encountered in greater\n",
      "/Users/leget/software/anaconda3/lib/python3.7/site-packages/ipykernel_launcher.py:26: RuntimeWarning: invalid value encountered in greater\n"
     ]
    },
    {
     "name": "stdout",
     "output_type": "stream",
     "text": [
      "../../hsc_outputs/v3.3/astro_VK/mean_function/all/mean_dv_103_all.fits\n",
      "../../hsc_outputs/v3.3/astro_VK/mean_function/all/mean_dv_102_all.fits\n",
      "../../hsc_outputs/v3.3/astro_VK/mean_function/all/mean_dv_26_all.fits\n",
      "../../hsc_outputs/v3.3/astro_VK/mean_function/all/mean_dv_27_all.fits\n",
      "../../hsc_outputs/v3.3/astro_VK/mean_function/all/mean_dv_80_all.fits\n",
      "../../hsc_outputs/v3.3/astro_VK/mean_function/all/mean_dv_81_all.fits\n",
      "../../hsc_outputs/v3.3/astro_VK/mean_function/all/mean_dv_12_all.fits\n",
      "../../hsc_outputs/v3.3/astro_VK/mean_function/all/mean_dv_13_all.fits\n",
      "../../hsc_outputs/v3.3/astro_VK/mean_function/all/mean_dv_65_all.fits\n",
      "../../hsc_outputs/v3.3/astro_VK/mean_function/all/mean_dv_64_all.fits\n",
      "../../hsc_outputs/v3.3/astro_VK/mean_function/all/mean_dv_93_all.fits\n"
     ]
    },
    {
     "name": "stderr",
     "output_type": "stream",
     "text": [
      "/Users/leget/software/anaconda3/lib/python3.7/site-packages/ipykernel_launcher.py:26: RuntimeWarning: invalid value encountered in greater\n",
      "/Users/leget/software/anaconda3/lib/python3.7/site-packages/ipykernel_launcher.py:26: RuntimeWarning: invalid value encountered in greater\n",
      "/Users/leget/software/anaconda3/lib/python3.7/site-packages/ipykernel_launcher.py:26: RuntimeWarning: invalid value encountered in greater\n",
      "/Users/leget/software/anaconda3/lib/python3.7/site-packages/ipykernel_launcher.py:26: RuntimeWarning: invalid value encountered in greater\n",
      "/Users/leget/software/anaconda3/lib/python3.7/site-packages/ipykernel_launcher.py:26: RuntimeWarning: invalid value encountered in greater\n",
      "/Users/leget/software/anaconda3/lib/python3.7/site-packages/ipykernel_launcher.py:26: RuntimeWarning: invalid value encountered in greater\n",
      "/Users/leget/software/anaconda3/lib/python3.7/site-packages/ipykernel_launcher.py:26: RuntimeWarning: invalid value encountered in greater\n",
      "/Users/leget/software/anaconda3/lib/python3.7/site-packages/ipykernel_launcher.py:26: RuntimeWarning: invalid value encountered in greater\n",
      "/Users/leget/software/anaconda3/lib/python3.7/site-packages/ipykernel_launcher.py:26: RuntimeWarning: invalid value encountered in greater\n",
      "/Users/leget/software/anaconda3/lib/python3.7/site-packages/ipykernel_launcher.py:26: RuntimeWarning: invalid value encountered in greater\n",
      "/Users/leget/software/anaconda3/lib/python3.7/site-packages/ipykernel_launcher.py:26: RuntimeWarning: invalid value encountered in greater\n",
      "/Users/leget/software/anaconda3/lib/python3.7/site-packages/ipykernel_launcher.py:26: RuntimeWarning: invalid value encountered in greater\n"
     ]
    },
    {
     "name": "stdout",
     "output_type": "stream",
     "text": [
      "../../hsc_outputs/v3.3/astro_VK/mean_function/all/mean_dv_92_all.fits\n",
      "../../hsc_outputs/v3.3/astro_VK/mean_function/all/mean_dv_48_all.fits\n",
      "../../hsc_outputs/v3.3/astro_VK/mean_function/all/mean_dv_49_all.fits\n",
      "../../hsc_outputs/v3.3/astro_VK/mean_function/all/mean_dv_76_all.fits\n",
      "../../hsc_outputs/v3.3/astro_VK/mean_function/all/mean_dv_77_all.fits\n",
      "../../hsc_outputs/v3.3/astro_VK/mean_function/all/mean_dv_6_all.fits\n",
      "../../hsc_outputs/v3.3/astro_VK/mean_function/all/mean_dv_7_all.fits\n",
      "../../hsc_outputs/v3.3/astro_VK/mean_function/all/mean_dv_42_all.fits\n",
      "../../hsc_outputs/v3.3/astro_VK/mean_function/all/mean_dv_43_all.fits\n",
      "../../hsc_outputs/v3.3/astro_VK/mean_function/all/mean_dv_99_all.fits\n",
      "../../hsc_outputs/v3.3/astro_VK/mean_function/all/mean_dv_98_all.fits\n",
      "../../hsc_outputs/v3.3/astro_VK/mean_function/all/mean_dv_35_all.fits\n",
      "../../hsc_outputs/v3.3/astro_VK/mean_function/all/mean_dv_34_all.fits\n",
      "../../hsc_outputs/v3.3/astro_VK/mean_function/all/mean_dv_16_all.fits\n",
      "../../hsc_outputs/v3.3/astro_VK/mean_function/all/mean_dv_17_all.fits\n",
      "../../hsc_outputs/v3.3/astro_VK/mean_function/all/mean_dv_84_all.fits\n",
      "../../hsc_outputs/v3.3/astro_VK/mean_function/all/mean_dv_85_all.fits\n"
     ]
    },
    {
     "name": "stderr",
     "output_type": "stream",
     "text": [
      "/Users/leget/software/anaconda3/lib/python3.7/site-packages/ipykernel_launcher.py:26: RuntimeWarning: invalid value encountered in greater\n",
      "/Users/leget/software/anaconda3/lib/python3.7/site-packages/ipykernel_launcher.py:26: RuntimeWarning: invalid value encountered in greater\n",
      "/Users/leget/software/anaconda3/lib/python3.7/site-packages/ipykernel_launcher.py:26: RuntimeWarning: invalid value encountered in greater\n",
      "/Users/leget/software/anaconda3/lib/python3.7/site-packages/ipykernel_launcher.py:26: RuntimeWarning: invalid value encountered in greater\n",
      "/Users/leget/software/anaconda3/lib/python3.7/site-packages/ipykernel_launcher.py:26: RuntimeWarning: invalid value encountered in greater\n",
      "/Users/leget/software/anaconda3/lib/python3.7/site-packages/ipykernel_launcher.py:26: RuntimeWarning: invalid value encountered in greater\n",
      "/Users/leget/software/anaconda3/lib/python3.7/site-packages/ipykernel_launcher.py:26: RuntimeWarning: invalid value encountered in greater\n",
      "/Users/leget/software/anaconda3/lib/python3.7/site-packages/ipykernel_launcher.py:26: RuntimeWarning: invalid value encountered in greater\n",
      "/Users/leget/software/anaconda3/lib/python3.7/site-packages/ipykernel_launcher.py:26: RuntimeWarning: invalid value encountered in greater\n",
      "/Users/leget/software/anaconda3/lib/python3.7/site-packages/ipykernel_launcher.py:26: RuntimeWarning: invalid value encountered in greater\n",
      "/Users/leget/software/anaconda3/lib/python3.7/site-packages/ipykernel_launcher.py:26: RuntimeWarning: invalid value encountered in greater\n",
      "/Users/leget/software/anaconda3/lib/python3.7/site-packages/ipykernel_launcher.py:26: RuntimeWarning: invalid value encountered in greater\n",
      "/Users/leget/software/anaconda3/lib/python3.7/site-packages/ipykernel_launcher.py:26: RuntimeWarning: invalid value encountered in greater\n",
      "/Users/leget/software/anaconda3/lib/python3.7/site-packages/ipykernel_launcher.py:26: RuntimeWarning: invalid value encountered in greater\n",
      "/Users/leget/software/anaconda3/lib/python3.7/site-packages/ipykernel_launcher.py:26: RuntimeWarning: invalid value encountered in greater\n",
      "/Users/leget/software/anaconda3/lib/python3.7/site-packages/ipykernel_launcher.py:26: RuntimeWarning: invalid value encountered in greater\n",
      "/Users/leget/software/anaconda3/lib/python3.7/site-packages/ipykernel_launcher.py:26: RuntimeWarning: invalid value encountered in greater\n"
     ]
    },
    {
     "name": "stdout",
     "output_type": "stream",
     "text": [
      "../../hsc_outputs/v3.3/astro_VK/mean_function/all/mean_dv_61_all.fits\n",
      "../../hsc_outputs/v3.3/astro_VK/mean_function/all/mean_dv_60_all.fits\n",
      "../../hsc_outputs/v3.3/astro_VK/mean_function/all/mean_dv_28_all.fits\n",
      "../../hsc_outputs/v3.3/astro_VK/mean_function/all/mean_dv_29_all.fits\n",
      "../../hsc_outputs/v3.3/astro_VK/mean_function/all/mean_dv_55_all.fits\n",
      "../../hsc_outputs/v3.3/astro_VK/mean_function/all/mean_dv_54_all.fits\n",
      "../../hsc_outputs/v3.3/astro_VK/mean_function/all/mean_dv_22_all.fits\n",
      "../../hsc_outputs/v3.3/astro_VK/mean_function/all/mean_dv_23_all.fits\n",
      "../../hsc_outputs/v3.3/astro_VK/mean_function/all/mean_dv_58_all.fits\n",
      "../../hsc_outputs/v3.3/astro_VK/mean_function/all/mean_dv_59_all.fits\n",
      "../../hsc_outputs/v3.3/astro_VK/mean_function/all/mean_dv_83_all.fits\n",
      "../../hsc_outputs/v3.3/astro_VK/mean_function/all/mean_dv_82_all.fits\n",
      "../../hsc_outputs/v3.3/astro_VK/mean_function/all/mean_dv_11_all.fits\n",
      "../../hsc_outputs/v3.3/astro_VK/mean_function/all/mean_dv_10_all.fits\n"
     ]
    },
    {
     "name": "stderr",
     "output_type": "stream",
     "text": [
      "/Users/leget/software/anaconda3/lib/python3.7/site-packages/ipykernel_launcher.py:26: RuntimeWarning: invalid value encountered in greater\n",
      "/Users/leget/software/anaconda3/lib/python3.7/site-packages/ipykernel_launcher.py:26: RuntimeWarning: invalid value encountered in greater\n",
      "/Users/leget/software/anaconda3/lib/python3.7/site-packages/ipykernel_launcher.py:26: RuntimeWarning: invalid value encountered in greater\n",
      "/Users/leget/software/anaconda3/lib/python3.7/site-packages/ipykernel_launcher.py:26: RuntimeWarning: invalid value encountered in greater\n",
      "/Users/leget/software/anaconda3/lib/python3.7/site-packages/ipykernel_launcher.py:26: RuntimeWarning: invalid value encountered in greater\n",
      "/Users/leget/software/anaconda3/lib/python3.7/site-packages/ipykernel_launcher.py:26: RuntimeWarning: invalid value encountered in greater\n",
      "/Users/leget/software/anaconda3/lib/python3.7/site-packages/ipykernel_launcher.py:26: RuntimeWarning: invalid value encountered in greater\n",
      "/Users/leget/software/anaconda3/lib/python3.7/site-packages/ipykernel_launcher.py:26: RuntimeWarning: invalid value encountered in greater\n",
      "/Users/leget/software/anaconda3/lib/python3.7/site-packages/ipykernel_launcher.py:26: RuntimeWarning: invalid value encountered in greater\n",
      "/Users/leget/software/anaconda3/lib/python3.7/site-packages/ipykernel_launcher.py:26: RuntimeWarning: invalid value encountered in greater\n",
      "/Users/leget/software/anaconda3/lib/python3.7/site-packages/ipykernel_launcher.py:26: RuntimeWarning: invalid value encountered in greater\n",
      "/Users/leget/software/anaconda3/lib/python3.7/site-packages/ipykernel_launcher.py:26: RuntimeWarning: invalid value encountered in greater\n",
      "/Users/leget/software/anaconda3/lib/python3.7/site-packages/ipykernel_launcher.py:26: RuntimeWarning: invalid value encountered in greater\n",
      "/Users/leget/software/anaconda3/lib/python3.7/site-packages/ipykernel_launcher.py:26: RuntimeWarning: invalid value encountered in greater\n",
      "/Users/leget/software/anaconda3/lib/python3.7/site-packages/ipykernel_launcher.py:26: RuntimeWarning: invalid value encountered in greater\n"
     ]
    },
    {
     "name": "stdout",
     "output_type": "stream",
     "text": [
      "../../hsc_outputs/v3.3/astro_VK/mean_function/all/mean_dv_66_all.fits\n",
      "../../hsc_outputs/v3.3/astro_VK/mean_function/all/mean_dv_67_all.fits\n",
      "../../hsc_outputs/v3.3/astro_VK/mean_function/all/mean_dv_89_all.fits\n",
      "../../hsc_outputs/v3.3/astro_VK/mean_function/all/mean_dv_88_all.fits\n",
      "../../hsc_outputs/v3.3/astro_VK/mean_function/all/mean_dv_52_all.fits\n",
      "../../hsc_outputs/v3.3/astro_VK/mean_function/all/mean_dv_53_all.fits\n",
      "../../hsc_outputs/v3.3/astro_VK/mean_function/all/mean_dv_100_all.fits\n",
      "../../hsc_outputs/v3.3/astro_VK/mean_function/all/mean_dv_101_all.fits\n",
      "../../hsc_outputs/v3.3/astro_VK/mean_function/all/mean_dv_25_all.fits\n",
      "../../hsc_outputs/v3.3/astro_VK/mean_function/all/mean_dv_24_all.fits\n",
      "../../hsc_outputs/v3.3/astro_VK/mean_function/all/mean_dv_94_all.fits\n",
      "../../hsc_outputs/v3.3/astro_VK/mean_function/all/mean_dv_95_all.fits\n",
      "../../hsc_outputs/v3.3/astro_VK/mean_function/all/mean_dv_38_all.fits\n",
      "../../hsc_outputs/v3.3/astro_VK/mean_function/all/mean_dv_39_all.fits\n"
     ]
    },
    {
     "name": "stderr",
     "output_type": "stream",
     "text": [
      "/Users/leget/software/anaconda3/lib/python3.7/site-packages/ipykernel_launcher.py:26: RuntimeWarning: invalid value encountered in greater\n",
      "/Users/leget/software/anaconda3/lib/python3.7/site-packages/ipykernel_launcher.py:26: RuntimeWarning: invalid value encountered in greater\n",
      "/Users/leget/software/anaconda3/lib/python3.7/site-packages/ipykernel_launcher.py:26: RuntimeWarning: invalid value encountered in greater\n",
      "/Users/leget/software/anaconda3/lib/python3.7/site-packages/ipykernel_launcher.py:26: RuntimeWarning: invalid value encountered in greater\n",
      "/Users/leget/software/anaconda3/lib/python3.7/site-packages/ipykernel_launcher.py:26: RuntimeWarning: invalid value encountered in greater\n",
      "/Users/leget/software/anaconda3/lib/python3.7/site-packages/ipykernel_launcher.py:26: RuntimeWarning: invalid value encountered in greater\n",
      "/Users/leget/software/anaconda3/lib/python3.7/site-packages/ipykernel_launcher.py:26: RuntimeWarning: invalid value encountered in greater\n",
      "/Users/leget/software/anaconda3/lib/python3.7/site-packages/ipykernel_launcher.py:26: RuntimeWarning: invalid value encountered in greater\n",
      "/Users/leget/software/anaconda3/lib/python3.7/site-packages/ipykernel_launcher.py:26: RuntimeWarning: invalid value encountered in greater\n",
      "/Users/leget/software/anaconda3/lib/python3.7/site-packages/ipykernel_launcher.py:26: RuntimeWarning: invalid value encountered in greater\n",
      "/Users/leget/software/anaconda3/lib/python3.7/site-packages/ipykernel_launcher.py:26: RuntimeWarning: invalid value encountered in greater\n",
      "/Users/leget/software/anaconda3/lib/python3.7/site-packages/ipykernel_launcher.py:26: RuntimeWarning: invalid value encountered in greater\n",
      "/Users/leget/software/anaconda3/lib/python3.7/site-packages/ipykernel_launcher.py:26: RuntimeWarning: invalid value encountered in greater\n",
      "/Users/leget/software/anaconda3/lib/python3.7/site-packages/ipykernel_launcher.py:26: RuntimeWarning: invalid value encountered in greater\n"
     ]
    },
    {
     "name": "stdout",
     "output_type": "stream",
     "text": [
      "../../hsc_outputs/v3.3/astro_VK/mean_function/all/mean_dv_71_all.fits\n",
      "../../hsc_outputs/v3.3/astro_VK/mean_function/all/mean_dv_70_all.fits\n",
      "../../hsc_outputs/v3.3/astro_VK/mean_function/all/mean_dv_1_all.fits\n",
      "../../hsc_outputs/v3.3/astro_VK/mean_function/all/mean_dv_45_all.fits\n",
      "../../hsc_outputs/v3.3/astro_VK/mean_function/all/mean_dv_44_all.fits\n",
      "../../hsc_outputs/v3.3/astro_VK/mean_function/all/mean_dv_32_all.fits\n",
      "../../hsc_outputs/v3.3/astro_VK/mean_function/all/mean_dv_33_all.fits\n",
      "../../hsc_outputs/v3.3/astro_VK/mean_function/all/mean_dv_56_all.fits\n",
      "../../hsc_outputs/v3.3/astro_VK/mean_function/all/mean_dv_57_all.fits\n",
      "../../hsc_outputs/v3.3/astro_VK/mean_function/all/mean_dv_21_all.fits\n",
      "../../hsc_outputs/v3.3/astro_VK/mean_function/all/mean_dv_20_all.fits\n",
      "../../hsc_outputs/v3.3/astro_VK/mean_function/all/mean_dv_68_all.fits\n",
      "../../hsc_outputs/v3.3/astro_VK/mean_function/all/mean_dv_69_all.fits\n",
      "../../hsc_outputs/v3.3/astro_VK/mean_function/all/mean_dv_15_all.fits\n"
     ]
    },
    {
     "name": "stderr",
     "output_type": "stream",
     "text": [
      "/Users/leget/software/anaconda3/lib/python3.7/site-packages/ipykernel_launcher.py:26: RuntimeWarning: invalid value encountered in greater\n",
      "/Users/leget/software/anaconda3/lib/python3.7/site-packages/ipykernel_launcher.py:26: RuntimeWarning: invalid value encountered in greater\n",
      "/Users/leget/software/anaconda3/lib/python3.7/site-packages/ipykernel_launcher.py:26: RuntimeWarning: invalid value encountered in greater\n",
      "/Users/leget/software/anaconda3/lib/python3.7/site-packages/ipykernel_launcher.py:26: RuntimeWarning: invalid value encountered in greater\n",
      "/Users/leget/software/anaconda3/lib/python3.7/site-packages/ipykernel_launcher.py:26: RuntimeWarning: invalid value encountered in greater\n",
      "/Users/leget/software/anaconda3/lib/python3.7/site-packages/ipykernel_launcher.py:26: RuntimeWarning: invalid value encountered in greater\n",
      "/Users/leget/software/anaconda3/lib/python3.7/site-packages/ipykernel_launcher.py:26: RuntimeWarning: invalid value encountered in greater\n",
      "/Users/leget/software/anaconda3/lib/python3.7/site-packages/ipykernel_launcher.py:26: RuntimeWarning: invalid value encountered in greater\n",
      "/Users/leget/software/anaconda3/lib/python3.7/site-packages/ipykernel_launcher.py:26: RuntimeWarning: invalid value encountered in greater\n",
      "/Users/leget/software/anaconda3/lib/python3.7/site-packages/ipykernel_launcher.py:26: RuntimeWarning: invalid value encountered in greater\n",
      "/Users/leget/software/anaconda3/lib/python3.7/site-packages/ipykernel_launcher.py:26: RuntimeWarning: invalid value encountered in greater\n",
      "/Users/leget/software/anaconda3/lib/python3.7/site-packages/ipykernel_launcher.py:26: RuntimeWarning: invalid value encountered in greater\n",
      "/Users/leget/software/anaconda3/lib/python3.7/site-packages/ipykernel_launcher.py:26: RuntimeWarning: invalid value encountered in greater\n"
     ]
    },
    {
     "name": "stdout",
     "output_type": "stream",
     "text": [
      "../../hsc_outputs/v3.3/astro_VK/mean_function/all/mean_dv_14_all.fits\n",
      "../../hsc_outputs/v3.3/astro_VK/mean_function/all/mean_dv_87_all.fits\n",
      "../../hsc_outputs/v3.3/astro_VK/mean_function/all/mean_dv_86_all.fits\n",
      "../../hsc_outputs/v3.3/astro_VK/mean_function/all/mean_dv_62_all.fits\n",
      "../../hsc_outputs/v3.3/astro_VK/mean_function/all/mean_dv_63_all.fits\n",
      "../../hsc_outputs/v3.3/astro_VK/mean_function/all/mean_dv_41_all.fits\n",
      "../../hsc_outputs/v3.3/astro_VK/mean_function/all/mean_dv_40_all.fits\n",
      "../../hsc_outputs/v3.3/astro_VK/mean_function/all/mean_dv_36_all.fits\n",
      "../../hsc_outputs/v3.3/astro_VK/mean_function/all/mean_dv_37_all.fits\n",
      "../../hsc_outputs/v3.3/astro_VK/mean_function/all/mean_dv_90_all.fits\n",
      "../../hsc_outputs/v3.3/astro_VK/mean_function/all/mean_dv_91_all.fits\n",
      "../../hsc_outputs/v3.3/astro_VK/mean_function/all/mean_dv_5_all.fits\n",
      "../../hsc_outputs/v3.3/astro_VK/mean_function/all/mean_dv_4_all.fits\n",
      "../../hsc_outputs/v3.3/astro_VK/mean_function/all/mean_dv_75_all.fits\n"
     ]
    },
    {
     "name": "stderr",
     "output_type": "stream",
     "text": [
      "/Users/leget/software/anaconda3/lib/python3.7/site-packages/ipykernel_launcher.py:26: RuntimeWarning: invalid value encountered in greater\n",
      "/Users/leget/software/anaconda3/lib/python3.7/site-packages/ipykernel_launcher.py:26: RuntimeWarning: invalid value encountered in greater\n",
      "/Users/leget/software/anaconda3/lib/python3.7/site-packages/ipykernel_launcher.py:26: RuntimeWarning: invalid value encountered in greater\n",
      "/Users/leget/software/anaconda3/lib/python3.7/site-packages/ipykernel_launcher.py:26: RuntimeWarning: invalid value encountered in greater\n",
      "/Users/leget/software/anaconda3/lib/python3.7/site-packages/ipykernel_launcher.py:26: RuntimeWarning: invalid value encountered in greater\n",
      "/Users/leget/software/anaconda3/lib/python3.7/site-packages/ipykernel_launcher.py:26: RuntimeWarning: invalid value encountered in greater\n",
      "/Users/leget/software/anaconda3/lib/python3.7/site-packages/ipykernel_launcher.py:26: RuntimeWarning: invalid value encountered in greater\n",
      "/Users/leget/software/anaconda3/lib/python3.7/site-packages/ipykernel_launcher.py:26: RuntimeWarning: invalid value encountered in greater\n",
      "/Users/leget/software/anaconda3/lib/python3.7/site-packages/ipykernel_launcher.py:26: RuntimeWarning: invalid value encountered in greater\n",
      "/Users/leget/software/anaconda3/lib/python3.7/site-packages/ipykernel_launcher.py:26: RuntimeWarning: invalid value encountered in greater\n",
      "/Users/leget/software/anaconda3/lib/python3.7/site-packages/ipykernel_launcher.py:26: RuntimeWarning: invalid value encountered in greater\n",
      "/Users/leget/software/anaconda3/lib/python3.7/site-packages/ipykernel_launcher.py:26: RuntimeWarning: invalid value encountered in greater\n",
      "/Users/leget/software/anaconda3/lib/python3.7/site-packages/ipykernel_launcher.py:26: RuntimeWarning: invalid value encountered in greater\n",
      "/Users/leget/software/anaconda3/lib/python3.7/site-packages/ipykernel_launcher.py:26: RuntimeWarning: invalid value encountered in greater\n",
      "/Users/leget/software/anaconda3/lib/python3.7/site-packages/ipykernel_launcher.py:26: RuntimeWarning: invalid value encountered in greater\n"
     ]
    },
    {
     "name": "stdout",
     "output_type": "stream",
     "text": [
      "../../hsc_outputs/v3.3/astro_VK/mean_function/all/mean_dv_74_all.fits\n",
      "../../hsc_outputs/v3.3/astro_VK/mean_function/all/mean_dv_46_all.fits\n",
      "../../hsc_outputs/v3.3/astro_VK/mean_function/all/mean_dv_47_all.fits\n",
      "../../hsc_outputs/v3.3/astro_VK/mean_function/all/mean_dv_78_all.fits\n",
      "../../hsc_outputs/v3.3/astro_VK/mean_function/all/mean_dv_79_all.fits\n",
      "../../hsc_outputs/v3.3/astro_VK/mean_function/all/mean_dv_8_all.fits\n",
      "../../hsc_outputs/v3.3/astro_VK/mean_function/all/mean_dv_31_all.fits\n",
      "../../hsc_outputs/v3.3/astro_VK/mean_function/all/mean_dv_30_all.fits\n",
      "../../hsc_outputs/v3.3/astro_VK/mean_function/all/mean_dv_97_all.fits\n",
      "../../hsc_outputs/v3.3/astro_VK/mean_function/all/mean_dv_96_all.fits\n",
      "../../hsc_outputs/v3.3/astro_VK/mean_function/all/mean_dv_2_all.fits\n",
      "../../hsc_outputs/v3.3/astro_VK/mean_function/all/mean_dv_3_all.fits\n",
      "../../hsc_outputs/v3.3/astro_VK/mean_function/all/mean_dv_72_all.fits\n",
      "../../hsc_outputs/v3.3/astro_VK/mean_function/all/mean_dv_73_all.fits\n",
      "../../hsc_outputs/v3.3/astro_VK/mean_function/all/mean_dv_18_all.fits\n",
      "../../hsc_outputs/v3.3/astro_VK/mean_function/all/mean_dv_19_all.fits\n"
     ]
    },
    {
     "name": "stderr",
     "output_type": "stream",
     "text": [
      "/Users/leget/software/anaconda3/lib/python3.7/site-packages/ipykernel_launcher.py:26: RuntimeWarning: invalid value encountered in greater\n",
      "/Users/leget/software/anaconda3/lib/python3.7/site-packages/ipykernel_launcher.py:26: RuntimeWarning: invalid value encountered in greater\n",
      "/Users/leget/software/anaconda3/lib/python3.7/site-packages/ipykernel_launcher.py:26: RuntimeWarning: invalid value encountered in greater\n",
      "/Users/leget/software/anaconda3/lib/python3.7/site-packages/ipykernel_launcher.py:26: RuntimeWarning: invalid value encountered in greater\n",
      "/Users/leget/software/anaconda3/lib/python3.7/site-packages/ipykernel_launcher.py:26: RuntimeWarning: invalid value encountered in greater\n",
      "/Users/leget/software/anaconda3/lib/python3.7/site-packages/ipykernel_launcher.py:26: RuntimeWarning: invalid value encountered in greater\n",
      "/Users/leget/software/anaconda3/lib/python3.7/site-packages/ipykernel_launcher.py:26: RuntimeWarning: invalid value encountered in greater\n",
      "/Users/leget/software/anaconda3/lib/python3.7/site-packages/ipykernel_launcher.py:26: RuntimeWarning: invalid value encountered in greater\n",
      "/Users/leget/software/anaconda3/lib/python3.7/site-packages/ipykernel_launcher.py:26: RuntimeWarning: invalid value encountered in greater\n",
      "/Users/leget/software/anaconda3/lib/python3.7/site-packages/ipykernel_launcher.py:26: RuntimeWarning: invalid value encountered in greater\n",
      "/Users/leget/software/anaconda3/lib/python3.7/site-packages/ipykernel_launcher.py:26: RuntimeWarning: invalid value encountered in greater\n",
      "/Users/leget/software/anaconda3/lib/python3.7/site-packages/ipykernel_launcher.py:26: RuntimeWarning: invalid value encountered in greater\n",
      "/Users/leget/software/anaconda3/lib/python3.7/site-packages/ipykernel_launcher.py:26: RuntimeWarning: invalid value encountered in greater\n",
      "/Users/leget/software/anaconda3/lib/python3.7/site-packages/ipykernel_launcher.py:26: RuntimeWarning: invalid value encountered in greater\n",
      "/Users/leget/software/anaconda3/lib/python3.7/site-packages/ipykernel_launcher.py:26: RuntimeWarning: invalid value encountered in greater\n",
      "/Users/leget/software/anaconda3/lib/python3.7/site-packages/ipykernel_launcher.py:26: RuntimeWarning: invalid value encountered in greater\n"
     ]
    },
    {
     "name": "stdout",
     "output_type": "stream",
     "text": [
      "../../hsc_outputs/v3.3/astro_VK/mean_function/all/mean_dv_51_all.fits\n",
      "../../hsc_outputs/v3.3/astro_VK/mean_function/all/mean_dv_50_all.fits\n",
      "../../hsc_outputs/v3.3/astro_VK/mean_function/all/mean_dv_103_all.fits\n",
      "../../hsc_outputs/v3.3/astro_VK/mean_function/all/mean_dv_102_all.fits\n",
      "../../hsc_outputs/v3.3/astro_VK/mean_function/all/mean_dv_26_all.fits\n",
      "../../hsc_outputs/v3.3/astro_VK/mean_function/all/mean_dv_27_all.fits\n",
      "../../hsc_outputs/v3.3/astro_VK/mean_function/all/mean_dv_80_all.fits\n",
      "../../hsc_outputs/v3.3/astro_VK/mean_function/all/mean_dv_81_all.fits\n",
      "../../hsc_outputs/v3.3/astro_VK/mean_function/all/mean_dv_12_all.fits\n",
      "../../hsc_outputs/v3.3/astro_VK/mean_function/all/mean_dv_13_all.fits\n",
      "../../hsc_outputs/v3.3/astro_VK/mean_function/all/mean_dv_65_all.fits\n",
      "../../hsc_outputs/v3.3/astro_VK/mean_function/all/mean_dv_64_all.fits\n",
      "../../hsc_outputs/v3.3/astro_VK/mean_function/all/mean_dv_93_all.fits\n",
      "../../hsc_outputs/v3.3/astro_VK/mean_function/all/mean_dv_92_all.fits\n",
      "../../hsc_outputs/v3.3/astro_VK/mean_function/all/mean_dv_48_all.fits\n"
     ]
    },
    {
     "name": "stderr",
     "output_type": "stream",
     "text": [
      "/Users/leget/software/anaconda3/lib/python3.7/site-packages/ipykernel_launcher.py:26: RuntimeWarning: invalid value encountered in greater\n",
      "/Users/leget/software/anaconda3/lib/python3.7/site-packages/ipykernel_launcher.py:26: RuntimeWarning: invalid value encountered in greater\n",
      "/Users/leget/software/anaconda3/lib/python3.7/site-packages/ipykernel_launcher.py:26: RuntimeWarning: invalid value encountered in greater\n",
      "/Users/leget/software/anaconda3/lib/python3.7/site-packages/ipykernel_launcher.py:26: RuntimeWarning: invalid value encountered in greater\n",
      "/Users/leget/software/anaconda3/lib/python3.7/site-packages/ipykernel_launcher.py:26: RuntimeWarning: invalid value encountered in greater\n",
      "/Users/leget/software/anaconda3/lib/python3.7/site-packages/ipykernel_launcher.py:26: RuntimeWarning: invalid value encountered in greater\n",
      "/Users/leget/software/anaconda3/lib/python3.7/site-packages/ipykernel_launcher.py:26: RuntimeWarning: invalid value encountered in greater\n",
      "/Users/leget/software/anaconda3/lib/python3.7/site-packages/ipykernel_launcher.py:26: RuntimeWarning: invalid value encountered in greater\n",
      "/Users/leget/software/anaconda3/lib/python3.7/site-packages/ipykernel_launcher.py:26: RuntimeWarning: invalid value encountered in greater\n",
      "/Users/leget/software/anaconda3/lib/python3.7/site-packages/ipykernel_launcher.py:26: RuntimeWarning: invalid value encountered in greater\n",
      "/Users/leget/software/anaconda3/lib/python3.7/site-packages/ipykernel_launcher.py:26: RuntimeWarning: invalid value encountered in greater\n",
      "/Users/leget/software/anaconda3/lib/python3.7/site-packages/ipykernel_launcher.py:26: RuntimeWarning: invalid value encountered in greater\n",
      "/Users/leget/software/anaconda3/lib/python3.7/site-packages/ipykernel_launcher.py:26: RuntimeWarning: invalid value encountered in greater\n",
      "/Users/leget/software/anaconda3/lib/python3.7/site-packages/ipykernel_launcher.py:26: RuntimeWarning: invalid value encountered in greater\n",
      "/Users/leget/software/anaconda3/lib/python3.7/site-packages/ipykernel_launcher.py:26: RuntimeWarning: invalid value encountered in greater\n"
     ]
    },
    {
     "name": "stdout",
     "output_type": "stream",
     "text": [
      "../../hsc_outputs/v3.3/astro_VK/mean_function/all/mean_dv_49_all.fits\n",
      "../../hsc_outputs/v3.3/astro_VK/mean_function/all/mean_dv_76_all.fits\n",
      "../../hsc_outputs/v3.3/astro_VK/mean_function/all/mean_dv_77_all.fits\n",
      "../../hsc_outputs/v3.3/astro_VK/mean_function/all/mean_dv_6_all.fits\n",
      "../../hsc_outputs/v3.3/astro_VK/mean_function/all/mean_dv_7_all.fits\n",
      "../../hsc_outputs/v3.3/astro_VK/mean_function/all/mean_dv_42_all.fits\n",
      "../../hsc_outputs/v3.3/astro_VK/mean_function/all/mean_dv_43_all.fits\n",
      "../../hsc_outputs/v3.3/astro_VK/mean_function/all/mean_dv_99_all.fits\n",
      "../../hsc_outputs/v3.3/astro_VK/mean_function/all/mean_dv_98_all.fits\n",
      "../../hsc_outputs/v3.3/astro_VK/mean_function/all/mean_dv_35_all.fits\n",
      "../../hsc_outputs/v3.3/astro_VK/mean_function/all/mean_dv_34_all.fits\n",
      "../../hsc_outputs/v3.3/astro_VK/mean_function/all/mean_dv_16_all.fits\n",
      "../../hsc_outputs/v3.3/astro_VK/mean_function/all/mean_dv_17_all.fits\n",
      "../../hsc_outputs/v3.3/astro_VK/mean_function/all/mean_dv_84_all.fits\n",
      "../../hsc_outputs/v3.3/astro_VK/mean_function/all/mean_dv_85_all.fits\n",
      "../../hsc_outputs/v3.3/astro_VK/mean_function/all/mean_dv_61_all.fits\n"
     ]
    },
    {
     "name": "stderr",
     "output_type": "stream",
     "text": [
      "/Users/leget/software/anaconda3/lib/python3.7/site-packages/ipykernel_launcher.py:26: RuntimeWarning: invalid value encountered in greater\n",
      "/Users/leget/software/anaconda3/lib/python3.7/site-packages/ipykernel_launcher.py:26: RuntimeWarning: invalid value encountered in greater\n",
      "/Users/leget/software/anaconda3/lib/python3.7/site-packages/ipykernel_launcher.py:26: RuntimeWarning: invalid value encountered in greater\n",
      "/Users/leget/software/anaconda3/lib/python3.7/site-packages/ipykernel_launcher.py:26: RuntimeWarning: invalid value encountered in greater\n",
      "/Users/leget/software/anaconda3/lib/python3.7/site-packages/ipykernel_launcher.py:26: RuntimeWarning: invalid value encountered in greater\n",
      "/Users/leget/software/anaconda3/lib/python3.7/site-packages/ipykernel_launcher.py:26: RuntimeWarning: invalid value encountered in greater\n",
      "/Users/leget/software/anaconda3/lib/python3.7/site-packages/ipykernel_launcher.py:26: RuntimeWarning: invalid value encountered in greater\n",
      "/Users/leget/software/anaconda3/lib/python3.7/site-packages/ipykernel_launcher.py:26: RuntimeWarning: invalid value encountered in greater\n",
      "/Users/leget/software/anaconda3/lib/python3.7/site-packages/ipykernel_launcher.py:26: RuntimeWarning: invalid value encountered in greater\n",
      "/Users/leget/software/anaconda3/lib/python3.7/site-packages/ipykernel_launcher.py:26: RuntimeWarning: invalid value encountered in greater\n",
      "/Users/leget/software/anaconda3/lib/python3.7/site-packages/ipykernel_launcher.py:26: RuntimeWarning: invalid value encountered in greater\n",
      "/Users/leget/software/anaconda3/lib/python3.7/site-packages/ipykernel_launcher.py:26: RuntimeWarning: invalid value encountered in greater\n",
      "/Users/leget/software/anaconda3/lib/python3.7/site-packages/ipykernel_launcher.py:26: RuntimeWarning: invalid value encountered in greater\n",
      "/Users/leget/software/anaconda3/lib/python3.7/site-packages/ipykernel_launcher.py:26: RuntimeWarning: invalid value encountered in greater\n",
      "/Users/leget/software/anaconda3/lib/python3.7/site-packages/ipykernel_launcher.py:26: RuntimeWarning: invalid value encountered in greater\n",
      "/Users/leget/software/anaconda3/lib/python3.7/site-packages/ipykernel_launcher.py:26: RuntimeWarning: invalid value encountered in greater\n",
      "/Users/leget/software/anaconda3/lib/python3.7/site-packages/ipykernel_launcher.py:26: RuntimeWarning: invalid value encountered in greater\n"
     ]
    },
    {
     "name": "stdout",
     "output_type": "stream",
     "text": [
      "../../hsc_outputs/v3.3/astro_VK/mean_function/all/mean_dv_60_all.fits\n",
      "../../hsc_outputs/v3.3/astro_VK/mean_function/all/mean_dv_28_all.fits\n",
      "../../hsc_outputs/v3.3/astro_VK/mean_function/all/mean_dv_29_all.fits\n",
      "../../hsc_outputs/v3.3/astro_VK/mean_function/all/mean_dv_55_all.fits\n",
      "../../hsc_outputs/v3.3/astro_VK/mean_function/all/mean_dv_54_all.fits\n",
      "../../hsc_outputs/v3.3/astro_VK/mean_function/all/mean_dv_22_all.fits\n",
      "../../hsc_outputs/v3.3/astro_VK/mean_function/all/mean_dv_23_all.fits\n",
      "../../hsc_outputs/v3.3/astro_VK/mean_function/all/mean_dv_58_all.fits\n",
      "../../hsc_outputs/v3.3/astro_VK/mean_function/all/mean_dv_59_all.fits\n",
      "../../hsc_outputs/v3.3/astro_VK/mean_function/all/mean_dv_83_all.fits\n",
      "../../hsc_outputs/v3.3/astro_VK/mean_function/all/mean_dv_82_all.fits\n",
      "../../hsc_outputs/v3.3/astro_VK/mean_function/all/mean_dv_11_all.fits\n",
      "../../hsc_outputs/v3.3/astro_VK/mean_function/all/mean_dv_10_all.fits\n",
      "../../hsc_outputs/v3.3/astro_VK/mean_function/all/mean_dv_66_all.fits\n",
      "../../hsc_outputs/v3.3/astro_VK/mean_function/all/mean_dv_67_all.fits\n"
     ]
    },
    {
     "name": "stderr",
     "output_type": "stream",
     "text": [
      "/Users/leget/software/anaconda3/lib/python3.7/site-packages/ipykernel_launcher.py:26: RuntimeWarning: invalid value encountered in greater\n",
      "/Users/leget/software/anaconda3/lib/python3.7/site-packages/ipykernel_launcher.py:26: RuntimeWarning: invalid value encountered in greater\n",
      "/Users/leget/software/anaconda3/lib/python3.7/site-packages/ipykernel_launcher.py:26: RuntimeWarning: invalid value encountered in greater\n",
      "/Users/leget/software/anaconda3/lib/python3.7/site-packages/ipykernel_launcher.py:26: RuntimeWarning: invalid value encountered in greater\n",
      "/Users/leget/software/anaconda3/lib/python3.7/site-packages/ipykernel_launcher.py:26: RuntimeWarning: invalid value encountered in greater\n",
      "/Users/leget/software/anaconda3/lib/python3.7/site-packages/ipykernel_launcher.py:26: RuntimeWarning: invalid value encountered in greater\n",
      "/Users/leget/software/anaconda3/lib/python3.7/site-packages/ipykernel_launcher.py:26: RuntimeWarning: invalid value encountered in greater\n",
      "/Users/leget/software/anaconda3/lib/python3.7/site-packages/ipykernel_launcher.py:26: RuntimeWarning: invalid value encountered in greater\n",
      "/Users/leget/software/anaconda3/lib/python3.7/site-packages/ipykernel_launcher.py:26: RuntimeWarning: invalid value encountered in greater\n",
      "/Users/leget/software/anaconda3/lib/python3.7/site-packages/ipykernel_launcher.py:26: RuntimeWarning: invalid value encountered in greater\n",
      "/Users/leget/software/anaconda3/lib/python3.7/site-packages/ipykernel_launcher.py:26: RuntimeWarning: invalid value encountered in greater\n",
      "/Users/leget/software/anaconda3/lib/python3.7/site-packages/ipykernel_launcher.py:26: RuntimeWarning: invalid value encountered in greater\n",
      "/Users/leget/software/anaconda3/lib/python3.7/site-packages/ipykernel_launcher.py:26: RuntimeWarning: invalid value encountered in greater\n",
      "/Users/leget/software/anaconda3/lib/python3.7/site-packages/ipykernel_launcher.py:26: RuntimeWarning: invalid value encountered in greater\n",
      "/Users/leget/software/anaconda3/lib/python3.7/site-packages/ipykernel_launcher.py:26: RuntimeWarning: invalid value encountered in greater\n"
     ]
    },
    {
     "name": "stdout",
     "output_type": "stream",
     "text": [
      "../../hsc_outputs/v3.3/astro_VK/mean_function/all/mean_dv_89_all.fits\n",
      "../../hsc_outputs/v3.3/astro_VK/mean_function/all/mean_dv_88_all.fits\n",
      "../../hsc_outputs/v3.3/astro_VK/mean_function/all/mean_dv_52_all.fits\n",
      "../../hsc_outputs/v3.3/astro_VK/mean_function/all/mean_dv_53_all.fits\n",
      "../../hsc_outputs/v3.3/astro_VK/mean_function/all/mean_dv_100_all.fits\n",
      "../../hsc_outputs/v3.3/astro_VK/mean_function/all/mean_dv_101_all.fits\n",
      "../../hsc_outputs/v3.3/astro_VK/mean_function/all/mean_dv_25_all.fits\n",
      "../../hsc_outputs/v3.3/astro_VK/mean_function/all/mean_dv_24_all.fits\n",
      "../../hsc_outputs/v3.3/astro_VK/mean_function/all/mean_dv_94_all.fits\n",
      "../../hsc_outputs/v3.3/astro_VK/mean_function/all/mean_dv_95_all.fits\n",
      "../../hsc_outputs/v3.3/astro_VK/mean_function/all/mean_dv_38_all.fits\n",
      "../../hsc_outputs/v3.3/astro_VK/mean_function/all/mean_dv_39_all.fits\n",
      "../../hsc_outputs/v3.3/astro_VK/mean_function/all/mean_dv_71_all.fits\n",
      "../../hsc_outputs/v3.3/astro_VK/mean_function/all/mean_dv_70_all.fits\n"
     ]
    },
    {
     "name": "stderr",
     "output_type": "stream",
     "text": [
      "/Users/leget/software/anaconda3/lib/python3.7/site-packages/ipykernel_launcher.py:26: RuntimeWarning: invalid value encountered in greater\n",
      "/Users/leget/software/anaconda3/lib/python3.7/site-packages/ipykernel_launcher.py:26: RuntimeWarning: invalid value encountered in greater\n",
      "/Users/leget/software/anaconda3/lib/python3.7/site-packages/ipykernel_launcher.py:26: RuntimeWarning: invalid value encountered in greater\n",
      "/Users/leget/software/anaconda3/lib/python3.7/site-packages/ipykernel_launcher.py:26: RuntimeWarning: invalid value encountered in greater\n",
      "/Users/leget/software/anaconda3/lib/python3.7/site-packages/ipykernel_launcher.py:26: RuntimeWarning: invalid value encountered in greater\n",
      "/Users/leget/software/anaconda3/lib/python3.7/site-packages/ipykernel_launcher.py:26: RuntimeWarning: invalid value encountered in greater\n",
      "/Users/leget/software/anaconda3/lib/python3.7/site-packages/ipykernel_launcher.py:26: RuntimeWarning: invalid value encountered in greater\n",
      "/Users/leget/software/anaconda3/lib/python3.7/site-packages/ipykernel_launcher.py:26: RuntimeWarning: invalid value encountered in greater\n",
      "/Users/leget/software/anaconda3/lib/python3.7/site-packages/ipykernel_launcher.py:26: RuntimeWarning: invalid value encountered in greater\n",
      "/Users/leget/software/anaconda3/lib/python3.7/site-packages/ipykernel_launcher.py:26: RuntimeWarning: invalid value encountered in greater\n",
      "/Users/leget/software/anaconda3/lib/python3.7/site-packages/ipykernel_launcher.py:26: RuntimeWarning: invalid value encountered in greater\n",
      "/Users/leget/software/anaconda3/lib/python3.7/site-packages/ipykernel_launcher.py:26: RuntimeWarning: invalid value encountered in greater\n",
      "/Users/leget/software/anaconda3/lib/python3.7/site-packages/ipykernel_launcher.py:26: RuntimeWarning: invalid value encountered in greater\n",
      "/Users/leget/software/anaconda3/lib/python3.7/site-packages/ipykernel_launcher.py:26: RuntimeWarning: invalid value encountered in greater\n"
     ]
    },
    {
     "name": "stdout",
     "output_type": "stream",
     "text": [
      "../../hsc_outputs/v3.3/astro_VK/mean_function/all/mean_dv_1_all.fits\n",
      "../../hsc_outputs/v3.3/astro_VK/mean_function/all/mean_dv_45_all.fits\n",
      "../../hsc_outputs/v3.3/astro_VK/mean_function/all/mean_dv_44_all.fits\n",
      "../../hsc_outputs/v3.3/astro_VK/mean_function/all/mean_dv_32_all.fits\n",
      "../../hsc_outputs/v3.3/astro_VK/mean_function/all/mean_dv_33_all.fits\n",
      "../../hsc_outputs/v3.3/astro_VK/mean_function/all/mean_dv_56_all.fits\n",
      "../../hsc_outputs/v3.3/astro_VK/mean_function/all/mean_dv_57_all.fits\n",
      "../../hsc_outputs/v3.3/astro_VK/mean_function/all/mean_dv_21_all.fits\n",
      "../../hsc_outputs/v3.3/astro_VK/mean_function/all/mean_dv_20_all.fits\n",
      "../../hsc_outputs/v3.3/astro_VK/mean_function/all/mean_dv_68_all.fits\n",
      "../../hsc_outputs/v3.3/astro_VK/mean_function/all/mean_dv_69_all.fits\n",
      "../../hsc_outputs/v3.3/astro_VK/mean_function/all/mean_dv_15_all.fits\n",
      "../../hsc_outputs/v3.3/astro_VK/mean_function/all/mean_dv_14_all.fits\n",
      "../../hsc_outputs/v3.3/astro_VK/mean_function/all/mean_dv_87_all.fits\n"
     ]
    },
    {
     "name": "stderr",
     "output_type": "stream",
     "text": [
      "/Users/leget/software/anaconda3/lib/python3.7/site-packages/ipykernel_launcher.py:26: RuntimeWarning: invalid value encountered in greater\n",
      "/Users/leget/software/anaconda3/lib/python3.7/site-packages/ipykernel_launcher.py:26: RuntimeWarning: invalid value encountered in greater\n",
      "/Users/leget/software/anaconda3/lib/python3.7/site-packages/ipykernel_launcher.py:26: RuntimeWarning: invalid value encountered in greater\n",
      "/Users/leget/software/anaconda3/lib/python3.7/site-packages/ipykernel_launcher.py:26: RuntimeWarning: invalid value encountered in greater\n",
      "/Users/leget/software/anaconda3/lib/python3.7/site-packages/ipykernel_launcher.py:26: RuntimeWarning: invalid value encountered in greater\n",
      "/Users/leget/software/anaconda3/lib/python3.7/site-packages/ipykernel_launcher.py:26: RuntimeWarning: invalid value encountered in greater\n",
      "/Users/leget/software/anaconda3/lib/python3.7/site-packages/ipykernel_launcher.py:26: RuntimeWarning: invalid value encountered in greater\n",
      "/Users/leget/software/anaconda3/lib/python3.7/site-packages/ipykernel_launcher.py:26: RuntimeWarning: invalid value encountered in greater\n",
      "/Users/leget/software/anaconda3/lib/python3.7/site-packages/ipykernel_launcher.py:26: RuntimeWarning: invalid value encountered in greater\n",
      "/Users/leget/software/anaconda3/lib/python3.7/site-packages/ipykernel_launcher.py:26: RuntimeWarning: invalid value encountered in greater\n",
      "/Users/leget/software/anaconda3/lib/python3.7/site-packages/ipykernel_launcher.py:26: RuntimeWarning: invalid value encountered in greater\n",
      "/Users/leget/software/anaconda3/lib/python3.7/site-packages/ipykernel_launcher.py:26: RuntimeWarning: invalid value encountered in greater\n",
      "/Users/leget/software/anaconda3/lib/python3.7/site-packages/ipykernel_launcher.py:26: RuntimeWarning: invalid value encountered in greater\n",
      "/Users/leget/software/anaconda3/lib/python3.7/site-packages/ipykernel_launcher.py:26: RuntimeWarning: invalid value encountered in greater\n"
     ]
    },
    {
     "name": "stdout",
     "output_type": "stream",
     "text": [
      "../../hsc_outputs/v3.3/astro_VK/mean_function/all/mean_dv_86_all.fits\n",
      "../../hsc_outputs/v3.3/astro_VK/mean_function/all/mean_dv_62_all.fits\n",
      "../../hsc_outputs/v3.3/astro_VK/mean_function/all/mean_dv_63_all.fits\n",
      "../../hsc_outputs/v3.3/astro_VK/mean_function/all/mean_dv_41_all.fits\n",
      "../../hsc_outputs/v3.3/astro_VK/mean_function/all/mean_dv_40_all.fits\n",
      "../../hsc_outputs/v3.3/astro_VK/mean_function/all/mean_dv_36_all.fits\n",
      "../../hsc_outputs/v3.3/astro_VK/mean_function/all/mean_dv_37_all.fits\n",
      "../../hsc_outputs/v3.3/astro_VK/mean_function/all/mean_dv_90_all.fits\n",
      "../../hsc_outputs/v3.3/astro_VK/mean_function/all/mean_dv_91_all.fits\n",
      "../../hsc_outputs/v3.3/astro_VK/mean_function/all/mean_dv_5_all.fits\n",
      "../../hsc_outputs/v3.3/astro_VK/mean_function/all/mean_dv_4_all.fits\n",
      "../../hsc_outputs/v3.3/astro_VK/mean_function/all/mean_dv_75_all.fits\n",
      "../../hsc_outputs/v3.3/astro_VK/mean_function/all/mean_dv_74_all.fits\n",
      "../../hsc_outputs/v3.3/astro_VK/mean_function/all/mean_dv_46_all.fits\n"
     ]
    },
    {
     "name": "stderr",
     "output_type": "stream",
     "text": [
      "/Users/leget/software/anaconda3/lib/python3.7/site-packages/ipykernel_launcher.py:26: RuntimeWarning: invalid value encountered in greater\n",
      "/Users/leget/software/anaconda3/lib/python3.7/site-packages/ipykernel_launcher.py:26: RuntimeWarning: invalid value encountered in greater\n",
      "/Users/leget/software/anaconda3/lib/python3.7/site-packages/ipykernel_launcher.py:26: RuntimeWarning: invalid value encountered in greater\n",
      "/Users/leget/software/anaconda3/lib/python3.7/site-packages/ipykernel_launcher.py:26: RuntimeWarning: invalid value encountered in greater\n",
      "/Users/leget/software/anaconda3/lib/python3.7/site-packages/ipykernel_launcher.py:26: RuntimeWarning: invalid value encountered in greater\n",
      "/Users/leget/software/anaconda3/lib/python3.7/site-packages/ipykernel_launcher.py:26: RuntimeWarning: invalid value encountered in greater\n",
      "/Users/leget/software/anaconda3/lib/python3.7/site-packages/ipykernel_launcher.py:26: RuntimeWarning: invalid value encountered in greater\n",
      "/Users/leget/software/anaconda3/lib/python3.7/site-packages/ipykernel_launcher.py:26: RuntimeWarning: invalid value encountered in greater\n",
      "/Users/leget/software/anaconda3/lib/python3.7/site-packages/ipykernel_launcher.py:26: RuntimeWarning: invalid value encountered in greater\n",
      "/Users/leget/software/anaconda3/lib/python3.7/site-packages/ipykernel_launcher.py:26: RuntimeWarning: invalid value encountered in greater\n",
      "/Users/leget/software/anaconda3/lib/python3.7/site-packages/ipykernel_launcher.py:26: RuntimeWarning: invalid value encountered in greater\n",
      "/Users/leget/software/anaconda3/lib/python3.7/site-packages/ipykernel_launcher.py:26: RuntimeWarning: invalid value encountered in greater\n",
      "/Users/leget/software/anaconda3/lib/python3.7/site-packages/ipykernel_launcher.py:26: RuntimeWarning: invalid value encountered in greater\n",
      "/Users/leget/software/anaconda3/lib/python3.7/site-packages/ipykernel_launcher.py:26: RuntimeWarning: invalid value encountered in greater\n"
     ]
    },
    {
     "name": "stdout",
     "output_type": "stream",
     "text": [
      "../../hsc_outputs/v3.3/astro_VK/mean_function/all/mean_dv_47_all.fits\n",
      "../../hsc_outputs/v3.3/astro_VK/mean_function/all/mean_dv_78_all.fits\n",
      "../../hsc_outputs/v3.3/astro_VK/mean_function/all/mean_dv_79_all.fits\n",
      "../../hsc_outputs/v3.3/astro_VK/mean_function/all/mean_dv_8_all.fits\n",
      "../../hsc_outputs/v3.3/astro_VK/mean_function/all/mean_dv_31_all.fits\n",
      "../../hsc_outputs/v3.3/astro_VK/mean_function/all/mean_dv_30_all.fits\n",
      "../../hsc_outputs/v3.3/astro_VK/mean_function/all/mean_dv_97_all.fits\n",
      "../../hsc_outputs/v3.3/astro_VK/mean_function/all/mean_dv_96_all.fits\n",
      "../../hsc_outputs/v3.3/astro_VK/mean_function/all/mean_dv_2_all.fits\n",
      "../../hsc_outputs/v3.3/astro_VK/mean_function/all/mean_dv_3_all.fits\n",
      "../../hsc_outputs/v3.3/astro_VK/mean_function/all/mean_dv_72_all.fits\n",
      "../../hsc_outputs/v3.3/astro_VK/mean_function/all/mean_dv_73_all.fits\n",
      "../../hsc_outputs/v3.3/astro_VK/mean_function/all/mean_dv_18_all.fits\n",
      "../../hsc_outputs/v3.3/astro_VK/mean_function/all/mean_dv_19_all.fits\n",
      "../../hsc_outputs/v3.3/astro_VK/mean_function/all/mean_dv_51_all.fits\n",
      "../../hsc_outputs/v3.3/astro_VK/mean_function/all/mean_dv_50_all.fits\n"
     ]
    },
    {
     "name": "stderr",
     "output_type": "stream",
     "text": [
      "/Users/leget/software/anaconda3/lib/python3.7/site-packages/ipykernel_launcher.py:26: RuntimeWarning: invalid value encountered in greater\n",
      "/Users/leget/software/anaconda3/lib/python3.7/site-packages/ipykernel_launcher.py:26: RuntimeWarning: invalid value encountered in greater\n",
      "/Users/leget/software/anaconda3/lib/python3.7/site-packages/ipykernel_launcher.py:26: RuntimeWarning: invalid value encountered in greater\n",
      "/Users/leget/software/anaconda3/lib/python3.7/site-packages/ipykernel_launcher.py:26: RuntimeWarning: invalid value encountered in greater\n",
      "/Users/leget/software/anaconda3/lib/python3.7/site-packages/ipykernel_launcher.py:26: RuntimeWarning: invalid value encountered in greater\n",
      "/Users/leget/software/anaconda3/lib/python3.7/site-packages/ipykernel_launcher.py:26: RuntimeWarning: invalid value encountered in greater\n",
      "/Users/leget/software/anaconda3/lib/python3.7/site-packages/ipykernel_launcher.py:26: RuntimeWarning: invalid value encountered in greater\n",
      "/Users/leget/software/anaconda3/lib/python3.7/site-packages/ipykernel_launcher.py:26: RuntimeWarning: invalid value encountered in greater\n",
      "/Users/leget/software/anaconda3/lib/python3.7/site-packages/ipykernel_launcher.py:26: RuntimeWarning: invalid value encountered in greater\n",
      "/Users/leget/software/anaconda3/lib/python3.7/site-packages/ipykernel_launcher.py:26: RuntimeWarning: invalid value encountered in greater\n",
      "/Users/leget/software/anaconda3/lib/python3.7/site-packages/ipykernel_launcher.py:26: RuntimeWarning: invalid value encountered in greater\n",
      "/Users/leget/software/anaconda3/lib/python3.7/site-packages/ipykernel_launcher.py:26: RuntimeWarning: invalid value encountered in greater\n",
      "/Users/leget/software/anaconda3/lib/python3.7/site-packages/ipykernel_launcher.py:26: RuntimeWarning: invalid value encountered in greater\n",
      "/Users/leget/software/anaconda3/lib/python3.7/site-packages/ipykernel_launcher.py:26: RuntimeWarning: invalid value encountered in greater\n",
      "/Users/leget/software/anaconda3/lib/python3.7/site-packages/ipykernel_launcher.py:26: RuntimeWarning: invalid value encountered in greater\n",
      "/Users/leget/software/anaconda3/lib/python3.7/site-packages/ipykernel_launcher.py:26: RuntimeWarning: invalid value encountered in greater\n"
     ]
    },
    {
     "name": "stdout",
     "output_type": "stream",
     "text": [
      "../../hsc_outputs/v3.3/astro_VK/mean_function/all/mean_dv_103_all.fits\n",
      "../../hsc_outputs/v3.3/astro_VK/mean_function/all/mean_dv_102_all.fits\n",
      "../../hsc_outputs/v3.3/astro_VK/mean_function/all/mean_dv_26_all.fits\n",
      "../../hsc_outputs/v3.3/astro_VK/mean_function/all/mean_dv_27_all.fits\n",
      "../../hsc_outputs/v3.3/astro_VK/mean_function/all/mean_dv_80_all.fits\n",
      "../../hsc_outputs/v3.3/astro_VK/mean_function/all/mean_dv_81_all.fits\n",
      "../../hsc_outputs/v3.3/astro_VK/mean_function/all/mean_dv_12_all.fits\n",
      "../../hsc_outputs/v3.3/astro_VK/mean_function/all/mean_dv_13_all.fits\n",
      "../../hsc_outputs/v3.3/astro_VK/mean_function/all/mean_dv_65_all.fits\n",
      "../../hsc_outputs/v3.3/astro_VK/mean_function/all/mean_dv_64_all.fits\n",
      "../../hsc_outputs/v3.3/astro_VK/mean_function/all/mean_dv_93_all.fits\n",
      "../../hsc_outputs/v3.3/astro_VK/mean_function/all/mean_dv_92_all.fits\n",
      "../../hsc_outputs/v3.3/astro_VK/mean_function/all/mean_dv_48_all.fits\n",
      "../../hsc_outputs/v3.3/astro_VK/mean_function/all/mean_dv_49_all.fits\n",
      "../../hsc_outputs/v3.3/astro_VK/mean_function/all/mean_dv_76_all.fits\n",
      "../../hsc_outputs/v3.3/astro_VK/mean_function/all/mean_dv_77_all.fits\n"
     ]
    },
    {
     "name": "stderr",
     "output_type": "stream",
     "text": [
      "/Users/leget/software/anaconda3/lib/python3.7/site-packages/ipykernel_launcher.py:26: RuntimeWarning: invalid value encountered in greater\n",
      "/Users/leget/software/anaconda3/lib/python3.7/site-packages/ipykernel_launcher.py:26: RuntimeWarning: invalid value encountered in greater\n",
      "/Users/leget/software/anaconda3/lib/python3.7/site-packages/ipykernel_launcher.py:26: RuntimeWarning: invalid value encountered in greater\n",
      "/Users/leget/software/anaconda3/lib/python3.7/site-packages/ipykernel_launcher.py:26: RuntimeWarning: invalid value encountered in greater\n",
      "/Users/leget/software/anaconda3/lib/python3.7/site-packages/ipykernel_launcher.py:26: RuntimeWarning: invalid value encountered in greater\n",
      "/Users/leget/software/anaconda3/lib/python3.7/site-packages/ipykernel_launcher.py:26: RuntimeWarning: invalid value encountered in greater\n",
      "/Users/leget/software/anaconda3/lib/python3.7/site-packages/ipykernel_launcher.py:26: RuntimeWarning: invalid value encountered in greater\n",
      "/Users/leget/software/anaconda3/lib/python3.7/site-packages/ipykernel_launcher.py:26: RuntimeWarning: invalid value encountered in greater\n",
      "/Users/leget/software/anaconda3/lib/python3.7/site-packages/ipykernel_launcher.py:26: RuntimeWarning: invalid value encountered in greater\n",
      "/Users/leget/software/anaconda3/lib/python3.7/site-packages/ipykernel_launcher.py:26: RuntimeWarning: invalid value encountered in greater\n",
      "/Users/leget/software/anaconda3/lib/python3.7/site-packages/ipykernel_launcher.py:26: RuntimeWarning: invalid value encountered in greater\n",
      "/Users/leget/software/anaconda3/lib/python3.7/site-packages/ipykernel_launcher.py:26: RuntimeWarning: invalid value encountered in greater\n",
      "/Users/leget/software/anaconda3/lib/python3.7/site-packages/ipykernel_launcher.py:26: RuntimeWarning: invalid value encountered in greater\n",
      "/Users/leget/software/anaconda3/lib/python3.7/site-packages/ipykernel_launcher.py:26: RuntimeWarning: invalid value encountered in greater\n",
      "/Users/leget/software/anaconda3/lib/python3.7/site-packages/ipykernel_launcher.py:26: RuntimeWarning: invalid value encountered in greater\n",
      "/Users/leget/software/anaconda3/lib/python3.7/site-packages/ipykernel_launcher.py:26: RuntimeWarning: invalid value encountered in greater\n"
     ]
    },
    {
     "name": "stdout",
     "output_type": "stream",
     "text": [
      "../../hsc_outputs/v3.3/astro_VK/mean_function/all/mean_dv_6_all.fits\n",
      "../../hsc_outputs/v3.3/astro_VK/mean_function/all/mean_dv_7_all.fits\n",
      "../../hsc_outputs/v3.3/astro_VK/mean_function/all/mean_dv_42_all.fits\n",
      "../../hsc_outputs/v3.3/astro_VK/mean_function/all/mean_dv_43_all.fits\n",
      "../../hsc_outputs/v3.3/astro_VK/mean_function/all/mean_dv_99_all.fits\n",
      "../../hsc_outputs/v3.3/astro_VK/mean_function/all/mean_dv_98_all.fits\n",
      "../../hsc_outputs/v3.3/astro_VK/mean_function/all/mean_dv_35_all.fits\n",
      "../../hsc_outputs/v3.3/astro_VK/mean_function/all/mean_dv_34_all.fits\n",
      "../../hsc_outputs/v3.3/astro_VK/mean_function/all/mean_dv_16_all.fits\n",
      "../../hsc_outputs/v3.3/astro_VK/mean_function/all/mean_dv_17_all.fits\n",
      "../../hsc_outputs/v3.3/astro_VK/mean_function/all/mean_dv_84_all.fits\n",
      "../../hsc_outputs/v3.3/astro_VK/mean_function/all/mean_dv_85_all.fits\n",
      "../../hsc_outputs/v3.3/astro_VK/mean_function/all/mean_dv_61_all.fits\n",
      "../../hsc_outputs/v3.3/astro_VK/mean_function/all/mean_dv_60_all.fits\n"
     ]
    },
    {
     "name": "stderr",
     "output_type": "stream",
     "text": [
      "/Users/leget/software/anaconda3/lib/python3.7/site-packages/ipykernel_launcher.py:26: RuntimeWarning: invalid value encountered in greater\n",
      "/Users/leget/software/anaconda3/lib/python3.7/site-packages/ipykernel_launcher.py:26: RuntimeWarning: invalid value encountered in greater\n",
      "/Users/leget/software/anaconda3/lib/python3.7/site-packages/ipykernel_launcher.py:26: RuntimeWarning: invalid value encountered in greater\n",
      "/Users/leget/software/anaconda3/lib/python3.7/site-packages/ipykernel_launcher.py:26: RuntimeWarning: invalid value encountered in greater\n",
      "/Users/leget/software/anaconda3/lib/python3.7/site-packages/ipykernel_launcher.py:26: RuntimeWarning: invalid value encountered in greater\n",
      "/Users/leget/software/anaconda3/lib/python3.7/site-packages/ipykernel_launcher.py:26: RuntimeWarning: invalid value encountered in greater\n",
      "/Users/leget/software/anaconda3/lib/python3.7/site-packages/ipykernel_launcher.py:26: RuntimeWarning: invalid value encountered in greater\n",
      "/Users/leget/software/anaconda3/lib/python3.7/site-packages/ipykernel_launcher.py:26: RuntimeWarning: invalid value encountered in greater\n",
      "/Users/leget/software/anaconda3/lib/python3.7/site-packages/ipykernel_launcher.py:26: RuntimeWarning: invalid value encountered in greater\n",
      "/Users/leget/software/anaconda3/lib/python3.7/site-packages/ipykernel_launcher.py:26: RuntimeWarning: invalid value encountered in greater\n",
      "/Users/leget/software/anaconda3/lib/python3.7/site-packages/ipykernel_launcher.py:26: RuntimeWarning: invalid value encountered in greater\n",
      "/Users/leget/software/anaconda3/lib/python3.7/site-packages/ipykernel_launcher.py:26: RuntimeWarning: invalid value encountered in greater\n",
      "/Users/leget/software/anaconda3/lib/python3.7/site-packages/ipykernel_launcher.py:26: RuntimeWarning: invalid value encountered in greater\n",
      "/Users/leget/software/anaconda3/lib/python3.7/site-packages/ipykernel_launcher.py:26: RuntimeWarning: invalid value encountered in greater\n"
     ]
    },
    {
     "name": "stdout",
     "output_type": "stream",
     "text": [
      "../../hsc_outputs/v3.3/astro_VK/mean_function/all/mean_dv_28_all.fits\n",
      "../../hsc_outputs/v3.3/astro_VK/mean_function/all/mean_dv_29_all.fits\n",
      "../../hsc_outputs/v3.3/astro_VK/mean_function/all/mean_dv_55_all.fits\n",
      "../../hsc_outputs/v3.3/astro_VK/mean_function/all/mean_dv_54_all.fits\n",
      "../../hsc_outputs/v3.3/astro_VK/mean_function/all/mean_dv_22_all.fits\n",
      "../../hsc_outputs/v3.3/astro_VK/mean_function/all/mean_dv_23_all.fits\n",
      "../../hsc_outputs/v3.3/astro_VK/mean_function/all/mean_dv_58_all.fits\n",
      "../../hsc_outputs/v3.3/astro_VK/mean_function/all/mean_dv_59_all.fits\n",
      "../../hsc_outputs/v3.3/astro_VK/mean_function/all/mean_dv_83_all.fits\n",
      "../../hsc_outputs/v3.3/astro_VK/mean_function/all/mean_dv_82_all.fits\n",
      "../../hsc_outputs/v3.3/astro_VK/mean_function/all/mean_dv_11_all.fits\n",
      "../../hsc_outputs/v3.3/astro_VK/mean_function/all/mean_dv_10_all.fits\n",
      "../../hsc_outputs/v3.3/astro_VK/mean_function/all/mean_dv_66_all.fits\n",
      "../../hsc_outputs/v3.3/astro_VK/mean_function/all/mean_dv_67_all.fits\n",
      "../../hsc_outputs/v3.3/astro_VK/mean_function/all/mean_dv_89_all.fits\n"
     ]
    },
    {
     "name": "stderr",
     "output_type": "stream",
     "text": [
      "/Users/leget/software/anaconda3/lib/python3.7/site-packages/ipykernel_launcher.py:26: RuntimeWarning: invalid value encountered in greater\n",
      "/Users/leget/software/anaconda3/lib/python3.7/site-packages/ipykernel_launcher.py:26: RuntimeWarning: invalid value encountered in greater\n",
      "/Users/leget/software/anaconda3/lib/python3.7/site-packages/ipykernel_launcher.py:26: RuntimeWarning: invalid value encountered in greater\n",
      "/Users/leget/software/anaconda3/lib/python3.7/site-packages/ipykernel_launcher.py:26: RuntimeWarning: invalid value encountered in greater\n",
      "/Users/leget/software/anaconda3/lib/python3.7/site-packages/ipykernel_launcher.py:26: RuntimeWarning: invalid value encountered in greater\n",
      "/Users/leget/software/anaconda3/lib/python3.7/site-packages/ipykernel_launcher.py:26: RuntimeWarning: invalid value encountered in greater\n",
      "/Users/leget/software/anaconda3/lib/python3.7/site-packages/ipykernel_launcher.py:26: RuntimeWarning: invalid value encountered in greater\n",
      "/Users/leget/software/anaconda3/lib/python3.7/site-packages/ipykernel_launcher.py:26: RuntimeWarning: invalid value encountered in greater\n",
      "/Users/leget/software/anaconda3/lib/python3.7/site-packages/ipykernel_launcher.py:26: RuntimeWarning: invalid value encountered in greater\n",
      "/Users/leget/software/anaconda3/lib/python3.7/site-packages/ipykernel_launcher.py:26: RuntimeWarning: invalid value encountered in greater\n",
      "/Users/leget/software/anaconda3/lib/python3.7/site-packages/ipykernel_launcher.py:26: RuntimeWarning: invalid value encountered in greater\n",
      "/Users/leget/software/anaconda3/lib/python3.7/site-packages/ipykernel_launcher.py:26: RuntimeWarning: invalid value encountered in greater\n",
      "/Users/leget/software/anaconda3/lib/python3.7/site-packages/ipykernel_launcher.py:26: RuntimeWarning: invalid value encountered in greater\n",
      "/Users/leget/software/anaconda3/lib/python3.7/site-packages/ipykernel_launcher.py:26: RuntimeWarning: invalid value encountered in greater\n"
     ]
    },
    {
     "name": "stdout",
     "output_type": "stream",
     "text": [
      "../../hsc_outputs/v3.3/astro_VK/mean_function/all/mean_dv_88_all.fits\n",
      "../../hsc_outputs/v3.3/astro_VK/mean_function/all/mean_dv_52_all.fits\n",
      "../../hsc_outputs/v3.3/astro_VK/mean_function/all/mean_dv_53_all.fits\n",
      "../../hsc_outputs/v3.3/astro_VK/mean_function/all/mean_dv_100_all.fits\n",
      "../../hsc_outputs/v3.3/astro_VK/mean_function/all/mean_dv_101_all.fits\n",
      "fail for file:  ../../hsc_outputs/v3.3/astro_VK/mean_function/all/mean_dv_101_all.fits\n",
      "../../hsc_outputs/v3.3/astro_VK/mean_function/all/mean_dv_25_all.fits\n",
      "fail for file:  ../../hsc_outputs/v3.3/astro_VK/mean_function/all/mean_dv_25_all.fits\n",
      "../../hsc_outputs/v3.3/astro_VK/mean_function/all/mean_dv_24_all.fits\n",
      "../../hsc_outputs/v3.3/astro_VK/mean_function/all/mean_dv_94_all.fits\n",
      "../../hsc_outputs/v3.3/astro_VK/mean_function/all/mean_dv_95_all.fits\n",
      "fail for file:  ../../hsc_outputs/v3.3/astro_VK/mean_function/all/mean_dv_95_all.fits\n",
      "../../hsc_outputs/v3.3/astro_VK/mean_function/all/mean_dv_38_all.fits\n",
      "../../hsc_outputs/v3.3/astro_VK/mean_function/all/mean_dv_39_all.fits\n",
      "../../hsc_outputs/v3.3/astro_VK/mean_function/all/mean_dv_71_all.fits\n",
      "../../hsc_outputs/v3.3/astro_VK/mean_function/all/mean_dv_70_all.fits\n",
      "../../hsc_outputs/v3.3/astro_VK/mean_function/all/mean_dv_1_all.fits\n",
      "../../hsc_outputs/v3.3/astro_VK/mean_function/all/mean_dv_45_all.fits\n",
      "../../hsc_outputs/v3.3/astro_VK/mean_function/all/mean_dv_44_all.fits\n",
      "../../hsc_outputs/v3.3/astro_VK/mean_function/all/mean_dv_32_all.fits\n",
      "../../hsc_outputs/v3.3/astro_VK/mean_function/all/mean_dv_33_all.fits\n"
     ]
    },
    {
     "name": "stderr",
     "output_type": "stream",
     "text": [
      "/Users/leget/software/anaconda3/lib/python3.7/site-packages/ipykernel_launcher.py:26: RuntimeWarning: invalid value encountered in greater\n",
      "/Users/leget/software/anaconda3/lib/python3.7/site-packages/ipykernel_launcher.py:26: RuntimeWarning: invalid value encountered in greater\n",
      "/Users/leget/software/anaconda3/lib/python3.7/site-packages/ipykernel_launcher.py:26: RuntimeWarning: invalid value encountered in greater\n",
      "/Users/leget/software/anaconda3/lib/python3.7/site-packages/ipykernel_launcher.py:26: RuntimeWarning: invalid value encountered in greater\n",
      "/Users/leget/software/anaconda3/lib/python3.7/site-packages/ipykernel_launcher.py:26: RuntimeWarning: invalid value encountered in greater\n",
      "/Users/leget/software/anaconda3/lib/python3.7/site-packages/ipykernel_launcher.py:26: RuntimeWarning: invalid value encountered in greater\n",
      "/Users/leget/software/anaconda3/lib/python3.7/site-packages/ipykernel_launcher.py:26: RuntimeWarning: invalid value encountered in greater\n",
      "/Users/leget/software/anaconda3/lib/python3.7/site-packages/ipykernel_launcher.py:26: RuntimeWarning: invalid value encountered in greater\n",
      "/Users/leget/software/anaconda3/lib/python3.7/site-packages/ipykernel_launcher.py:26: RuntimeWarning: invalid value encountered in greater\n",
      "/Users/leget/software/anaconda3/lib/python3.7/site-packages/ipykernel_launcher.py:26: RuntimeWarning: invalid value encountered in greater\n",
      "/Users/leget/software/anaconda3/lib/python3.7/site-packages/ipykernel_launcher.py:26: RuntimeWarning: invalid value encountered in greater\n",
      "/Users/leget/software/anaconda3/lib/python3.7/site-packages/ipykernel_launcher.py:26: RuntimeWarning: invalid value encountered in greater\n",
      "/Users/leget/software/anaconda3/lib/python3.7/site-packages/ipykernel_launcher.py:26: RuntimeWarning: invalid value encountered in greater\n",
      "/Users/leget/software/anaconda3/lib/python3.7/site-packages/ipykernel_launcher.py:26: RuntimeWarning: invalid value encountered in greater\n",
      "/Users/leget/software/anaconda3/lib/python3.7/site-packages/ipykernel_launcher.py:26: RuntimeWarning: invalid value encountered in greater\n"
     ]
    },
    {
     "name": "stdout",
     "output_type": "stream",
     "text": [
      "../../hsc_outputs/v3.3/astro_VK/mean_function/all/mean_dv_56_all.fits\n",
      "../../hsc_outputs/v3.3/astro_VK/mean_function/all/mean_dv_57_all.fits\n",
      "../../hsc_outputs/v3.3/astro_VK/mean_function/all/mean_dv_21_all.fits\n",
      "../../hsc_outputs/v3.3/astro_VK/mean_function/all/mean_dv_20_all.fits\n",
      "../../hsc_outputs/v3.3/astro_VK/mean_function/all/mean_dv_68_all.fits\n",
      "../../hsc_outputs/v3.3/astro_VK/mean_function/all/mean_dv_69_all.fits\n",
      "../../hsc_outputs/v3.3/astro_VK/mean_function/all/mean_dv_15_all.fits\n",
      "../../hsc_outputs/v3.3/astro_VK/mean_function/all/mean_dv_14_all.fits\n",
      "../../hsc_outputs/v3.3/astro_VK/mean_function/all/mean_dv_87_all.fits\n",
      "../../hsc_outputs/v3.3/astro_VK/mean_function/all/mean_dv_86_all.fits\n",
      "../../hsc_outputs/v3.3/astro_VK/mean_function/all/mean_dv_62_all.fits\n",
      "../../hsc_outputs/v3.3/astro_VK/mean_function/all/mean_dv_63_all.fits\n"
     ]
    },
    {
     "name": "stderr",
     "output_type": "stream",
     "text": [
      "/Users/leget/software/anaconda3/lib/python3.7/site-packages/ipykernel_launcher.py:26: RuntimeWarning: invalid value encountered in greater\n",
      "/Users/leget/software/anaconda3/lib/python3.7/site-packages/ipykernel_launcher.py:26: RuntimeWarning: invalid value encountered in greater\n",
      "/Users/leget/software/anaconda3/lib/python3.7/site-packages/ipykernel_launcher.py:26: RuntimeWarning: invalid value encountered in greater\n",
      "/Users/leget/software/anaconda3/lib/python3.7/site-packages/ipykernel_launcher.py:26: RuntimeWarning: invalid value encountered in greater\n",
      "/Users/leget/software/anaconda3/lib/python3.7/site-packages/ipykernel_launcher.py:26: RuntimeWarning: invalid value encountered in greater\n",
      "/Users/leget/software/anaconda3/lib/python3.7/site-packages/ipykernel_launcher.py:26: RuntimeWarning: invalid value encountered in greater\n",
      "/Users/leget/software/anaconda3/lib/python3.7/site-packages/ipykernel_launcher.py:26: RuntimeWarning: invalid value encountered in greater\n",
      "/Users/leget/software/anaconda3/lib/python3.7/site-packages/ipykernel_launcher.py:26: RuntimeWarning: invalid value encountered in greater\n",
      "/Users/leget/software/anaconda3/lib/python3.7/site-packages/ipykernel_launcher.py:26: RuntimeWarning: invalid value encountered in greater\n",
      "/Users/leget/software/anaconda3/lib/python3.7/site-packages/ipykernel_launcher.py:26: RuntimeWarning: invalid value encountered in greater\n",
      "/Users/leget/software/anaconda3/lib/python3.7/site-packages/ipykernel_launcher.py:26: RuntimeWarning: invalid value encountered in greater\n",
      "/Users/leget/software/anaconda3/lib/python3.7/site-packages/ipykernel_launcher.py:26: RuntimeWarning: invalid value encountered in greater\n"
     ]
    },
    {
     "name": "stdout",
     "output_type": "stream",
     "text": [
      "../../hsc_outputs/v3.3/astro_VK/mean_function/all/mean_dv_41_all.fits\n",
      "../../hsc_outputs/v3.3/astro_VK/mean_function/all/mean_dv_40_all.fits\n",
      "../../hsc_outputs/v3.3/astro_VK/mean_function/all/mean_dv_36_all.fits\n",
      "../../hsc_outputs/v3.3/astro_VK/mean_function/all/mean_dv_37_all.fits\n",
      "../../hsc_outputs/v3.3/astro_VK/mean_function/all/mean_dv_90_all.fits\n",
      "../../hsc_outputs/v3.3/astro_VK/mean_function/all/mean_dv_91_all.fits\n",
      "../../hsc_outputs/v3.3/astro_VK/mean_function/all/mean_dv_5_all.fits\n",
      "../../hsc_outputs/v3.3/astro_VK/mean_function/all/mean_dv_4_all.fits\n",
      "fail for file:  ../../hsc_outputs/v3.3/astro_VK/mean_function/all/mean_dv_4_all.fits\n",
      "../../hsc_outputs/v3.3/astro_VK/mean_function/all/mean_dv_75_all.fits\n",
      "../../hsc_outputs/v3.3/astro_VK/mean_function/all/mean_dv_74_all.fits\n",
      "../../hsc_outputs/v3.3/astro_VK/mean_function/all/mean_dv_46_all.fits\n",
      "../../hsc_outputs/v3.3/astro_VK/mean_function/all/mean_dv_47_all.fits\n",
      "../../hsc_outputs/v3.3/astro_VK/mean_function/all/mean_dv_78_all.fits\n",
      "../../hsc_outputs/v3.3/astro_VK/mean_function/all/mean_dv_79_all.fits\n"
     ]
    },
    {
     "name": "stderr",
     "output_type": "stream",
     "text": [
      "/Users/leget/software/anaconda3/lib/python3.7/site-packages/ipykernel_launcher.py:26: RuntimeWarning: invalid value encountered in greater\n",
      "/Users/leget/software/anaconda3/lib/python3.7/site-packages/ipykernel_launcher.py:26: RuntimeWarning: invalid value encountered in greater\n",
      "/Users/leget/software/anaconda3/lib/python3.7/site-packages/ipykernel_launcher.py:26: RuntimeWarning: invalid value encountered in greater\n",
      "/Users/leget/software/anaconda3/lib/python3.7/site-packages/ipykernel_launcher.py:26: RuntimeWarning: invalid value encountered in greater\n",
      "/Users/leget/software/anaconda3/lib/python3.7/site-packages/ipykernel_launcher.py:26: RuntimeWarning: invalid value encountered in greater\n",
      "/Users/leget/software/anaconda3/lib/python3.7/site-packages/ipykernel_launcher.py:26: RuntimeWarning: invalid value encountered in greater\n",
      "/Users/leget/software/anaconda3/lib/python3.7/site-packages/ipykernel_launcher.py:26: RuntimeWarning: invalid value encountered in greater\n",
      "/Users/leget/software/anaconda3/lib/python3.7/site-packages/ipykernel_launcher.py:26: RuntimeWarning: invalid value encountered in greater\n",
      "/Users/leget/software/anaconda3/lib/python3.7/site-packages/ipykernel_launcher.py:26: RuntimeWarning: invalid value encountered in greater\n",
      "/Users/leget/software/anaconda3/lib/python3.7/site-packages/ipykernel_launcher.py:26: RuntimeWarning: invalid value encountered in greater\n",
      "/Users/leget/software/anaconda3/lib/python3.7/site-packages/ipykernel_launcher.py:26: RuntimeWarning: invalid value encountered in greater\n",
      "/Users/leget/software/anaconda3/lib/python3.7/site-packages/ipykernel_launcher.py:26: RuntimeWarning: invalid value encountered in greater\n",
      "/Users/leget/software/anaconda3/lib/python3.7/site-packages/ipykernel_launcher.py:26: RuntimeWarning: invalid value encountered in greater\n"
     ]
    },
    {
     "name": "stdout",
     "output_type": "stream",
     "text": [
      "../../hsc_outputs/v3.3/astro_VK/mean_function/all/mean_dv_8_all.fits\n",
      "../../hsc_outputs/v3.3/astro_VK/mean_function/all/mean_dv_31_all.fits\n",
      "../../hsc_outputs/v3.3/astro_VK/mean_function/all/mean_dv_30_all.fits\n",
      "../../hsc_outputs/v3.3/astro_VK/mean_function/all/mean_dv_97_all.fits\n",
      "../../hsc_outputs/v3.3/astro_VK/mean_function/all/mean_dv_96_all.fits\n",
      "../../hsc_outputs/v3.3/astro_VK/mean_function/all/mean_dv_2_all.fits\n",
      "../../hsc_outputs/v3.3/astro_VK/mean_function/all/mean_dv_3_all.fits\n",
      "../../hsc_outputs/v3.3/astro_VK/mean_function/all/mean_dv_72_all.fits\n",
      "../../hsc_outputs/v3.3/astro_VK/mean_function/all/mean_dv_73_all.fits\n",
      "../../hsc_outputs/v3.3/astro_VK/mean_function/all/mean_dv_18_all.fits\n",
      "../../hsc_outputs/v3.3/astro_VK/mean_function/all/mean_dv_19_all.fits\n",
      "../../hsc_outputs/v3.3/astro_VK/mean_function/all/mean_dv_51_all.fits\n",
      "../../hsc_outputs/v3.3/astro_VK/mean_function/all/mean_dv_50_all.fits\n",
      "../../hsc_outputs/v3.3/astro_VK/mean_function/all/mean_dv_103_all.fits\n",
      "fail for file:  ../../hsc_outputs/v3.3/astro_VK/mean_function/all/mean_dv_103_all.fits\n",
      "../../hsc_outputs/v3.3/astro_VK/mean_function/all/mean_dv_102_all.fits\n",
      "../../hsc_outputs/v3.3/astro_VK/mean_function/all/mean_dv_26_all.fits\n",
      "../../hsc_outputs/v3.3/astro_VK/mean_function/all/mean_dv_27_all.fits\n"
     ]
    },
    {
     "name": "stderr",
     "output_type": "stream",
     "text": [
      "/Users/leget/software/anaconda3/lib/python3.7/site-packages/ipykernel_launcher.py:26: RuntimeWarning: invalid value encountered in greater\n",
      "/Users/leget/software/anaconda3/lib/python3.7/site-packages/ipykernel_launcher.py:26: RuntimeWarning: invalid value encountered in greater\n",
      "/Users/leget/software/anaconda3/lib/python3.7/site-packages/ipykernel_launcher.py:26: RuntimeWarning: invalid value encountered in greater\n",
      "/Users/leget/software/anaconda3/lib/python3.7/site-packages/ipykernel_launcher.py:26: RuntimeWarning: invalid value encountered in greater\n",
      "/Users/leget/software/anaconda3/lib/python3.7/site-packages/ipykernel_launcher.py:26: RuntimeWarning: invalid value encountered in greater\n",
      "/Users/leget/software/anaconda3/lib/python3.7/site-packages/ipykernel_launcher.py:26: RuntimeWarning: invalid value encountered in greater\n",
      "/Users/leget/software/anaconda3/lib/python3.7/site-packages/ipykernel_launcher.py:26: RuntimeWarning: invalid value encountered in greater\n",
      "/Users/leget/software/anaconda3/lib/python3.7/site-packages/ipykernel_launcher.py:26: RuntimeWarning: invalid value encountered in greater\n",
      "/Users/leget/software/anaconda3/lib/python3.7/site-packages/ipykernel_launcher.py:26: RuntimeWarning: invalid value encountered in greater\n",
      "/Users/leget/software/anaconda3/lib/python3.7/site-packages/ipykernel_launcher.py:26: RuntimeWarning: invalid value encountered in greater\n",
      "/Users/leget/software/anaconda3/lib/python3.7/site-packages/ipykernel_launcher.py:26: RuntimeWarning: invalid value encountered in greater\n",
      "/Users/leget/software/anaconda3/lib/python3.7/site-packages/ipykernel_launcher.py:26: RuntimeWarning: invalid value encountered in greater\n",
      "/Users/leget/software/anaconda3/lib/python3.7/site-packages/ipykernel_launcher.py:26: RuntimeWarning: invalid value encountered in greater\n",
      "/Users/leget/software/anaconda3/lib/python3.7/site-packages/ipykernel_launcher.py:26: RuntimeWarning: invalid value encountered in greater\n",
      "/Users/leget/software/anaconda3/lib/python3.7/site-packages/ipykernel_launcher.py:26: RuntimeWarning: invalid value encountered in greater\n",
      "/Users/leget/software/anaconda3/lib/python3.7/site-packages/ipykernel_launcher.py:26: RuntimeWarning: invalid value encountered in greater\n"
     ]
    },
    {
     "name": "stdout",
     "output_type": "stream",
     "text": [
      "../../hsc_outputs/v3.3/astro_VK/mean_function/all/mean_dv_80_all.fits\n",
      "../../hsc_outputs/v3.3/astro_VK/mean_function/all/mean_dv_81_all.fits\n",
      "../../hsc_outputs/v3.3/astro_VK/mean_function/all/mean_dv_12_all.fits\n",
      "../../hsc_outputs/v3.3/astro_VK/mean_function/all/mean_dv_13_all.fits\n",
      "../../hsc_outputs/v3.3/astro_VK/mean_function/all/mean_dv_65_all.fits\n",
      "../../hsc_outputs/v3.3/astro_VK/mean_function/all/mean_dv_64_all.fits\n"
     ]
    },
    {
     "name": "stderr",
     "output_type": "stream",
     "text": [
      "/Users/leget/software/anaconda3/lib/python3.7/site-packages/ipykernel_launcher.py:26: RuntimeWarning: invalid value encountered in greater\n",
      "/Users/leget/software/anaconda3/lib/python3.7/site-packages/ipykernel_launcher.py:26: RuntimeWarning: invalid value encountered in greater\n",
      "/Users/leget/software/anaconda3/lib/python3.7/site-packages/ipykernel_launcher.py:26: RuntimeWarning: invalid value encountered in greater\n",
      "/Users/leget/software/anaconda3/lib/python3.7/site-packages/ipykernel_launcher.py:26: RuntimeWarning: invalid value encountered in greater\n",
      "/Users/leget/software/anaconda3/lib/python3.7/site-packages/ipykernel_launcher.py:26: RuntimeWarning: invalid value encountered in greater\n"
     ]
    }
   ],
   "source": [
    "def get_ccd_name(string):\n",
    "    name = ''\n",
    "    numbers = [str(j) for j in range(10)]\n",
    "    stop = 0\n",
    "    for i in range(len(string)):\n",
    "        if string[-(i+1)] in numbers:\n",
    "            name = string[-(i+1)] + name\n",
    "        if string[-(i+1)] == '_':\n",
    "            stop += 1\n",
    "        if stop == 2:\n",
    "            break\n",
    "    return int(name)\n",
    "\n",
    "class linear_fit:\n",
    "    \n",
    "    def __init__(self, x, y, x_err, y_err):\n",
    "        \n",
    "        x = x.reshape(-1)\n",
    "        y = y.reshape(-1)\n",
    "        x_err = x_err.reshape(-1) \n",
    "        y_err = y_err.reshape(-1)\n",
    "        \n",
    "        Filtre = np.array([True]*len(x))\n",
    "        for data in [x, y, x_err, y_err]:\n",
    "            Filtre &= np.isfinite(data)\n",
    "            Filtre &= (data > 0.)\n",
    "        \n",
    "        self.x = x[Filtre]\n",
    "        self.y = y[Filtre]\n",
    "        self.x_err = x_err[Filtre]\n",
    "        self.y_err = y_err[Filtre]\n",
    "        \n",
    "    def chi2_fct(self, params):\n",
    "        residuals = self.y - params[0] * self.x\n",
    "        var = self.y_err**2 + params[0]**2 * self.x_err**2\n",
    "        self.chi2 = np.sum(residuals**2 / var)\n",
    "        return self.chi2\n",
    "    \n",
    "    def minimize(self):\n",
    "        with warnings.catch_warnings():\n",
    "            warnings.simplefilter(\"ignore\")\n",
    "            m = Minuit.from_array_func(self.chi2_fct, [1.1], print_level=0)\n",
    "            m.migrad()\n",
    "        results = [m.values[key] for key in m.values.keys()]\n",
    "        self.results = results\n",
    "    \n",
    "    def get_slope(self):\n",
    "        \n",
    "        self.minimize()\n",
    "        slope = self.results[0]\n",
    "        return slope\n",
    "\n",
    "class get_mean(object):\n",
    "\n",
    "    def __init__(self, fits_file):\n",
    "\n",
    "        self.mean = fitsio.read(fits_file)\n",
    "        self.params0 = self.mean['PARAMS0'][0]\n",
    "        self.coord0 = self.mean['COORDS0'][0]\n",
    "        self.wrms0 = self.mean['WRMS0'][0]\n",
    "        self.y0 = self.mean['_AVERAGE'][0]\n",
    "        self.u0 = self.mean['_U0'][0]\n",
    "        self.v0 = self.mean['_V0'][0]\n",
    "        self.wrms = self.mean['_WRMS'][0]\n",
    "        \n",
    "class comp_coeff_mean(object):\n",
    "    \n",
    "    def __init__(self, rep_in='../../hsc_outputs/v3.3/astro_VK/mean_function/all/'):\n",
    "        \n",
    "        self.rep_in = rep_in\n",
    "        self.files_du = glob.glob(os.path.join(self.rep_in,'mean_du_*'))\n",
    "        self.files_dv = glob.glob(os.path.join(self.rep_in,'mean_dv_*'))\n",
    "        self.ratio_du = {}\n",
    "        self.ratio_dv = {}\n",
    "        \n",
    "    def comp_ratio(self):\n",
    "        \n",
    "        for files, dic in zip([self.files_du, self.files_dv], [self.ratio_du, self.ratio_dv]):\n",
    "        #for files, dic in zip([self.files_du], [self.ratio_du]):\n",
    "            #for filt in ['z']:\n",
    "            for filt in ['g','r','i','z','y']:\n",
    "        \n",
    "                ccd = []\n",
    "                ratio_per_CCD = []\n",
    "                median_per_CCD = []\n",
    "        \n",
    "                for f in files:\n",
    "                    print(f)\n",
    "                    try:\n",
    "                    #if True:\n",
    "                        gm_all = get_mean(f)\n",
    "                        gm_filt = get_mean(f.replace('all', filt))\n",
    "                        \n",
    "                        lf= linear_fit(gm_all.y0, gm_filt.y0,\n",
    "                                       gm_all.wrms, gm_filt.wrms)\n",
    "                        med = lf.get_slope()\n",
    "                        #print(f, ': ', med)\n",
    "                        #with warnings.catch_warnings():\n",
    "                        #    warnings.simplefilter(\"ignore\")\n",
    "                        #    plt.figure(figsize=(6,6))\n",
    "                        #    plt.title(f, fontsize=14)\n",
    "                        #    plt.scatter(gm_all.y0, gm_filt.y0, c='k',s=3, alpha=0.01)\n",
    "                            #plt.errorbar(gm_all.y0.reshape(-1), gm_filt.y0.reshape(-1), \n",
    "                            #             xerr=gm_all.wrms.reshape(-1),\n",
    "                            #             yerr=gm_filt.wrms.reshape(-1),\n",
    "                            #             linestyle='',ecolor='k',alpha=0.01,marker='.',zorder=0)\n",
    "                        #    plt.plot([-5, 5], med*np.array([-5,5]), 'r', lw=3)\n",
    "                        #    plt.axis('equal')\n",
    "                \n",
    "                        ccd.append(get_ccd_name(f))\n",
    "                        #ratio_per_CCD.append(ratio)\n",
    "                        median_per_CCD.append(med)\n",
    "                    except:\n",
    "                        print('fail for file: ', f)\n",
    "            \n",
    "                median_glob = None\n",
    "                dic.update({filt:{'ccd_name':ccd,\n",
    "                                  'median_per_CCD':median_per_CCD,\n",
    "                                  'median_glob':median_glob}}) \n",
    "\n",
    "ccm = comp_coeff_mean()\n",
    "ccm.comp_ratio()"
   ]
  },
  {
   "cell_type": "code",
   "execution_count": 69,
   "metadata": {
    "scrolled": true
   },
   "outputs": [
    {
     "name": "stdout",
     "output_type": "stream",
     "text": [
      "g b\n",
      "r g\n",
      "i r\n",
      "z grey\n",
      "y k\n"
     ]
    },
    {
     "data": {
      "text/plain": [
       "(0.0, 5)"
      ]
     },
     "execution_count": 69,
     "metadata": {},
     "output_type": "execute_result"
    },
    {
     "data": {
      "image/png": "[encoded data removed]",
      "text/plain": [
       "<Figure size 1008x576 with 1 Axes>"
      ]
     },
     "metadata": {
      "needs_background": "light"
     },
     "output_type": "display_data"
    },
    {
     "data": {
      "image/png": "[encoded data removed]",
      "text/plain": [
       "<Figure size 1008x576 with 1 Axes>"
      ]
     },
     "metadata": {
      "needs_background": "light"
     },
     "output_type": "display_data"
    }
   ],
   "source": [
    "plt.figure(figsize=(14,8))\n",
    "for filt, col in zip(['g','r','i','z','y'], ['b','g','r','grey', 'k']):\n",
    "    print(filt, col)\n",
    "    plt.scatter(ccm.ratio_du[filt]['ccd_name'], ccm.ratio_du[filt]['median_per_CCD'], c=col, label=filt)\n",
    "    #plt.plot([1,105], [ccm.ratio_du[filt]['median_glob'], ccm.ratio_du[filt]['median_glob']], col, lw=3, label=filt)\n",
    "plt.xlabel('CCD name', fontsize=16)\n",
    "plt.ylabel('astrometric ratio (filter/all)',fontsize=16)\n",
    "#plt.ylabel('astrometric ratio (all/filter)',fontsize=16)\n",
    "plt.legend(fontsize=14, loc=1)\n",
    "plt.title('du', fontsize=16)\n",
    "plt.xticks(fontsize=14)\n",
    "plt.yticks(fontsize=14)\n",
    "plt.xlim(-1, 105)\n",
    "#plt.ylim(0.,5)\n",
    "#plt.savefig('filter_inv_ratio_treerings_du.png')\n",
    "\n",
    "plt.figure(figsize=(14,8))\n",
    "for filt, col in zip(['g','r','i','z','y'], ['b','g','r','grey', 'k']):\n",
    "    plt.scatter(ccm.ratio_dv[filt]['ccd_name'], ccm.ratio_dv[filt]['median_per_CCD'], c=col, label=filt)\n",
    "    #plt.plot([1,105], [ccm.ratio_dv[filt]['median_glob'], ccm.ratio_dv[filt]['median_glob']], col, lw=3, label=filt)\n",
    "plt.xlabel('CCD name', fontsize=16)\n",
    "plt.ylabel('astrometric ratio (filter/all)',fontsize=16)\n",
    "#plt.ylabel('astrometric ratio (all/filter)',fontsize=16)\n",
    "plt.legend(fontsize=14, loc=1)\n",
    "plt.title('dv', fontsize=16)\n",
    "plt.xticks(fontsize=14)\n",
    "plt.yticks(fontsize=14)\n",
    "plt.xlim(-1, 105)\n",
    "plt.ylim(0.,5)\n",
    "#plt.ylim(0.75,1.25)\n",
    "#plt.savefig('filter_inv_ratio_treerings_dv.png')"
   ]
  },
  {
   "cell_type": "code",
   "execution_count": null,
   "metadata": {},
   "outputs": [],
   "source": []
  }
 ],
 "metadata": {
  "kernelspec": {
   "display_name": "Python 3",
   "language": "python",
   "name": "python3"
  },
  "language_info": {
   "codemirror_mode": {
    "name": "ipython",
    "version": 3
   },
   "file_extension": ".py",
   "mimetype": "text/x-python",
   "name": "python",
   "nbconvert_exporter": "python",
   "pygments_lexer": "ipython3",
   "version": "3.7.6"
  }
 },
 "nbformat": 4,
 "nbformat_minor": 4
}
