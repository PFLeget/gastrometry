{
 "cells": [
  {
   "cell_type": "code",
   "execution_count": 1,
   "metadata": {},
   "outputs": [],
   "source": [
    "import galsim\n",
    "import numpy as np\n",
    "import pylab as plt\n",
    "import time\n",
    "%matplotlib inline"
   ]
  },
  {
   "cell_type": "code",
   "execution_count": 2,
   "metadata": {},
   "outputs": [],
   "source": [
    "def add_image(im1, im2):\n",
    "    for i in range(len(im2[0])):\n",
    "        for j in range(len(im2[:,0])):\n",
    "            im1.addValue(j+1, i+1, im2[i,j])\n",
    "    return im1\n",
    "\n",
    "class astro_bias(object):\n",
    "    \n",
    "    def __init__(self, sigma=1., g1=0, g2=0, nx=41, ny=41, pixel_scale=0.2, \n",
    "                 mas=np.sqrt(20.), nreal=1000):\n",
    "        \n",
    "            self.sigma = sigma\n",
    "            self.nx = nx\n",
    "            self.ny = ny \n",
    "            self.pixel_scale = pixel_scale\n",
    "            self.mas = mas\n",
    "            self.nreal = nreal\n",
    "            self.g1 = g1\n",
    "            self.g2 = g2\n",
    "\n",
    "    def get_gaussian_image(self, dx, dy):\n",
    "        \n",
    "        gauss = galsim.Gaussian(sigma=self.sigma, flux=1.)\n",
    "        gauss = gauss.shear(g1=self.g1, g2=self.g2)\n",
    "        gauss = gauss.shift(dx=dx, dy=dy)\n",
    "        image = gauss.drawImage(method='auto', nx=self.nx, ny=self.ny, \n",
    "                                scale=self.pixel_scale)\n",
    "        return image\n",
    "    \n",
    "    def coadds_gal_atmo_shift(self):\n",
    "        \n",
    "        self.image = galsim.Image(self.nx, self.ny, scale=self.pixel_scale)\n",
    "        image_array = np.zeros_like(self.image.array)\n",
    "\n",
    "        for i in range(self.nreal):\n",
    "            dx = np.random.normal(scale=self.mas*1e-3)\n",
    "            dy = np.random.normal(scale=self.mas*1e-3)\n",
    "            im = self.get_gaussian_image(dx, dy)\n",
    "            image_array += im.array\n",
    "        self.image = add_image(self.image, image_array)\n",
    "            \n",
    "    def get_shear(self):\n",
    "        \n",
    "        self.shear = galsim.hsm.FindAdaptiveMom(self.image)\n",
    "        self.observed_g1 = self.shear.observed_shape.g1\n",
    "        self.observed_g2 = self.shear.observed_shape.g2"
   ]
  },
  {
   "cell_type": "code",
   "execution_count": 13,
   "metadata": {},
   "outputs": [
    {
     "name": "stdout",
     "output_type": "stream",
     "text": [
      "0.28284271247461906\n",
      "0.2790984722259268\n"
     ]
    }
   ],
   "source": [
    "A = time.time()\n",
    "ab = astro_bias(sigma=1., g1=0.2, g2=0.2, nx=41, ny=41, pixel_scale=0.2, \n",
    "                mas=np.sqrt(10000.), nreal=1000)\n",
    "ab.coadds_gal_atmo_shift()\n",
    "ab.get_shear()\n",
    "print np.sqrt(ab.g1**2 + ab.g2**2)\n",
    "print np.sqrt(ab.observed_g1**2 + ab.observed_g2**2)\n",
    "B = time.time()"
   ]
  },
  {
   "cell_type": "code",
   "execution_count": 14,
   "metadata": {},
   "outputs": [
    {
     "data": {
      "image/png": "[encoded data removed]",
      "text/plain": [
       "<Figure size 432x288 with 1 Axes>"
      ]
     },
     "metadata": {
      "needs_background": "light"
     },
     "output_type": "display_data"
    },
    {
     "data": {
      "image/png": "[encoded data removed]",
      "text/plain": [
       "<Figure size 432x288 with 1 Axes>"
      ]
     },
     "metadata": {
      "needs_background": "light"
     },
     "output_type": "display_data"
    }
   ],
   "source": [
    "plt.figure()\n",
    "plt.imshow(ab.image.array, vmin=-np.max(ab.image.array), vmax=np.max(ab.image.array), cmap=plt.cm.seismic)\n",
    "plt.gca().invert_yaxis()\n",
    "plt.savefig('test_1_shift_1000_real.pdf')\n",
    "\n",
    "plt.figure()\n",
    "image = ab.get_gaussian_image(0,0)\n",
    "plt.imshow(image.array, vmin=-np.max(image.array), vmax=np.max(image.array), cmap=plt.cm.seismic)\n",
    "plt.gca().invert_yaxis()\n",
    "plt.savefig('test_0.pdf')\n",
    "\n",
    "\n",
    "#ab.mas * 1e-3\n"
   ]
  },
  {
   "cell_type": "code",
   "execution_count": 8,
   "metadata": {},
   "outputs": [
    {
     "data": {
      "text/plain": [
       "0.19928498197618838"
      ]
     },
     "execution_count": 8,
     "metadata": {},
     "output_type": "execute_result"
    }
   ],
   "source": [
    "ab.g1\n",
    "ab.observed_g1"
   ]
  },
  {
   "cell_type": "code",
   "execution_count": null,
   "metadata": {},
   "outputs": [],
   "source": [
    "\n",
    "\n",
    "gauss = galsim.Gaussian(sigma=1., flux=1.)\n",
    "gauss = gauss.shear(g1=0.2, g2=0.2)\n",
    "gauss = gauss.shift(dx=0., dy=0.)\n",
    "image = gauss.drawImage(method='no_pixel', nx=21, ny=21, scale=0.5)\n",
    "\n",
    "#gauss2 = galsim.Gaussian(sigma=1., flux=1.)\n",
    "#gauss2 = gauss2.shear(g1=-0.2, g2=-0.2)\n",
    "#gauss2 = gauss2.shift(dx=2, dy=2)\n",
    "#im2 = gauss2.drawImage(method='no_pixel', nx=21, ny=21, scale=0.5)\n",
    "\n",
    "#image = add_image(im1, im2)\n",
    "\n",
    "plt.imshow(image.array, vmin=-np.max(image.array), vmax=np.max(image.array), cmap=plt.cm.seismic)\n",
    "plt.gca().invert_yaxis()"
   ]
  },
  {
   "cell_type": "code",
   "execution_count": null,
   "metadata": {},
   "outputs": [],
   "source": [
    "#image = galsim.Image(21,21, scale=0.2)"
   ]
  },
  {
   "cell_type": "code",
   "execution_count": null,
   "metadata": {},
   "outputs": [],
   "source": [
    "A = galsim.hsm.FindAdaptiveMom(image)"
   ]
  },
  {
   "cell_type": "code",
   "execution_count": null,
   "metadata": {},
   "outputs": [],
   "source": [
    "A.observed_shape.g1"
   ]
  },
  {
   "cell_type": "code",
   "execution_count": null,
   "metadata": {},
   "outputs": [],
   "source": []
  }
 ],
 "metadata": {
  "kernelspec": {
   "display_name": "Python 2",
   "language": "python",
   "name": "python2"
  },
  "language_info": {
   "codemirror_mode": {
    "name": "ipython",
    "version": 2
   },
   "file_extension": ".py",
   "mimetype": "text/x-python",
   "name": "python",
   "nbconvert_exporter": "python",
   "pygments_lexer": "ipython2",
   "version": "2.7.15"
  }
 },
 "nbformat": 4,
 "nbformat_minor": 2
}
